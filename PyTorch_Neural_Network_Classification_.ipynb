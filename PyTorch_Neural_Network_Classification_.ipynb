{
  "nbformat": 4,
  "nbformat_minor": 0,
  "metadata": {
    "colab": {
      "provenance": [],
      "authorship_tag": "ABX9TyOuby2E5dnHlE8PiO9vqJ6R",
      "include_colab_link": true
    },
    "kernelspec": {
      "name": "python3",
      "display_name": "Python 3"
    },
    "language_info": {
      "name": "python"
    }
  },
  "cells": [
    {
      "cell_type": "markdown",
      "metadata": {
        "id": "view-in-github",
        "colab_type": "text"
      },
      "source": [
        "<a href=\"https://colab.research.google.com/github/tincorpai/Deep_Learning_Pytorch/blob/master/PyTorch_Neural_Network_Classification_.ipynb\" target=\"_parent\"><img src=\"https://colab.research.google.com/assets/colab-badge.svg\" alt=\"Open In Colab\"/></a>"
      ]
    },
    {
      "cell_type": "markdown",
      "source": [
        "# PyTorch Neural Network Classification"
      ],
      "metadata": {
        "id": "DJVc7ipIsMOI"
      }
    },
    {
      "cell_type": "code",
      "source": [],
      "metadata": {
        "id": "JSwp_aQ3tKnz"
      },
      "execution_count": null,
      "outputs": []
    }
  ]
}
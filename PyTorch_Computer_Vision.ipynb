{
  "nbformat": 4,
  "nbformat_minor": 0,
  "metadata": {
    "colab": {
      "provenance": [],
      "authorship_tag": "ABX9TyNvG+GzOs0tYoUyJaEwMWYH",
      "include_colab_link": true
    },
    "kernelspec": {
      "name": "python3",
      "display_name": "Python 3"
    },
    "language_info": {
      "name": "python"
    },
    "accelerator": "GPU",
    "gpuClass": "standard",
    "widgets": {
      "application/vnd.jupyter.widget-state+json": {
        "e53fe32fd17944c3bfc738af00ee8e8b": {
          "model_module": "@jupyter-widgets/controls",
          "model_name": "HBoxModel",
          "model_module_version": "1.5.0",
          "state": {
            "_dom_classes": [],
            "_model_module": "@jupyter-widgets/controls",
            "_model_module_version": "1.5.0",
            "_model_name": "HBoxModel",
            "_view_count": null,
            "_view_module": "@jupyter-widgets/controls",
            "_view_module_version": "1.5.0",
            "_view_name": "HBoxView",
            "box_style": "",
            "children": [
              "IPY_MODEL_1ffa4f05a4be457185580a60a53c0114",
              "IPY_MODEL_8e46f4a2db404ebf93c2027fde4143e9",
              "IPY_MODEL_109dd136478947bb9c56315d048c19db"
            ],
            "layout": "IPY_MODEL_b94b376d74154e6daf627ac3d3f06088"
          }
        },
        "1ffa4f05a4be457185580a60a53c0114": {
          "model_module": "@jupyter-widgets/controls",
          "model_name": "HTMLModel",
          "model_module_version": "1.5.0",
          "state": {
            "_dom_classes": [],
            "_model_module": "@jupyter-widgets/controls",
            "_model_module_version": "1.5.0",
            "_model_name": "HTMLModel",
            "_view_count": null,
            "_view_module": "@jupyter-widgets/controls",
            "_view_module_version": "1.5.0",
            "_view_name": "HTMLView",
            "description": "",
            "description_tooltip": null,
            "layout": "IPY_MODEL_36efa7fcbc654d9a9c706f21ecf3944f",
            "placeholder": "​",
            "style": "IPY_MODEL_a9f913b44f034fefa1d5d6e3cde540d0",
            "value": "100%"
          }
        },
        "8e46f4a2db404ebf93c2027fde4143e9": {
          "model_module": "@jupyter-widgets/controls",
          "model_name": "FloatProgressModel",
          "model_module_version": "1.5.0",
          "state": {
            "_dom_classes": [],
            "_model_module": "@jupyter-widgets/controls",
            "_model_module_version": "1.5.0",
            "_model_name": "FloatProgressModel",
            "_view_count": null,
            "_view_module": "@jupyter-widgets/controls",
            "_view_module_version": "1.5.0",
            "_view_name": "ProgressView",
            "bar_style": "success",
            "description": "",
            "description_tooltip": null,
            "layout": "IPY_MODEL_9baa3db8bfaf4b67879bb32083b308c0",
            "max": 26421880,
            "min": 0,
            "orientation": "horizontal",
            "style": "IPY_MODEL_11a6bcc508a54cc29dcb80e6bba6bfc0",
            "value": 26421880
          }
        },
        "109dd136478947bb9c56315d048c19db": {
          "model_module": "@jupyter-widgets/controls",
          "model_name": "HTMLModel",
          "model_module_version": "1.5.0",
          "state": {
            "_dom_classes": [],
            "_model_module": "@jupyter-widgets/controls",
            "_model_module_version": "1.5.0",
            "_model_name": "HTMLModel",
            "_view_count": null,
            "_view_module": "@jupyter-widgets/controls",
            "_view_module_version": "1.5.0",
            "_view_name": "HTMLView",
            "description": "",
            "description_tooltip": null,
            "layout": "IPY_MODEL_e8101944c4fe41f4a038edef40ec6266",
            "placeholder": "​",
            "style": "IPY_MODEL_aad75b99640140cca806825cab547a82",
            "value": " 26421880/26421880 [00:01&lt;00:00, 23319963.98it/s]"
          }
        },
        "b94b376d74154e6daf627ac3d3f06088": {
          "model_module": "@jupyter-widgets/base",
          "model_name": "LayoutModel",
          "model_module_version": "1.2.0",
          "state": {
            "_model_module": "@jupyter-widgets/base",
            "_model_module_version": "1.2.0",
            "_model_name": "LayoutModel",
            "_view_count": null,
            "_view_module": "@jupyter-widgets/base",
            "_view_module_version": "1.2.0",
            "_view_name": "LayoutView",
            "align_content": null,
            "align_items": null,
            "align_self": null,
            "border": null,
            "bottom": null,
            "display": null,
            "flex": null,
            "flex_flow": null,
            "grid_area": null,
            "grid_auto_columns": null,
            "grid_auto_flow": null,
            "grid_auto_rows": null,
            "grid_column": null,
            "grid_gap": null,
            "grid_row": null,
            "grid_template_areas": null,
            "grid_template_columns": null,
            "grid_template_rows": null,
            "height": null,
            "justify_content": null,
            "justify_items": null,
            "left": null,
            "margin": null,
            "max_height": null,
            "max_width": null,
            "min_height": null,
            "min_width": null,
            "object_fit": null,
            "object_position": null,
            "order": null,
            "overflow": null,
            "overflow_x": null,
            "overflow_y": null,
            "padding": null,
            "right": null,
            "top": null,
            "visibility": null,
            "width": null
          }
        },
        "36efa7fcbc654d9a9c706f21ecf3944f": {
          "model_module": "@jupyter-widgets/base",
          "model_name": "LayoutModel",
          "model_module_version": "1.2.0",
          "state": {
            "_model_module": "@jupyter-widgets/base",
            "_model_module_version": "1.2.0",
            "_model_name": "LayoutModel",
            "_view_count": null,
            "_view_module": "@jupyter-widgets/base",
            "_view_module_version": "1.2.0",
            "_view_name": "LayoutView",
            "align_content": null,
            "align_items": null,
            "align_self": null,
            "border": null,
            "bottom": null,
            "display": null,
            "flex": null,
            "flex_flow": null,
            "grid_area": null,
            "grid_auto_columns": null,
            "grid_auto_flow": null,
            "grid_auto_rows": null,
            "grid_column": null,
            "grid_gap": null,
            "grid_row": null,
            "grid_template_areas": null,
            "grid_template_columns": null,
            "grid_template_rows": null,
            "height": null,
            "justify_content": null,
            "justify_items": null,
            "left": null,
            "margin": null,
            "max_height": null,
            "max_width": null,
            "min_height": null,
            "min_width": null,
            "object_fit": null,
            "object_position": null,
            "order": null,
            "overflow": null,
            "overflow_x": null,
            "overflow_y": null,
            "padding": null,
            "right": null,
            "top": null,
            "visibility": null,
            "width": null
          }
        },
        "a9f913b44f034fefa1d5d6e3cde540d0": {
          "model_module": "@jupyter-widgets/controls",
          "model_name": "DescriptionStyleModel",
          "model_module_version": "1.5.0",
          "state": {
            "_model_module": "@jupyter-widgets/controls",
            "_model_module_version": "1.5.0",
            "_model_name": "DescriptionStyleModel",
            "_view_count": null,
            "_view_module": "@jupyter-widgets/base",
            "_view_module_version": "1.2.0",
            "_view_name": "StyleView",
            "description_width": ""
          }
        },
        "9baa3db8bfaf4b67879bb32083b308c0": {
          "model_module": "@jupyter-widgets/base",
          "model_name": "LayoutModel",
          "model_module_version": "1.2.0",
          "state": {
            "_model_module": "@jupyter-widgets/base",
            "_model_module_version": "1.2.0",
            "_model_name": "LayoutModel",
            "_view_count": null,
            "_view_module": "@jupyter-widgets/base",
            "_view_module_version": "1.2.0",
            "_view_name": "LayoutView",
            "align_content": null,
            "align_items": null,
            "align_self": null,
            "border": null,
            "bottom": null,
            "display": null,
            "flex": null,
            "flex_flow": null,
            "grid_area": null,
            "grid_auto_columns": null,
            "grid_auto_flow": null,
            "grid_auto_rows": null,
            "grid_column": null,
            "grid_gap": null,
            "grid_row": null,
            "grid_template_areas": null,
            "grid_template_columns": null,
            "grid_template_rows": null,
            "height": null,
            "justify_content": null,
            "justify_items": null,
            "left": null,
            "margin": null,
            "max_height": null,
            "max_width": null,
            "min_height": null,
            "min_width": null,
            "object_fit": null,
            "object_position": null,
            "order": null,
            "overflow": null,
            "overflow_x": null,
            "overflow_y": null,
            "padding": null,
            "right": null,
            "top": null,
            "visibility": null,
            "width": null
          }
        },
        "11a6bcc508a54cc29dcb80e6bba6bfc0": {
          "model_module": "@jupyter-widgets/controls",
          "model_name": "ProgressStyleModel",
          "model_module_version": "1.5.0",
          "state": {
            "_model_module": "@jupyter-widgets/controls",
            "_model_module_version": "1.5.0",
            "_model_name": "ProgressStyleModel",
            "_view_count": null,
            "_view_module": "@jupyter-widgets/base",
            "_view_module_version": "1.2.0",
            "_view_name": "StyleView",
            "bar_color": null,
            "description_width": ""
          }
        },
        "e8101944c4fe41f4a038edef40ec6266": {
          "model_module": "@jupyter-widgets/base",
          "model_name": "LayoutModel",
          "model_module_version": "1.2.0",
          "state": {
            "_model_module": "@jupyter-widgets/base",
            "_model_module_version": "1.2.0",
            "_model_name": "LayoutModel",
            "_view_count": null,
            "_view_module": "@jupyter-widgets/base",
            "_view_module_version": "1.2.0",
            "_view_name": "LayoutView",
            "align_content": null,
            "align_items": null,
            "align_self": null,
            "border": null,
            "bottom": null,
            "display": null,
            "flex": null,
            "flex_flow": null,
            "grid_area": null,
            "grid_auto_columns": null,
            "grid_auto_flow": null,
            "grid_auto_rows": null,
            "grid_column": null,
            "grid_gap": null,
            "grid_row": null,
            "grid_template_areas": null,
            "grid_template_columns": null,
            "grid_template_rows": null,
            "height": null,
            "justify_content": null,
            "justify_items": null,
            "left": null,
            "margin": null,
            "max_height": null,
            "max_width": null,
            "min_height": null,
            "min_width": null,
            "object_fit": null,
            "object_position": null,
            "order": null,
            "overflow": null,
            "overflow_x": null,
            "overflow_y": null,
            "padding": null,
            "right": null,
            "top": null,
            "visibility": null,
            "width": null
          }
        },
        "aad75b99640140cca806825cab547a82": {
          "model_module": "@jupyter-widgets/controls",
          "model_name": "DescriptionStyleModel",
          "model_module_version": "1.5.0",
          "state": {
            "_model_module": "@jupyter-widgets/controls",
            "_model_module_version": "1.5.0",
            "_model_name": "DescriptionStyleModel",
            "_view_count": null,
            "_view_module": "@jupyter-widgets/base",
            "_view_module_version": "1.2.0",
            "_view_name": "StyleView",
            "description_width": ""
          }
        },
        "208a6fa0e5e24b4a875de555d2620c62": {
          "model_module": "@jupyter-widgets/controls",
          "model_name": "HBoxModel",
          "model_module_version": "1.5.0",
          "state": {
            "_dom_classes": [],
            "_model_module": "@jupyter-widgets/controls",
            "_model_module_version": "1.5.0",
            "_model_name": "HBoxModel",
            "_view_count": null,
            "_view_module": "@jupyter-widgets/controls",
            "_view_module_version": "1.5.0",
            "_view_name": "HBoxView",
            "box_style": "",
            "children": [
              "IPY_MODEL_4d18628d211742adb4a9a62103d5bfc2",
              "IPY_MODEL_dc32064a567243f6b62225ffaa8398a2",
              "IPY_MODEL_99a2403d43854986acd3ac2f55b99ba6"
            ],
            "layout": "IPY_MODEL_a79bac9904824deb9223eaab12476b0a"
          }
        },
        "4d18628d211742adb4a9a62103d5bfc2": {
          "model_module": "@jupyter-widgets/controls",
          "model_name": "HTMLModel",
          "model_module_version": "1.5.0",
          "state": {
            "_dom_classes": [],
            "_model_module": "@jupyter-widgets/controls",
            "_model_module_version": "1.5.0",
            "_model_name": "HTMLModel",
            "_view_count": null,
            "_view_module": "@jupyter-widgets/controls",
            "_view_module_version": "1.5.0",
            "_view_name": "HTMLView",
            "description": "",
            "description_tooltip": null,
            "layout": "IPY_MODEL_5b455e880df14c329f19a7ca06bcb62c",
            "placeholder": "​",
            "style": "IPY_MODEL_df8aeca0a3e6490d82b49ac7a5e97771",
            "value": "100%"
          }
        },
        "dc32064a567243f6b62225ffaa8398a2": {
          "model_module": "@jupyter-widgets/controls",
          "model_name": "FloatProgressModel",
          "model_module_version": "1.5.0",
          "state": {
            "_dom_classes": [],
            "_model_module": "@jupyter-widgets/controls",
            "_model_module_version": "1.5.0",
            "_model_name": "FloatProgressModel",
            "_view_count": null,
            "_view_module": "@jupyter-widgets/controls",
            "_view_module_version": "1.5.0",
            "_view_name": "ProgressView",
            "bar_style": "success",
            "description": "",
            "description_tooltip": null,
            "layout": "IPY_MODEL_320ae51c4359482a9c979fdb30049977",
            "max": 29515,
            "min": 0,
            "orientation": "horizontal",
            "style": "IPY_MODEL_0fd32d1afc8a4b489571e0a40400a8b4",
            "value": 29515
          }
        },
        "99a2403d43854986acd3ac2f55b99ba6": {
          "model_module": "@jupyter-widgets/controls",
          "model_name": "HTMLModel",
          "model_module_version": "1.5.0",
          "state": {
            "_dom_classes": [],
            "_model_module": "@jupyter-widgets/controls",
            "_model_module_version": "1.5.0",
            "_model_name": "HTMLModel",
            "_view_count": null,
            "_view_module": "@jupyter-widgets/controls",
            "_view_module_version": "1.5.0",
            "_view_name": "HTMLView",
            "description": "",
            "description_tooltip": null,
            "layout": "IPY_MODEL_2b6b5e9040e249d9b3e3eb25126a0438",
            "placeholder": "​",
            "style": "IPY_MODEL_684431aaf3a04d3bbe7a746b0fd6cdeb",
            "value": " 29515/29515 [00:00&lt;00:00, 304343.80it/s]"
          }
        },
        "a79bac9904824deb9223eaab12476b0a": {
          "model_module": "@jupyter-widgets/base",
          "model_name": "LayoutModel",
          "model_module_version": "1.2.0",
          "state": {
            "_model_module": "@jupyter-widgets/base",
            "_model_module_version": "1.2.0",
            "_model_name": "LayoutModel",
            "_view_count": null,
            "_view_module": "@jupyter-widgets/base",
            "_view_module_version": "1.2.0",
            "_view_name": "LayoutView",
            "align_content": null,
            "align_items": null,
            "align_self": null,
            "border": null,
            "bottom": null,
            "display": null,
            "flex": null,
            "flex_flow": null,
            "grid_area": null,
            "grid_auto_columns": null,
            "grid_auto_flow": null,
            "grid_auto_rows": null,
            "grid_column": null,
            "grid_gap": null,
            "grid_row": null,
            "grid_template_areas": null,
            "grid_template_columns": null,
            "grid_template_rows": null,
            "height": null,
            "justify_content": null,
            "justify_items": null,
            "left": null,
            "margin": null,
            "max_height": null,
            "max_width": null,
            "min_height": null,
            "min_width": null,
            "object_fit": null,
            "object_position": null,
            "order": null,
            "overflow": null,
            "overflow_x": null,
            "overflow_y": null,
            "padding": null,
            "right": null,
            "top": null,
            "visibility": null,
            "width": null
          }
        },
        "5b455e880df14c329f19a7ca06bcb62c": {
          "model_module": "@jupyter-widgets/base",
          "model_name": "LayoutModel",
          "model_module_version": "1.2.0",
          "state": {
            "_model_module": "@jupyter-widgets/base",
            "_model_module_version": "1.2.0",
            "_model_name": "LayoutModel",
            "_view_count": null,
            "_view_module": "@jupyter-widgets/base",
            "_view_module_version": "1.2.0",
            "_view_name": "LayoutView",
            "align_content": null,
            "align_items": null,
            "align_self": null,
            "border": null,
            "bottom": null,
            "display": null,
            "flex": null,
            "flex_flow": null,
            "grid_area": null,
            "grid_auto_columns": null,
            "grid_auto_flow": null,
            "grid_auto_rows": null,
            "grid_column": null,
            "grid_gap": null,
            "grid_row": null,
            "grid_template_areas": null,
            "grid_template_columns": null,
            "grid_template_rows": null,
            "height": null,
            "justify_content": null,
            "justify_items": null,
            "left": null,
            "margin": null,
            "max_height": null,
            "max_width": null,
            "min_height": null,
            "min_width": null,
            "object_fit": null,
            "object_position": null,
            "order": null,
            "overflow": null,
            "overflow_x": null,
            "overflow_y": null,
            "padding": null,
            "right": null,
            "top": null,
            "visibility": null,
            "width": null
          }
        },
        "df8aeca0a3e6490d82b49ac7a5e97771": {
          "model_module": "@jupyter-widgets/controls",
          "model_name": "DescriptionStyleModel",
          "model_module_version": "1.5.0",
          "state": {
            "_model_module": "@jupyter-widgets/controls",
            "_model_module_version": "1.5.0",
            "_model_name": "DescriptionStyleModel",
            "_view_count": null,
            "_view_module": "@jupyter-widgets/base",
            "_view_module_version": "1.2.0",
            "_view_name": "StyleView",
            "description_width": ""
          }
        },
        "320ae51c4359482a9c979fdb30049977": {
          "model_module": "@jupyter-widgets/base",
          "model_name": "LayoutModel",
          "model_module_version": "1.2.0",
          "state": {
            "_model_module": "@jupyter-widgets/base",
            "_model_module_version": "1.2.0",
            "_model_name": "LayoutModel",
            "_view_count": null,
            "_view_module": "@jupyter-widgets/base",
            "_view_module_version": "1.2.0",
            "_view_name": "LayoutView",
            "align_content": null,
            "align_items": null,
            "align_self": null,
            "border": null,
            "bottom": null,
            "display": null,
            "flex": null,
            "flex_flow": null,
            "grid_area": null,
            "grid_auto_columns": null,
            "grid_auto_flow": null,
            "grid_auto_rows": null,
            "grid_column": null,
            "grid_gap": null,
            "grid_row": null,
            "grid_template_areas": null,
            "grid_template_columns": null,
            "grid_template_rows": null,
            "height": null,
            "justify_content": null,
            "justify_items": null,
            "left": null,
            "margin": null,
            "max_height": null,
            "max_width": null,
            "min_height": null,
            "min_width": null,
            "object_fit": null,
            "object_position": null,
            "order": null,
            "overflow": null,
            "overflow_x": null,
            "overflow_y": null,
            "padding": null,
            "right": null,
            "top": null,
            "visibility": null,
            "width": null
          }
        },
        "0fd32d1afc8a4b489571e0a40400a8b4": {
          "model_module": "@jupyter-widgets/controls",
          "model_name": "ProgressStyleModel",
          "model_module_version": "1.5.0",
          "state": {
            "_model_module": "@jupyter-widgets/controls",
            "_model_module_version": "1.5.0",
            "_model_name": "ProgressStyleModel",
            "_view_count": null,
            "_view_module": "@jupyter-widgets/base",
            "_view_module_version": "1.2.0",
            "_view_name": "StyleView",
            "bar_color": null,
            "description_width": ""
          }
        },
        "2b6b5e9040e249d9b3e3eb25126a0438": {
          "model_module": "@jupyter-widgets/base",
          "model_name": "LayoutModel",
          "model_module_version": "1.2.0",
          "state": {
            "_model_module": "@jupyter-widgets/base",
            "_model_module_version": "1.2.0",
            "_model_name": "LayoutModel",
            "_view_count": null,
            "_view_module": "@jupyter-widgets/base",
            "_view_module_version": "1.2.0",
            "_view_name": "LayoutView",
            "align_content": null,
            "align_items": null,
            "align_self": null,
            "border": null,
            "bottom": null,
            "display": null,
            "flex": null,
            "flex_flow": null,
            "grid_area": null,
            "grid_auto_columns": null,
            "grid_auto_flow": null,
            "grid_auto_rows": null,
            "grid_column": null,
            "grid_gap": null,
            "grid_row": null,
            "grid_template_areas": null,
            "grid_template_columns": null,
            "grid_template_rows": null,
            "height": null,
            "justify_content": null,
            "justify_items": null,
            "left": null,
            "margin": null,
            "max_height": null,
            "max_width": null,
            "min_height": null,
            "min_width": null,
            "object_fit": null,
            "object_position": null,
            "order": null,
            "overflow": null,
            "overflow_x": null,
            "overflow_y": null,
            "padding": null,
            "right": null,
            "top": null,
            "visibility": null,
            "width": null
          }
        },
        "684431aaf3a04d3bbe7a746b0fd6cdeb": {
          "model_module": "@jupyter-widgets/controls",
          "model_name": "DescriptionStyleModel",
          "model_module_version": "1.5.0",
          "state": {
            "_model_module": "@jupyter-widgets/controls",
            "_model_module_version": "1.5.0",
            "_model_name": "DescriptionStyleModel",
            "_view_count": null,
            "_view_module": "@jupyter-widgets/base",
            "_view_module_version": "1.2.0",
            "_view_name": "StyleView",
            "description_width": ""
          }
        },
        "6ec2fbd8f4a345338d006797a833bf8c": {
          "model_module": "@jupyter-widgets/controls",
          "model_name": "HBoxModel",
          "model_module_version": "1.5.0",
          "state": {
            "_dom_classes": [],
            "_model_module": "@jupyter-widgets/controls",
            "_model_module_version": "1.5.0",
            "_model_name": "HBoxModel",
            "_view_count": null,
            "_view_module": "@jupyter-widgets/controls",
            "_view_module_version": "1.5.0",
            "_view_name": "HBoxView",
            "box_style": "",
            "children": [
              "IPY_MODEL_fc9d43364ac340a491f355e1a4e5415b",
              "IPY_MODEL_fad85e99ffc94d8f98bb03fdf11fd7d1",
              "IPY_MODEL_5ab95978ebe34d0a8dd6a58fbf62e064"
            ],
            "layout": "IPY_MODEL_926f71476d9f4909854ded37360bad15"
          }
        },
        "fc9d43364ac340a491f355e1a4e5415b": {
          "model_module": "@jupyter-widgets/controls",
          "model_name": "HTMLModel",
          "model_module_version": "1.5.0",
          "state": {
            "_dom_classes": [],
            "_model_module": "@jupyter-widgets/controls",
            "_model_module_version": "1.5.0",
            "_model_name": "HTMLModel",
            "_view_count": null,
            "_view_module": "@jupyter-widgets/controls",
            "_view_module_version": "1.5.0",
            "_view_name": "HTMLView",
            "description": "",
            "description_tooltip": null,
            "layout": "IPY_MODEL_32a9e3feaf9246eb8f6aaf286407582f",
            "placeholder": "​",
            "style": "IPY_MODEL_759ae2b74eff42e98a21ded8767f6cde",
            "value": "100%"
          }
        },
        "fad85e99ffc94d8f98bb03fdf11fd7d1": {
          "model_module": "@jupyter-widgets/controls",
          "model_name": "FloatProgressModel",
          "model_module_version": "1.5.0",
          "state": {
            "_dom_classes": [],
            "_model_module": "@jupyter-widgets/controls",
            "_model_module_version": "1.5.0",
            "_model_name": "FloatProgressModel",
            "_view_count": null,
            "_view_module": "@jupyter-widgets/controls",
            "_view_module_version": "1.5.0",
            "_view_name": "ProgressView",
            "bar_style": "success",
            "description": "",
            "description_tooltip": null,
            "layout": "IPY_MODEL_17492835c133426897fe509c117c3377",
            "max": 4422102,
            "min": 0,
            "orientation": "horizontal",
            "style": "IPY_MODEL_23ad8569943642559c95c531aed267c4",
            "value": 4422102
          }
        },
        "5ab95978ebe34d0a8dd6a58fbf62e064": {
          "model_module": "@jupyter-widgets/controls",
          "model_name": "HTMLModel",
          "model_module_version": "1.5.0",
          "state": {
            "_dom_classes": [],
            "_model_module": "@jupyter-widgets/controls",
            "_model_module_version": "1.5.0",
            "_model_name": "HTMLModel",
            "_view_count": null,
            "_view_module": "@jupyter-widgets/controls",
            "_view_module_version": "1.5.0",
            "_view_name": "HTMLView",
            "description": "",
            "description_tooltip": null,
            "layout": "IPY_MODEL_28b531c15c9c4feaac21e100f7900835",
            "placeholder": "​",
            "style": "IPY_MODEL_9d26a779a8ec4120a9b49c790a1bcf8d",
            "value": " 4422102/4422102 [00:04&lt;00:00, 1162192.08it/s]"
          }
        },
        "926f71476d9f4909854ded37360bad15": {
          "model_module": "@jupyter-widgets/base",
          "model_name": "LayoutModel",
          "model_module_version": "1.2.0",
          "state": {
            "_model_module": "@jupyter-widgets/base",
            "_model_module_version": "1.2.0",
            "_model_name": "LayoutModel",
            "_view_count": null,
            "_view_module": "@jupyter-widgets/base",
            "_view_module_version": "1.2.0",
            "_view_name": "LayoutView",
            "align_content": null,
            "align_items": null,
            "align_self": null,
            "border": null,
            "bottom": null,
            "display": null,
            "flex": null,
            "flex_flow": null,
            "grid_area": null,
            "grid_auto_columns": null,
            "grid_auto_flow": null,
            "grid_auto_rows": null,
            "grid_column": null,
            "grid_gap": null,
            "grid_row": null,
            "grid_template_areas": null,
            "grid_template_columns": null,
            "grid_template_rows": null,
            "height": null,
            "justify_content": null,
            "justify_items": null,
            "left": null,
            "margin": null,
            "max_height": null,
            "max_width": null,
            "min_height": null,
            "min_width": null,
            "object_fit": null,
            "object_position": null,
            "order": null,
            "overflow": null,
            "overflow_x": null,
            "overflow_y": null,
            "padding": null,
            "right": null,
            "top": null,
            "visibility": null,
            "width": null
          }
        },
        "32a9e3feaf9246eb8f6aaf286407582f": {
          "model_module": "@jupyter-widgets/base",
          "model_name": "LayoutModel",
          "model_module_version": "1.2.0",
          "state": {
            "_model_module": "@jupyter-widgets/base",
            "_model_module_version": "1.2.0",
            "_model_name": "LayoutModel",
            "_view_count": null,
            "_view_module": "@jupyter-widgets/base",
            "_view_module_version": "1.2.0",
            "_view_name": "LayoutView",
            "align_content": null,
            "align_items": null,
            "align_self": null,
            "border": null,
            "bottom": null,
            "display": null,
            "flex": null,
            "flex_flow": null,
            "grid_area": null,
            "grid_auto_columns": null,
            "grid_auto_flow": null,
            "grid_auto_rows": null,
            "grid_column": null,
            "grid_gap": null,
            "grid_row": null,
            "grid_template_areas": null,
            "grid_template_columns": null,
            "grid_template_rows": null,
            "height": null,
            "justify_content": null,
            "justify_items": null,
            "left": null,
            "margin": null,
            "max_height": null,
            "max_width": null,
            "min_height": null,
            "min_width": null,
            "object_fit": null,
            "object_position": null,
            "order": null,
            "overflow": null,
            "overflow_x": null,
            "overflow_y": null,
            "padding": null,
            "right": null,
            "top": null,
            "visibility": null,
            "width": null
          }
        },
        "759ae2b74eff42e98a21ded8767f6cde": {
          "model_module": "@jupyter-widgets/controls",
          "model_name": "DescriptionStyleModel",
          "model_module_version": "1.5.0",
          "state": {
            "_model_module": "@jupyter-widgets/controls",
            "_model_module_version": "1.5.0",
            "_model_name": "DescriptionStyleModel",
            "_view_count": null,
            "_view_module": "@jupyter-widgets/base",
            "_view_module_version": "1.2.0",
            "_view_name": "StyleView",
            "description_width": ""
          }
        },
        "17492835c133426897fe509c117c3377": {
          "model_module": "@jupyter-widgets/base",
          "model_name": "LayoutModel",
          "model_module_version": "1.2.0",
          "state": {
            "_model_module": "@jupyter-widgets/base",
            "_model_module_version": "1.2.0",
            "_model_name": "LayoutModel",
            "_view_count": null,
            "_view_module": "@jupyter-widgets/base",
            "_view_module_version": "1.2.0",
            "_view_name": "LayoutView",
            "align_content": null,
            "align_items": null,
            "align_self": null,
            "border": null,
            "bottom": null,
            "display": null,
            "flex": null,
            "flex_flow": null,
            "grid_area": null,
            "grid_auto_columns": null,
            "grid_auto_flow": null,
            "grid_auto_rows": null,
            "grid_column": null,
            "grid_gap": null,
            "grid_row": null,
            "grid_template_areas": null,
            "grid_template_columns": null,
            "grid_template_rows": null,
            "height": null,
            "justify_content": null,
            "justify_items": null,
            "left": null,
            "margin": null,
            "max_height": null,
            "max_width": null,
            "min_height": null,
            "min_width": null,
            "object_fit": null,
            "object_position": null,
            "order": null,
            "overflow": null,
            "overflow_x": null,
            "overflow_y": null,
            "padding": null,
            "right": null,
            "top": null,
            "visibility": null,
            "width": null
          }
        },
        "23ad8569943642559c95c531aed267c4": {
          "model_module": "@jupyter-widgets/controls",
          "model_name": "ProgressStyleModel",
          "model_module_version": "1.5.0",
          "state": {
            "_model_module": "@jupyter-widgets/controls",
            "_model_module_version": "1.5.0",
            "_model_name": "ProgressStyleModel",
            "_view_count": null,
            "_view_module": "@jupyter-widgets/base",
            "_view_module_version": "1.2.0",
            "_view_name": "StyleView",
            "bar_color": null,
            "description_width": ""
          }
        },
        "28b531c15c9c4feaac21e100f7900835": {
          "model_module": "@jupyter-widgets/base",
          "model_name": "LayoutModel",
          "model_module_version": "1.2.0",
          "state": {
            "_model_module": "@jupyter-widgets/base",
            "_model_module_version": "1.2.0",
            "_model_name": "LayoutModel",
            "_view_count": null,
            "_view_module": "@jupyter-widgets/base",
            "_view_module_version": "1.2.0",
            "_view_name": "LayoutView",
            "align_content": null,
            "align_items": null,
            "align_self": null,
            "border": null,
            "bottom": null,
            "display": null,
            "flex": null,
            "flex_flow": null,
            "grid_area": null,
            "grid_auto_columns": null,
            "grid_auto_flow": null,
            "grid_auto_rows": null,
            "grid_column": null,
            "grid_gap": null,
            "grid_row": null,
            "grid_template_areas": null,
            "grid_template_columns": null,
            "grid_template_rows": null,
            "height": null,
            "justify_content": null,
            "justify_items": null,
            "left": null,
            "margin": null,
            "max_height": null,
            "max_width": null,
            "min_height": null,
            "min_width": null,
            "object_fit": null,
            "object_position": null,
            "order": null,
            "overflow": null,
            "overflow_x": null,
            "overflow_y": null,
            "padding": null,
            "right": null,
            "top": null,
            "visibility": null,
            "width": null
          }
        },
        "9d26a779a8ec4120a9b49c790a1bcf8d": {
          "model_module": "@jupyter-widgets/controls",
          "model_name": "DescriptionStyleModel",
          "model_module_version": "1.5.0",
          "state": {
            "_model_module": "@jupyter-widgets/controls",
            "_model_module_version": "1.5.0",
            "_model_name": "DescriptionStyleModel",
            "_view_count": null,
            "_view_module": "@jupyter-widgets/base",
            "_view_module_version": "1.2.0",
            "_view_name": "StyleView",
            "description_width": ""
          }
        },
        "7328daffdf874166ad57dd22577bca9e": {
          "model_module": "@jupyter-widgets/controls",
          "model_name": "HBoxModel",
          "model_module_version": "1.5.0",
          "state": {
            "_dom_classes": [],
            "_model_module": "@jupyter-widgets/controls",
            "_model_module_version": "1.5.0",
            "_model_name": "HBoxModel",
            "_view_count": null,
            "_view_module": "@jupyter-widgets/controls",
            "_view_module_version": "1.5.0",
            "_view_name": "HBoxView",
            "box_style": "",
            "children": [
              "IPY_MODEL_d24032868b534ec3b9b3cf15992fbae1",
              "IPY_MODEL_20b1f8e346b04257bd15c9e0881e8c36",
              "IPY_MODEL_fae756477f4544b6a876216698954df6"
            ],
            "layout": "IPY_MODEL_ad1eb02034654c97a9515e8c89f7cdd7"
          }
        },
        "d24032868b534ec3b9b3cf15992fbae1": {
          "model_module": "@jupyter-widgets/controls",
          "model_name": "HTMLModel",
          "model_module_version": "1.5.0",
          "state": {
            "_dom_classes": [],
            "_model_module": "@jupyter-widgets/controls",
            "_model_module_version": "1.5.0",
            "_model_name": "HTMLModel",
            "_view_count": null,
            "_view_module": "@jupyter-widgets/controls",
            "_view_module_version": "1.5.0",
            "_view_name": "HTMLView",
            "description": "",
            "description_tooltip": null,
            "layout": "IPY_MODEL_d4636ef953a24d5f994a40659fc628ed",
            "placeholder": "​",
            "style": "IPY_MODEL_b279b60e78cb4a799890551c29d58741",
            "value": "100%"
          }
        },
        "20b1f8e346b04257bd15c9e0881e8c36": {
          "model_module": "@jupyter-widgets/controls",
          "model_name": "FloatProgressModel",
          "model_module_version": "1.5.0",
          "state": {
            "_dom_classes": [],
            "_model_module": "@jupyter-widgets/controls",
            "_model_module_version": "1.5.0",
            "_model_name": "FloatProgressModel",
            "_view_count": null,
            "_view_module": "@jupyter-widgets/controls",
            "_view_module_version": "1.5.0",
            "_view_name": "ProgressView",
            "bar_style": "success",
            "description": "",
            "description_tooltip": null,
            "layout": "IPY_MODEL_cc3fc306bd454b1eb109c4a4e9a3d33f",
            "max": 5148,
            "min": 0,
            "orientation": "horizontal",
            "style": "IPY_MODEL_5805488d9de341449c31257bd8fea664",
            "value": 5148
          }
        },
        "fae756477f4544b6a876216698954df6": {
          "model_module": "@jupyter-widgets/controls",
          "model_name": "HTMLModel",
          "model_module_version": "1.5.0",
          "state": {
            "_dom_classes": [],
            "_model_module": "@jupyter-widgets/controls",
            "_model_module_version": "1.5.0",
            "_model_name": "HTMLModel",
            "_view_count": null,
            "_view_module": "@jupyter-widgets/controls",
            "_view_module_version": "1.5.0",
            "_view_name": "HTMLView",
            "description": "",
            "description_tooltip": null,
            "layout": "IPY_MODEL_8887a7eab5404d2789644bc3b6a6341e",
            "placeholder": "​",
            "style": "IPY_MODEL_1b7f0265ba0440e9b8c1be8306c78967",
            "value": " 5148/5148 [00:00&lt;00:00, 127690.91it/s]"
          }
        },
        "ad1eb02034654c97a9515e8c89f7cdd7": {
          "model_module": "@jupyter-widgets/base",
          "model_name": "LayoutModel",
          "model_module_version": "1.2.0",
          "state": {
            "_model_module": "@jupyter-widgets/base",
            "_model_module_version": "1.2.0",
            "_model_name": "LayoutModel",
            "_view_count": null,
            "_view_module": "@jupyter-widgets/base",
            "_view_module_version": "1.2.0",
            "_view_name": "LayoutView",
            "align_content": null,
            "align_items": null,
            "align_self": null,
            "border": null,
            "bottom": null,
            "display": null,
            "flex": null,
            "flex_flow": null,
            "grid_area": null,
            "grid_auto_columns": null,
            "grid_auto_flow": null,
            "grid_auto_rows": null,
            "grid_column": null,
            "grid_gap": null,
            "grid_row": null,
            "grid_template_areas": null,
            "grid_template_columns": null,
            "grid_template_rows": null,
            "height": null,
            "justify_content": null,
            "justify_items": null,
            "left": null,
            "margin": null,
            "max_height": null,
            "max_width": null,
            "min_height": null,
            "min_width": null,
            "object_fit": null,
            "object_position": null,
            "order": null,
            "overflow": null,
            "overflow_x": null,
            "overflow_y": null,
            "padding": null,
            "right": null,
            "top": null,
            "visibility": null,
            "width": null
          }
        },
        "d4636ef953a24d5f994a40659fc628ed": {
          "model_module": "@jupyter-widgets/base",
          "model_name": "LayoutModel",
          "model_module_version": "1.2.0",
          "state": {
            "_model_module": "@jupyter-widgets/base",
            "_model_module_version": "1.2.0",
            "_model_name": "LayoutModel",
            "_view_count": null,
            "_view_module": "@jupyter-widgets/base",
            "_view_module_version": "1.2.0",
            "_view_name": "LayoutView",
            "align_content": null,
            "align_items": null,
            "align_self": null,
            "border": null,
            "bottom": null,
            "display": null,
            "flex": null,
            "flex_flow": null,
            "grid_area": null,
            "grid_auto_columns": null,
            "grid_auto_flow": null,
            "grid_auto_rows": null,
            "grid_column": null,
            "grid_gap": null,
            "grid_row": null,
            "grid_template_areas": null,
            "grid_template_columns": null,
            "grid_template_rows": null,
            "height": null,
            "justify_content": null,
            "justify_items": null,
            "left": null,
            "margin": null,
            "max_height": null,
            "max_width": null,
            "min_height": null,
            "min_width": null,
            "object_fit": null,
            "object_position": null,
            "order": null,
            "overflow": null,
            "overflow_x": null,
            "overflow_y": null,
            "padding": null,
            "right": null,
            "top": null,
            "visibility": null,
            "width": null
          }
        },
        "b279b60e78cb4a799890551c29d58741": {
          "model_module": "@jupyter-widgets/controls",
          "model_name": "DescriptionStyleModel",
          "model_module_version": "1.5.0",
          "state": {
            "_model_module": "@jupyter-widgets/controls",
            "_model_module_version": "1.5.0",
            "_model_name": "DescriptionStyleModel",
            "_view_count": null,
            "_view_module": "@jupyter-widgets/base",
            "_view_module_version": "1.2.0",
            "_view_name": "StyleView",
            "description_width": ""
          }
        },
        "cc3fc306bd454b1eb109c4a4e9a3d33f": {
          "model_module": "@jupyter-widgets/base",
          "model_name": "LayoutModel",
          "model_module_version": "1.2.0",
          "state": {
            "_model_module": "@jupyter-widgets/base",
            "_model_module_version": "1.2.0",
            "_model_name": "LayoutModel",
            "_view_count": null,
            "_view_module": "@jupyter-widgets/base",
            "_view_module_version": "1.2.0",
            "_view_name": "LayoutView",
            "align_content": null,
            "align_items": null,
            "align_self": null,
            "border": null,
            "bottom": null,
            "display": null,
            "flex": null,
            "flex_flow": null,
            "grid_area": null,
            "grid_auto_columns": null,
            "grid_auto_flow": null,
            "grid_auto_rows": null,
            "grid_column": null,
            "grid_gap": null,
            "grid_row": null,
            "grid_template_areas": null,
            "grid_template_columns": null,
            "grid_template_rows": null,
            "height": null,
            "justify_content": null,
            "justify_items": null,
            "left": null,
            "margin": null,
            "max_height": null,
            "max_width": null,
            "min_height": null,
            "min_width": null,
            "object_fit": null,
            "object_position": null,
            "order": null,
            "overflow": null,
            "overflow_x": null,
            "overflow_y": null,
            "padding": null,
            "right": null,
            "top": null,
            "visibility": null,
            "width": null
          }
        },
        "5805488d9de341449c31257bd8fea664": {
          "model_module": "@jupyter-widgets/controls",
          "model_name": "ProgressStyleModel",
          "model_module_version": "1.5.0",
          "state": {
            "_model_module": "@jupyter-widgets/controls",
            "_model_module_version": "1.5.0",
            "_model_name": "ProgressStyleModel",
            "_view_count": null,
            "_view_module": "@jupyter-widgets/base",
            "_view_module_version": "1.2.0",
            "_view_name": "StyleView",
            "bar_color": null,
            "description_width": ""
          }
        },
        "8887a7eab5404d2789644bc3b6a6341e": {
          "model_module": "@jupyter-widgets/base",
          "model_name": "LayoutModel",
          "model_module_version": "1.2.0",
          "state": {
            "_model_module": "@jupyter-widgets/base",
            "_model_module_version": "1.2.0",
            "_model_name": "LayoutModel",
            "_view_count": null,
            "_view_module": "@jupyter-widgets/base",
            "_view_module_version": "1.2.0",
            "_view_name": "LayoutView",
            "align_content": null,
            "align_items": null,
            "align_self": null,
            "border": null,
            "bottom": null,
            "display": null,
            "flex": null,
            "flex_flow": null,
            "grid_area": null,
            "grid_auto_columns": null,
            "grid_auto_flow": null,
            "grid_auto_rows": null,
            "grid_column": null,
            "grid_gap": null,
            "grid_row": null,
            "grid_template_areas": null,
            "grid_template_columns": null,
            "grid_template_rows": null,
            "height": null,
            "justify_content": null,
            "justify_items": null,
            "left": null,
            "margin": null,
            "max_height": null,
            "max_width": null,
            "min_height": null,
            "min_width": null,
            "object_fit": null,
            "object_position": null,
            "order": null,
            "overflow": null,
            "overflow_x": null,
            "overflow_y": null,
            "padding": null,
            "right": null,
            "top": null,
            "visibility": null,
            "width": null
          }
        },
        "1b7f0265ba0440e9b8c1be8306c78967": {
          "model_module": "@jupyter-widgets/controls",
          "model_name": "DescriptionStyleModel",
          "model_module_version": "1.5.0",
          "state": {
            "_model_module": "@jupyter-widgets/controls",
            "_model_module_version": "1.5.0",
            "_model_name": "DescriptionStyleModel",
            "_view_count": null,
            "_view_module": "@jupyter-widgets/base",
            "_view_module_version": "1.2.0",
            "_view_name": "StyleView",
            "description_width": ""
          }
        },
        "0e0b25af0eb646f5a468b118e49c9e25": {
          "model_module": "@jupyter-widgets/controls",
          "model_name": "HBoxModel",
          "model_module_version": "1.5.0",
          "state": {
            "_dom_classes": [],
            "_model_module": "@jupyter-widgets/controls",
            "_model_module_version": "1.5.0",
            "_model_name": "HBoxModel",
            "_view_count": null,
            "_view_module": "@jupyter-widgets/controls",
            "_view_module_version": "1.5.0",
            "_view_name": "HBoxView",
            "box_style": "",
            "children": [
              "IPY_MODEL_df181697c9014f8eb79a4d1848f9b09b",
              "IPY_MODEL_2955502a661441fbaeba23587c06f9af",
              "IPY_MODEL_c7d4ec6702e94a619fe0297259826f8d"
            ],
            "layout": "IPY_MODEL_ef27ba7514ed4f7f9b963588404e3bb0"
          }
        },
        "df181697c9014f8eb79a4d1848f9b09b": {
          "model_module": "@jupyter-widgets/controls",
          "model_name": "HTMLModel",
          "model_module_version": "1.5.0",
          "state": {
            "_dom_classes": [],
            "_model_module": "@jupyter-widgets/controls",
            "_model_module_version": "1.5.0",
            "_model_name": "HTMLModel",
            "_view_count": null,
            "_view_module": "@jupyter-widgets/controls",
            "_view_module_version": "1.5.0",
            "_view_name": "HTMLView",
            "description": "",
            "description_tooltip": null,
            "layout": "IPY_MODEL_e8f38cba5d4f40ba83316f3cf27f11f5",
            "placeholder": "​",
            "style": "IPY_MODEL_eb6de890b35b4a74b0894015bb423250",
            "value": "  0%"
          }
        },
        "2955502a661441fbaeba23587c06f9af": {
          "model_module": "@jupyter-widgets/controls",
          "model_name": "FloatProgressModel",
          "model_module_version": "1.5.0",
          "state": {
            "_dom_classes": [],
            "_model_module": "@jupyter-widgets/controls",
            "_model_module_version": "1.5.0",
            "_model_name": "FloatProgressModel",
            "_view_count": null,
            "_view_module": "@jupyter-widgets/controls",
            "_view_module_version": "1.5.0",
            "_view_name": "ProgressView",
            "bar_style": "danger",
            "description": "",
            "description_tooltip": null,
            "layout": "IPY_MODEL_3f41f10f889f4e4f9e50ab1f682d51c2",
            "max": 3,
            "min": 0,
            "orientation": "horizontal",
            "style": "IPY_MODEL_9654f0d39e4649d9ae1e7c42201d7827",
            "value": 0
          }
        },
        "c7d4ec6702e94a619fe0297259826f8d": {
          "model_module": "@jupyter-widgets/controls",
          "model_name": "HTMLModel",
          "model_module_version": "1.5.0",
          "state": {
            "_dom_classes": [],
            "_model_module": "@jupyter-widgets/controls",
            "_model_module_version": "1.5.0",
            "_model_name": "HTMLModel",
            "_view_count": null,
            "_view_module": "@jupyter-widgets/controls",
            "_view_module_version": "1.5.0",
            "_view_name": "HTMLView",
            "description": "",
            "description_tooltip": null,
            "layout": "IPY_MODEL_5f0d465e8cac447ab0f6b17fd624e6b4",
            "placeholder": "​",
            "style": "IPY_MODEL_73928eb18974426980957d70179e3cfc",
            "value": " 0/3 [00:06&lt;?, ?it/s]"
          }
        },
        "ef27ba7514ed4f7f9b963588404e3bb0": {
          "model_module": "@jupyter-widgets/base",
          "model_name": "LayoutModel",
          "model_module_version": "1.2.0",
          "state": {
            "_model_module": "@jupyter-widgets/base",
            "_model_module_version": "1.2.0",
            "_model_name": "LayoutModel",
            "_view_count": null,
            "_view_module": "@jupyter-widgets/base",
            "_view_module_version": "1.2.0",
            "_view_name": "LayoutView",
            "align_content": null,
            "align_items": null,
            "align_self": null,
            "border": null,
            "bottom": null,
            "display": null,
            "flex": null,
            "flex_flow": null,
            "grid_area": null,
            "grid_auto_columns": null,
            "grid_auto_flow": null,
            "grid_auto_rows": null,
            "grid_column": null,
            "grid_gap": null,
            "grid_row": null,
            "grid_template_areas": null,
            "grid_template_columns": null,
            "grid_template_rows": null,
            "height": null,
            "justify_content": null,
            "justify_items": null,
            "left": null,
            "margin": null,
            "max_height": null,
            "max_width": null,
            "min_height": null,
            "min_width": null,
            "object_fit": null,
            "object_position": null,
            "order": null,
            "overflow": null,
            "overflow_x": null,
            "overflow_y": null,
            "padding": null,
            "right": null,
            "top": null,
            "visibility": null,
            "width": null
          }
        },
        "e8f38cba5d4f40ba83316f3cf27f11f5": {
          "model_module": "@jupyter-widgets/base",
          "model_name": "LayoutModel",
          "model_module_version": "1.2.0",
          "state": {
            "_model_module": "@jupyter-widgets/base",
            "_model_module_version": "1.2.0",
            "_model_name": "LayoutModel",
            "_view_count": null,
            "_view_module": "@jupyter-widgets/base",
            "_view_module_version": "1.2.0",
            "_view_name": "LayoutView",
            "align_content": null,
            "align_items": null,
            "align_self": null,
            "border": null,
            "bottom": null,
            "display": null,
            "flex": null,
            "flex_flow": null,
            "grid_area": null,
            "grid_auto_columns": null,
            "grid_auto_flow": null,
            "grid_auto_rows": null,
            "grid_column": null,
            "grid_gap": null,
            "grid_row": null,
            "grid_template_areas": null,
            "grid_template_columns": null,
            "grid_template_rows": null,
            "height": null,
            "justify_content": null,
            "justify_items": null,
            "left": null,
            "margin": null,
            "max_height": null,
            "max_width": null,
            "min_height": null,
            "min_width": null,
            "object_fit": null,
            "object_position": null,
            "order": null,
            "overflow": null,
            "overflow_x": null,
            "overflow_y": null,
            "padding": null,
            "right": null,
            "top": null,
            "visibility": null,
            "width": null
          }
        },
        "eb6de890b35b4a74b0894015bb423250": {
          "model_module": "@jupyter-widgets/controls",
          "model_name": "DescriptionStyleModel",
          "model_module_version": "1.5.0",
          "state": {
            "_model_module": "@jupyter-widgets/controls",
            "_model_module_version": "1.5.0",
            "_model_name": "DescriptionStyleModel",
            "_view_count": null,
            "_view_module": "@jupyter-widgets/base",
            "_view_module_version": "1.2.0",
            "_view_name": "StyleView",
            "description_width": ""
          }
        },
        "3f41f10f889f4e4f9e50ab1f682d51c2": {
          "model_module": "@jupyter-widgets/base",
          "model_name": "LayoutModel",
          "model_module_version": "1.2.0",
          "state": {
            "_model_module": "@jupyter-widgets/base",
            "_model_module_version": "1.2.0",
            "_model_name": "LayoutModel",
            "_view_count": null,
            "_view_module": "@jupyter-widgets/base",
            "_view_module_version": "1.2.0",
            "_view_name": "LayoutView",
            "align_content": null,
            "align_items": null,
            "align_self": null,
            "border": null,
            "bottom": null,
            "display": null,
            "flex": null,
            "flex_flow": null,
            "grid_area": null,
            "grid_auto_columns": null,
            "grid_auto_flow": null,
            "grid_auto_rows": null,
            "grid_column": null,
            "grid_gap": null,
            "grid_row": null,
            "grid_template_areas": null,
            "grid_template_columns": null,
            "grid_template_rows": null,
            "height": null,
            "justify_content": null,
            "justify_items": null,
            "left": null,
            "margin": null,
            "max_height": null,
            "max_width": null,
            "min_height": null,
            "min_width": null,
            "object_fit": null,
            "object_position": null,
            "order": null,
            "overflow": null,
            "overflow_x": null,
            "overflow_y": null,
            "padding": null,
            "right": null,
            "top": null,
            "visibility": null,
            "width": null
          }
        },
        "9654f0d39e4649d9ae1e7c42201d7827": {
          "model_module": "@jupyter-widgets/controls",
          "model_name": "ProgressStyleModel",
          "model_module_version": "1.5.0",
          "state": {
            "_model_module": "@jupyter-widgets/controls",
            "_model_module_version": "1.5.0",
            "_model_name": "ProgressStyleModel",
            "_view_count": null,
            "_view_module": "@jupyter-widgets/base",
            "_view_module_version": "1.2.0",
            "_view_name": "StyleView",
            "bar_color": null,
            "description_width": ""
          }
        },
        "5f0d465e8cac447ab0f6b17fd624e6b4": {
          "model_module": "@jupyter-widgets/base",
          "model_name": "LayoutModel",
          "model_module_version": "1.2.0",
          "state": {
            "_model_module": "@jupyter-widgets/base",
            "_model_module_version": "1.2.0",
            "_model_name": "LayoutModel",
            "_view_count": null,
            "_view_module": "@jupyter-widgets/base",
            "_view_module_version": "1.2.0",
            "_view_name": "LayoutView",
            "align_content": null,
            "align_items": null,
            "align_self": null,
            "border": null,
            "bottom": null,
            "display": null,
            "flex": null,
            "flex_flow": null,
            "grid_area": null,
            "grid_auto_columns": null,
            "grid_auto_flow": null,
            "grid_auto_rows": null,
            "grid_column": null,
            "grid_gap": null,
            "grid_row": null,
            "grid_template_areas": null,
            "grid_template_columns": null,
            "grid_template_rows": null,
            "height": null,
            "justify_content": null,
            "justify_items": null,
            "left": null,
            "margin": null,
            "max_height": null,
            "max_width": null,
            "min_height": null,
            "min_width": null,
            "object_fit": null,
            "object_position": null,
            "order": null,
            "overflow": null,
            "overflow_x": null,
            "overflow_y": null,
            "padding": null,
            "right": null,
            "top": null,
            "visibility": null,
            "width": null
          }
        },
        "73928eb18974426980957d70179e3cfc": {
          "model_module": "@jupyter-widgets/controls",
          "model_name": "DescriptionStyleModel",
          "model_module_version": "1.5.0",
          "state": {
            "_model_module": "@jupyter-widgets/controls",
            "_model_module_version": "1.5.0",
            "_model_name": "DescriptionStyleModel",
            "_view_count": null,
            "_view_module": "@jupyter-widgets/base",
            "_view_module_version": "1.2.0",
            "_view_name": "StyleView",
            "description_width": ""
          }
        }
      }
    }
  },
  "cells": [
    {
      "cell_type": "markdown",
      "metadata": {
        "id": "view-in-github",
        "colab_type": "text"
      },
      "source": [
        "<a href=\"https://colab.research.google.com/github/tincorpai/Deep_Learning_Pytorch/blob/master/PyTorch_Computer_Vision.ipynb\" target=\"_parent\"><img src=\"https://colab.research.google.com/assets/colab-badge.svg\" alt=\"Open In Colab\"/></a>"
      ]
    },
    {
      "cell_type": "markdown",
      "source": [
        "#   Computer Vision Convolutional Neural Networks with PyTorch"
      ],
      "metadata": {
        "id": "-WYFec_dvkDq"
      }
    },
    {
      "cell_type": "markdown",
      "source": [
        "Computer vision can be segmented into the following sections:\n",
        "\n",
        "* Binary Classification\n",
        "\n",
        "* Multi Classification\n",
        "\n",
        "* Object detection\n",
        "\n",
        "* Segmetation"
      ],
      "metadata": {
        "id": "GURZ4SDiyGUi"
      }
    },
    {
      "cell_type": "markdown",
      "source": [
        "## Things to cover in PyTorch\n",
        "\n",
        "* Getting a vision dataset to work with using torchvision.datasets\n",
        "\n",
        "* Architecture of a convolutional neural network (CNN) with PyTorch\n",
        "\n",
        "* An end-toend multi-class image classification problem \n",
        "\n",
        "* Steps in modelling with CNNs in PyTorch\n",
        "\n",
        "    * Creating a CNN model withPyTorch\n",
        "\n",
        "    * Picking a loss and optimizer\n",
        "\n",
        "    * Training a model\n",
        "\n",
        "    * Evaluating a model."
      ],
      "metadata": {
        "id": "k_ZUgMzpzHFT"
      }
    },
    {
      "cell_type": "markdown",
      "source": [
        "## Computer Vision Inputs and Outputs\n",
        "\n",
        "The ways to represent an image in numbers is to use the weight, heaight and channels.\n",
        "\n",
        "We will represent our images in form of a tensor which will, in many cases, be our input into our machine learning model.\n",
        "\n",
        "\n",
        "Ensure that your tensor lines up with each other. For instance, our image input can be in form of a list such as `[batch_size, width, height, colour_channels]`\n",
        "\n",
        "batch_size can be changed depending on the problem you are working on.\n",
        "\n",
        "Image data can be represented in this form `[batch_size, height, width, colour_channels]` or in this form `[batch_size, colour_channels, height, width]`\n"
      ],
      "metadata": {
        "id": "sQGhiFE13B42"
      }
    },
    {
      "cell_type": "markdown",
      "source": [
        "We will apply "
      ],
      "metadata": {
        "id": "kRspmxN-8nWC"
      }
    },
    {
      "cell_type": "markdown",
      "source": [
        "## What is Convolutional Neural network?\n",
        "\n",
        "A convolutional neural network is a deeplearning framework able to take an image as an input and able to categorize each object in an image in order to differentiate one from the other. \n",
        "\n",
        "A good resources that give in depth definition of Neural network can be in this link: https://towardsdatascience.com/a-comprehensive-guide-to-convolutional-neural-networks-the-eli5-way-3bd2b1164a53"
      ],
      "metadata": {
        "id": "8oVZgZdb3YGk"
      }
    },
    {
      "cell_type": "markdown",
      "source": [
        "We will be working with Convolutional neural network and the work frame is given as follows:\n",
        "\n",
        "![image.png](data:image/png;base64,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)"
      ],
      "metadata": {
        "id": "J8w45n6J8jtp"
      }
    },
    {
      "cell_type": "markdown",
      "source": [
        "## PyTorch Computer Vision \n",
        "\n",
        "\n",
        "*  See reference online book:  https://www.learnpytorch.io/03_pytorch_computer_vision/"
      ],
      "metadata": {
        "id": "l3jCSTIo77fy"
      }
    },
    {
      "cell_type": "markdown",
      "source": [
        "### 0. Computer vision libraries in PyTorch\n",
        "\n",
        "*  [`torchvision`](https://pytorch.org/vision/stable/index.html) - it is the base domain library in PTorch Computer Vision\n",
        "\n",
        "* [`torchvision.datasets`](https://pytorch.org/vision/stable/datasets.html) - get datasets and data loading functions for computer vision here \n",
        "\n",
        "* [`torchvision.models`](https://pytorch.org/vision/0.8/models.html) - get pretrained computer vision models that you can leverage for your own problems.\n",
        "\n",
        "* [`torchvision.transforms`](https://pytorch.org/vision/0.11/transforms.html) - functions for manipulating your vision data (images) tobe suitable for use with an ML model.\n",
        "\n",
        "* [`torch.utils.dataDataset`](https://pytorch.org/docs/stable/data.html)- Base dataset class for PyTorch\n",
        "\n",
        "* [`torch.utils.data.DataLoader`](https://pytorch.org/docs/stable/data.html) - Creates a Python iterable over a dataset."
      ],
      "metadata": {
        "id": "jCCIPZD0_xbf"
      }
    },
    {
      "cell_type": "code",
      "source": [
        "# Import PyTorch\n",
        "import torch\n",
        "from torch import nn\n",
        "\n",
        "#Import torchvision\n",
        "import torchvision\n",
        "from torchvision import datasets \n",
        "from torchvision import transforms\n",
        "from torchvision.transforms import ToTensor \n",
        "\n",
        "\n",
        "# Import matplotlib for visualization\n",
        "print(torch.__version__)\n",
        "print(torchvision.__version__)"
      ],
      "metadata": {
        "colab": {
          "base_uri": "https://localhost:8080/"
        },
        "id": "NSqhLhBDAnTa",
        "outputId": "062553fb-5857-4904-948d-64e731c89084"
      },
      "execution_count": 1,
      "outputs": [
        {
          "output_type": "stream",
          "name": "stdout",
          "text": [
            "1.13.1+cu116\n",
            "0.14.1+cu116\n"
          ]
        }
      ]
    },
    {
      "cell_type": "markdown",
      "source": [
        "##1. Getting a dataset\n",
        "\n",
        "The dataset we will be using is FashionMNIST fro torchvision.datasets-\n",
        "https://pytorch.org/vision/stable/generated/torchvision.datasets.FashionMNIST.html#torchvision.datasets.FashionMNIST"
      ],
      "metadata": {
        "id": "OIgNn8R-ItMa"
      }
    },
    {
      "cell_type": "code",
      "source": [
        "# Setup training data\n",
        "from torchvision import datasets\n",
        "train_data = datasets.FashionMNIST(\n",
        "    root=\"data\", #where to download the datset\n",
        "    train=True,   # do we want the training dataset?\n",
        "    download=True, # do we wnat to download yes/no?\n",
        "    transform=torchvision.transforms.ToTensor(), #how do we wnat to transform the data\n",
        "    target_transform=None  #how do want to download the labels/targets\n",
        ")\n",
        "\n",
        "\n",
        "test_data = datasets.FashionMNIST(\n",
        "    root=\"data\", \n",
        "    train=False,   \n",
        "    download=True, \n",
        "    transform=torchvision.transforms.ToTensor(), \n",
        "    target_transform=None  \n",
        ")"
      ],
      "metadata": {
        "colab": {
          "base_uri": "https://localhost:8080/",
          "height": 460,
          "referenced_widgets": [
            "e53fe32fd17944c3bfc738af00ee8e8b",
            "1ffa4f05a4be457185580a60a53c0114",
            "8e46f4a2db404ebf93c2027fde4143e9",
            "109dd136478947bb9c56315d048c19db",
            "b94b376d74154e6daf627ac3d3f06088",
            "36efa7fcbc654d9a9c706f21ecf3944f",
            "a9f913b44f034fefa1d5d6e3cde540d0",
            "9baa3db8bfaf4b67879bb32083b308c0",
            "11a6bcc508a54cc29dcb80e6bba6bfc0",
            "e8101944c4fe41f4a038edef40ec6266",
            "aad75b99640140cca806825cab547a82",
            "208a6fa0e5e24b4a875de555d2620c62",
            "4d18628d211742adb4a9a62103d5bfc2",
            "dc32064a567243f6b62225ffaa8398a2",
            "99a2403d43854986acd3ac2f55b99ba6",
            "a79bac9904824deb9223eaab12476b0a",
            "5b455e880df14c329f19a7ca06bcb62c",
            "df8aeca0a3e6490d82b49ac7a5e97771",
            "320ae51c4359482a9c979fdb30049977",
            "0fd32d1afc8a4b489571e0a40400a8b4",
            "2b6b5e9040e249d9b3e3eb25126a0438",
            "684431aaf3a04d3bbe7a746b0fd6cdeb",
            "6ec2fbd8f4a345338d006797a833bf8c",
            "fc9d43364ac340a491f355e1a4e5415b",
            "fad85e99ffc94d8f98bb03fdf11fd7d1",
            "5ab95978ebe34d0a8dd6a58fbf62e064",
            "926f71476d9f4909854ded37360bad15",
            "32a9e3feaf9246eb8f6aaf286407582f",
            "759ae2b74eff42e98a21ded8767f6cde",
            "17492835c133426897fe509c117c3377",
            "23ad8569943642559c95c531aed267c4",
            "28b531c15c9c4feaac21e100f7900835",
            "9d26a779a8ec4120a9b49c790a1bcf8d",
            "7328daffdf874166ad57dd22577bca9e",
            "d24032868b534ec3b9b3cf15992fbae1",
            "20b1f8e346b04257bd15c9e0881e8c36",
            "fae756477f4544b6a876216698954df6",
            "ad1eb02034654c97a9515e8c89f7cdd7",
            "d4636ef953a24d5f994a40659fc628ed",
            "b279b60e78cb4a799890551c29d58741",
            "cc3fc306bd454b1eb109c4a4e9a3d33f",
            "5805488d9de341449c31257bd8fea664",
            "8887a7eab5404d2789644bc3b6a6341e",
            "1b7f0265ba0440e9b8c1be8306c78967"
          ]
        },
        "id": "ltmYOZQqKSre",
        "outputId": "48a3708e-10b0-43f8-ec20-ccd86b06ca4f"
      },
      "execution_count": 2,
      "outputs": [
        {
          "output_type": "stream",
          "name": "stdout",
          "text": [
            "Downloading http://fashion-mnist.s3-website.eu-central-1.amazonaws.com/train-images-idx3-ubyte.gz\n",
            "Downloading http://fashion-mnist.s3-website.eu-central-1.amazonaws.com/train-images-idx3-ubyte.gz to data/FashionMNIST/raw/train-images-idx3-ubyte.gz\n"
          ]
        },
        {
          "output_type": "display_data",
          "data": {
            "text/plain": [
              "  0%|          | 0/26421880 [00:00<?, ?it/s]"
            ],
            "application/vnd.jupyter.widget-view+json": {
              "version_major": 2,
              "version_minor": 0,
              "model_id": "e53fe32fd17944c3bfc738af00ee8e8b"
            }
          },
          "metadata": {}
        },
        {
          "output_type": "stream",
          "name": "stdout",
          "text": [
            "Extracting data/FashionMNIST/raw/train-images-idx3-ubyte.gz to data/FashionMNIST/raw\n",
            "\n",
            "Downloading http://fashion-mnist.s3-website.eu-central-1.amazonaws.com/train-labels-idx1-ubyte.gz\n",
            "Downloading http://fashion-mnist.s3-website.eu-central-1.amazonaws.com/train-labels-idx1-ubyte.gz to data/FashionMNIST/raw/train-labels-idx1-ubyte.gz\n"
          ]
        },
        {
          "output_type": "display_data",
          "data": {
            "text/plain": [
              "  0%|          | 0/29515 [00:00<?, ?it/s]"
            ],
            "application/vnd.jupyter.widget-view+json": {
              "version_major": 2,
              "version_minor": 0,
              "model_id": "208a6fa0e5e24b4a875de555d2620c62"
            }
          },
          "metadata": {}
        },
        {
          "output_type": "stream",
          "name": "stdout",
          "text": [
            "Extracting data/FashionMNIST/raw/train-labels-idx1-ubyte.gz to data/FashionMNIST/raw\n",
            "\n",
            "Downloading http://fashion-mnist.s3-website.eu-central-1.amazonaws.com/t10k-images-idx3-ubyte.gz\n",
            "Downloading http://fashion-mnist.s3-website.eu-central-1.amazonaws.com/t10k-images-idx3-ubyte.gz to data/FashionMNIST/raw/t10k-images-idx3-ubyte.gz\n"
          ]
        },
        {
          "output_type": "display_data",
          "data": {
            "text/plain": [
              "  0%|          | 0/4422102 [00:00<?, ?it/s]"
            ],
            "application/vnd.jupyter.widget-view+json": {
              "version_major": 2,
              "version_minor": 0,
              "model_id": "6ec2fbd8f4a345338d006797a833bf8c"
            }
          },
          "metadata": {}
        },
        {
          "output_type": "stream",
          "name": "stdout",
          "text": [
            "Extracting data/FashionMNIST/raw/t10k-images-idx3-ubyte.gz to data/FashionMNIST/raw\n",
            "\n",
            "Downloading http://fashion-mnist.s3-website.eu-central-1.amazonaws.com/t10k-labels-idx1-ubyte.gz\n",
            "Downloading http://fashion-mnist.s3-website.eu-central-1.amazonaws.com/t10k-labels-idx1-ubyte.gz to data/FashionMNIST/raw/t10k-labels-idx1-ubyte.gz\n"
          ]
        },
        {
          "output_type": "display_data",
          "data": {
            "text/plain": [
              "  0%|          | 0/5148 [00:00<?, ?it/s]"
            ],
            "application/vnd.jupyter.widget-view+json": {
              "version_major": 2,
              "version_minor": 0,
              "model_id": "7328daffdf874166ad57dd22577bca9e"
            }
          },
          "metadata": {}
        },
        {
          "output_type": "stream",
          "name": "stdout",
          "text": [
            "Extracting data/FashionMNIST/raw/t10k-labels-idx1-ubyte.gz to data/FashionMNIST/raw\n",
            "\n"
          ]
        }
      ]
    },
    {
      "cell_type": "code",
      "source": [
        "len(train_data), len(test_data)"
      ],
      "metadata": {
        "colab": {
          "base_uri": "https://localhost:8080/"
        },
        "id": "rUmJ8UTPMA4n",
        "outputId": "0f2fb90d-01ee-4bac-9a92-8fe88c3304b1"
      },
      "execution_count": 3,
      "outputs": [
        {
          "output_type": "execute_result",
          "data": {
            "text/plain": [
              "(60000, 10000)"
            ]
          },
          "metadata": {},
          "execution_count": 3
        }
      ]
    },
    {
      "cell_type": "code",
      "source": [
        "# See the fist train example \n",
        "image, label = train_data[0]\n"
      ],
      "metadata": {
        "id": "-QWB7uBOMGAA"
      },
      "execution_count": 4,
      "outputs": []
    },
    {
      "cell_type": "code",
      "source": [
        "class_names = train_data.classes\n",
        "class_names "
      ],
      "metadata": {
        "colab": {
          "base_uri": "https://localhost:8080/"
        },
        "id": "AYsZoxJoMhcy",
        "outputId": "1e807465-c81e-4f7b-e692-6adb0ffcf022"
      },
      "execution_count": 5,
      "outputs": [
        {
          "output_type": "execute_result",
          "data": {
            "text/plain": [
              "['T-shirt/top',\n",
              " 'Trouser',\n",
              " 'Pullover',\n",
              " 'Dress',\n",
              " 'Coat',\n",
              " 'Sandal',\n",
              " 'Shirt',\n",
              " 'Sneaker',\n",
              " 'Bag',\n",
              " 'Ankle boot']"
            ]
          },
          "metadata": {},
          "execution_count": 5
        }
      ]
    },
    {
      "cell_type": "code",
      "source": [
        "class_to_idx = train_data.class_to_idx\n",
        "class_to_idx"
      ],
      "metadata": {
        "colab": {
          "base_uri": "https://localhost:8080/"
        },
        "id": "ywhpMFWkNEPy",
        "outputId": "08878328-cabe-4e79-94f5-586bae62648b"
      },
      "execution_count": 6,
      "outputs": [
        {
          "output_type": "execute_result",
          "data": {
            "text/plain": [
              "{'T-shirt/top': 0,\n",
              " 'Trouser': 1,\n",
              " 'Pullover': 2,\n",
              " 'Dress': 3,\n",
              " 'Coat': 4,\n",
              " 'Sandal': 5,\n",
              " 'Shirt': 6,\n",
              " 'Sneaker': 7,\n",
              " 'Bag': 8,\n",
              " 'Ankle boot': 9}"
            ]
          },
          "metadata": {},
          "execution_count": 6
        }
      ]
    },
    {
      "cell_type": "code",
      "source": [
        "train_data.targets"
      ],
      "metadata": {
        "colab": {
          "base_uri": "https://localhost:8080/"
        },
        "id": "jAA3D7KqNKrj",
        "outputId": "12d0e4fd-badc-47d1-8324-0d78c23a1c17"
      },
      "execution_count": 7,
      "outputs": [
        {
          "output_type": "execute_result",
          "data": {
            "text/plain": [
              "tensor([9, 0, 0,  ..., 3, 0, 5])"
            ]
          },
          "metadata": {},
          "execution_count": 7
        }
      ]
    },
    {
      "cell_type": "code",
      "source": [
        "print(f\"image shape:{image.shape} -> [color_channels, height, width]\")\n",
        "print(f\"Image label: {class_names[label]}\")"
      ],
      "metadata": {
        "colab": {
          "base_uri": "https://localhost:8080/"
        },
        "id": "wmJ6WwtXNUuw",
        "outputId": "98b44cae-ed65-43d1-b7a0-8a2288915e6a"
      },
      "execution_count": 8,
      "outputs": [
        {
          "output_type": "stream",
          "name": "stdout",
          "text": [
            "image shape:torch.Size([1, 28, 28]) -> [color_channels, height, width]\n",
            "Image label: Ankle boot\n"
          ]
        }
      ]
    },
    {
      "cell_type": "markdown",
      "source": [
        "Our input shape format for this dataset is `[None, 1, 28, 28]` and output shape is 10."
      ],
      "metadata": {
        "id": "3qbPFM0n6Sa9"
      }
    },
    {
      "cell_type": "markdown",
      "source": [
        "### 1.2 Visualizing our data"
      ],
      "metadata": {
        "id": "S6hqrYtX6etm"
      }
    },
    {
      "cell_type": "code",
      "source": [
        "import matplotlib.pyplot as plt\n",
        "image, label = train_data[0]\n",
        "print(f\"image shape: {image.shape}\")\n",
        "plt.imshow(image.squeeze())\n",
        "plt.title(label);"
      ],
      "metadata": {
        "colab": {
          "base_uri": "https://localhost:8080/",
          "height": 299
        },
        "id": "pqOZMv2V6tlb",
        "outputId": "84bb6e50-df22-4dce-8532-c78d745e2f86"
      },
      "execution_count": 9,
      "outputs": [
        {
          "output_type": "stream",
          "name": "stdout",
          "text": [
            "image shape: torch.Size([1, 28, 28])\n"
          ]
        },
        {
          "output_type": "display_data",
          "data": {
            "text/plain": [
              "<Figure size 432x288 with 1 Axes>"
            ],
            "image/png": "[encoded data removed]"
          },
          "metadata": {
            "needs_background": "light"
          }
        }
      ]
    },
    {
      "cell_type": "code",
      "source": [
        "plt.imshow(image.squeeze(), cmap =\"gray\")\n",
        "plt.title(class_names[label]);\n",
        "plt.axis(False);"
      ],
      "metadata": {
        "colab": {
          "base_uri": "https://localhost:8080/",
          "height": 264
        },
        "id": "-ygsWVN478pR",
        "outputId": "8c96a77d-aa3d-4631-ecd7-ae1484a635b2"
      },
      "execution_count": 10,
      "outputs": [
        {
          "output_type": "display_data",
          "data": {
            "text/plain": [
              "<Figure size 432x288 with 1 Axes>"
            ],
            "image/png": "[encoded data removed]"
          },
          "metadata": {
            "needs_background": "light"
          }
        }
      ]
    },
    {
      "cell_type": "code",
      "source": [
        "#Visualize multiple images at a time\n",
        "torch.manual_seed(42)\n",
        "fig = plt.figure(figsize=(9, 9))\n",
        "rows, cols = 4, 4\n",
        "for i in range(1, rows*cols+1):\n",
        "  random_idx = torch.randint(0, len(train_data), size=[1]).item()\n",
        "  img, label = train_data[random_idx]\n",
        "  fig.add_subplot(rows, cols, i)\n",
        "  plt.imshow(img.squeeze(), cmap=\"gray\")\n",
        "  plt.title(class_names[label])\n",
        "  plt.axis(False);\n"
      ],
      "metadata": {
        "colab": {
          "base_uri": "https://localhost:8080/",
          "height": 536
        },
        "id": "Y9bk-z5G8gsW",
        "outputId": "db926a06-1f66-420a-d1d5-74e7d8dccbc3"
      },
      "execution_count": 11,
      "outputs": [
        {
          "output_type": "display_data",
          "data": {
            "text/plain": [
              "<Figure size 648x648 with 16 Axes>"
            ],
            "image/png": "[encoded data removed]"
          },
          "metadata": {
            "needs_background": "light"
          }
        }
      ]
    },
    {
      "cell_type": "markdown",
      "source": [
        "Do you think these items of clothing (images) could be modelled with pure linear lines? Or do you think we'll need non-linearities?"
      ],
      "metadata": {
        "id": "pyzm24f2-3Jy"
      }
    },
    {
      "cell_type": "markdown",
      "source": [
        "## 2. Prepare DataLoader\n",
        "\n",
        "We want to convert our dataset, which is in form of collection of our dataset, into a data loader \n",
        "\n",
        "A dataLoader turns our dataset into a Python iterable.\n",
        "\n",
        "Categorically, we want to turn our data into batches (or mini-batches).\n",
        "\n",
        "Why is this important?\n",
        "\n",
        "1. It is more compuationalally efficient, as in, your computing hardware may not be able to look (store in memory) at 60000 images in one hit. So we break it down to 32 images at a time (batch size of 32)\n",
        "\n",
        "2. It gives our neural network more chances to update its gradients per epoch.\n",
        "\n",
        "For more on mini-batches, see here: https://www.youtube.com/watch?v=l4lSUAcvHFs&t=9s"
      ],
      "metadata": {
        "id": "ntdCvytB7EpB"
      }
    },
    {
      "cell_type": "code",
      "source": [
        "from torch.utils.data import DataLoader\n",
        "\n",
        "#Set up the batch size hyperparameter \n",
        "BATCH_SIZE = 32\n",
        "\n",
        "# Turn datasets into iterables (batches)\n",
        "\n",
        "train_dataloader = DataLoader(dataset=train_data,\n",
        "                               batch_size=BATCH_SIZE, \n",
        "                               shuffle=True)\n",
        "                    \n",
        "\n",
        "test_dataloader = DataLoader(dataset=test_data,\n",
        "                             batch_size = BATCH_SIZE,\n",
        "                             shuffle=False)\n",
        "\n",
        "train_dataloader, test_dataloader"
      ],
      "metadata": {
        "colab": {
          "base_uri": "https://localhost:8080/"
        },
        "id": "TtOug_nD_1oF",
        "outputId": "7c2b4ebe-b1ac-4c02-88d3-0dfb80a57ad8"
      },
      "execution_count": 12,
      "outputs": [
        {
          "output_type": "execute_result",
          "data": {
            "text/plain": [
              "(<torch.utils.data.dataloader.DataLoader at 0x7f36bd991d60>,\n",
              " <torch.utils.data.dataloader.DataLoader at 0x7f36bd991880>)"
            ]
          },
          "metadata": {},
          "execution_count": 12
        }
      ]
    },
    {
      "cell_type": "code",
      "source": [
        "#Let's check out what we've created.\n",
        "print(f\"DataLoader: {train_dataloader, test_dataloader}\")\n",
        "print(f\"Length of train_dataloader: {len(train_dataloader)} batches of {BATCH_SIZE}..\")\n",
        "print(f\"Length of test_dataloader: {len(test_dataloader)} batches of {BATCH_SIZE}...\")"
      ],
      "metadata": {
        "colab": {
          "base_uri": "https://localhost:8080/"
        },
        "id": "Dx0e_GB2D6Cj",
        "outputId": "531bade4-2c7f-44c7-889e-0cf0af423a66"
      },
      "execution_count": 13,
      "outputs": [
        {
          "output_type": "stream",
          "name": "stdout",
          "text": [
            "DataLoader: (<torch.utils.data.dataloader.DataLoader object at 0x7f36bd991d60>, <torch.utils.data.dataloader.DataLoader object at 0x7f36bd991880>)\n",
            "Length of train_dataloader: 1875 batches of 32..\n",
            "Length of test_dataloader: 313 batches of 32...\n"
          ]
        }
      ]
    },
    {
      "cell_type": "code",
      "source": [
        "#Get the shape of each 32 batches\n",
        "train_features_batch, train_labels_batch = next(iter(train_dataloader))\n",
        "train_features_batch.shape, train_labels_batch.shape\n"
      ],
      "metadata": {
        "colab": {
          "base_uri": "https://localhost:8080/"
        },
        "id": "A4FUuIDpFQuc",
        "outputId": "8f69414f-8d94-46d1-9c6a-0bf36ae6f2ab"
      },
      "execution_count": 14,
      "outputs": [
        {
          "output_type": "execute_result",
          "data": {
            "text/plain": [
              "(torch.Size([32, 1, 28, 28]), torch.Size([32]))"
            ]
          },
          "metadata": {},
          "execution_count": 14
        }
      ]
    },
    {
      "cell_type": "code",
      "source": [
        "#show a sample\n",
        "#torch.manual_seed(42)\n",
        "random_idx = torch.randint(0, len(train_features_batch), size=[1]).item()\n",
        "img, label = train_features_batch[random_idx], train_labels_batch[random_idx]\n",
        "plt.imshow(img.squeeze(), cmap=\"gray\")\n",
        "plt.title(class_names[label])\n",
        "plt.axis(False)\n",
        "print(f\"Image size: {img.shape}\")\n",
        "print(f\"Label: {label}, label size: {label.shape}\")"
      ],
      "metadata": {
        "colab": {
          "base_uri": "https://localhost:8080/",
          "height": 301
        },
        "id": "qAKoND9CFBrq",
        "outputId": "c051af45-1ffa-467a-f6d9-a1e094a3f0b7"
      },
      "execution_count": 15,
      "outputs": [
        {
          "output_type": "stream",
          "name": "stdout",
          "text": [
            "Image size: torch.Size([1, 28, 28])\n",
            "Label: 8, label size: torch.Size([])\n"
          ]
        },
        {
          "output_type": "display_data",
          "data": {
            "text/plain": [
              "<Figure size 432x288 with 1 Axes>"
            ],
            "image/png": "[encoded data removed]"
          },
          "metadata": {
            "needs_background": "light"
          }
        }
      ]
    },
    {
      "cell_type": "markdown",
      "source": [
        "## 3. Model 0: Build a baseline mode\n",
        "\n",
        "When starting to build a series of machine learning modelling experiments, it's best practice to start with a baseline model.\n",
        "\n",
        "A baseline model is a simple model you will try and improve upon with subsequent models/experiments\n",
        "\n",
        "In other words: start simply and add complexity when necessary."
      ],
      "metadata": {
        "id": "5ED3aU34HLRI"
      }
    },
    {
      "cell_type": "code",
      "source": [
        "# Create a flaten layer\n",
        "flatten_model = nn.Flatten()\n",
        "\n",
        "#Get a single sample\n",
        "x = train_features_batch[0]\n",
        "\n",
        "#Flatten the sample\n",
        "output = flatten_model(x)   #perform forward pass\n",
        "\n",
        "\n",
        "#print out\n",
        "print(f\"shape before flattening: {x.shape} -> [color_channels, height, width]\")\n",
        "print(f\"shape after flattening: {output.shape} -> [color_channels, height*width]\")"
      ],
      "metadata": {
        "colab": {
          "base_uri": "https://localhost:8080/"
        },
        "id": "-dbPgKSvIMPk",
        "outputId": "87cdec7a-7da4-4bff-90cf-0704e6ce5d39"
      },
      "execution_count": 16,
      "outputs": [
        {
          "output_type": "stream",
          "name": "stdout",
          "text": [
            "shape before flattening: torch.Size([1, 28, 28]) -> [color_channels, height, width]\n",
            "shape after flattening: torch.Size([1, 784]) -> [color_channels, height*width]\n"
          ]
        }
      ]
    },
    {
      "cell_type": "markdown",
      "source": [
        "This means we have one value per pissel in our training vector."
      ],
      "metadata": {
        "id": "TZHpDYl8Jig6"
      }
    },
    {
      "cell_type": "code",
      "source": [
        "from torch import nn\n",
        "class FashiionMNISTModelVO(nn.Module):\n",
        "  def __init__(self,\n",
        "               input_shape:int,\n",
        "               hidden_units:int,\n",
        "               output_shape: int):\n",
        "    super().__init__()\n",
        "    self.layer_stack = nn.Sequential(\n",
        "        nn.Flatten(),\n",
        "        nn.Linear(\n",
        "            in_features=input_shape,\n",
        "            out_features=hidden_units),\n",
        "        nn.Linear(in_features=hidden_units,\n",
        "                  out_features=output_shape)\n",
        "        )\n",
        "  \n",
        "  def forward(self, x):\n",
        "    return self.layer_stack(x)"
      ],
      "metadata": {
        "id": "kDkN_Fm8Jj9t"
      },
      "execution_count": 17,
      "outputs": []
    },
    {
      "cell_type": "code",
      "source": [
        "torch.manual_seed(42)\n",
        "\n",
        "#Setup model with input parameters\n",
        "model_0 = FashiionMNISTModelVO(\n",
        "    input_shape=784, # this is 28*28\n",
        "    hidden_units=10,  #how many units in the hidden layer\n",
        "    output_shape=len(class_names)  # one for every class\n",
        ").to(\"cpu\")\n",
        "\n",
        "model_0"
      ],
      "metadata": {
        "colab": {
          "base_uri": "https://localhost:8080/"
        },
        "id": "vhriZ-R0MBcN",
        "outputId": "4a8cf2dc-9879-467b-b478-0c19c2602d9e"
      },
      "execution_count": 18,
      "outputs": [
        {
          "output_type": "execute_result",
          "data": {
            "text/plain": [
              "FashiionMNISTModelVO(\n",
              "  (layer_stack): Sequential(\n",
              "    (0): Flatten(start_dim=1, end_dim=-1)\n",
              "    (1): Linear(in_features=784, out_features=10, bias=True)\n",
              "    (2): Linear(in_features=10, out_features=10, bias=True)\n",
              "  )\n",
              ")"
            ]
          },
          "metadata": {},
          "execution_count": 18
        }
      ]
    },
    {
      "cell_type": "markdown",
      "source": [
        "The main premise of machine learning is to pass our data through a model and make use of our optimizer to update the random values generated by our initial model to bethe tter represent features in our data. Features in our images could mean anything.\n",
        "\n",
        "We are going to tell our model what features to learn about our data. The moel figures out what features to learn."
      ],
      "metadata": {
        "id": "jbBmWqAGNA4m"
      }
    },
    {
      "cell_type": "markdown",
      "source": [
        "### 3.1 Set up loss, optimizer and evaluation metrics"
      ],
      "metadata": {
        "id": "YbzO-3lzU3b8"
      }
    },
    {
      "cell_type": "markdown",
      "source": [
        "*  Loss function - since we're working with multi-class data, our loss function will be `nn.CrossEntropyLoss()`\n",
        "\n",
        "* Optimizer - out optimizer `torch.optim.SGD()` (Stochastic Gradient Descent)\n",
        "\n",
        "* Evaluation metric - Since we're working on a classification problem let's use accuracy as our evaluation metrics."
      ],
      "metadata": {
        "id": "KCozd03dVlPt"
      }
    },
    {
      "cell_type": "code",
      "source": [
        "#Gets help function\n",
        "import requests \n",
        "from pathlib import Path\n",
        "\n",
        "\n",
        "#Download helper functions from Learn PyTorch repo (if it's not already downloaded)\n",
        "if Path(\"helper_functions.py\").is_file():\n",
        "  print(\"helper_functions.py already exists, skipping download\")\n",
        "else:\n",
        "  print(\"Download helper_functions.py\")\n",
        "  request = requests.get(\"https://raw.githubusercontent.com/mrdbourke/pytorch-deep-learning/main/helper_functions.py\")\n",
        "  with open(\"helper_functions.py\", \"wb\") as f:\n",
        "    f.write(request.content)\n",
        "\n",
        "\n",
        "from helper_functions import plot_predictions, plot_decision_boundary"
      ],
      "metadata": {
        "colab": {
          "base_uri": "https://localhost:8080/"
        },
        "id": "5N2yHtEUWEba",
        "outputId": "3fedb5f4-17b5-4d57-fd4c-34537136c166"
      },
      "execution_count": 20,
      "outputs": [
        {
          "output_type": "stream",
          "name": "stdout",
          "text": [
            "Download helper_functions.py\n"
          ]
        }
      ]
    },
    {
      "cell_type": "code",
      "source": [
        "# Import accuracy metric \n",
        "from helper_functions import accuracy_fn\n",
        "\n",
        "# Setup loss function and optimizer\n",
        "loss_fn = nn.CrossEntropyLoss()\n",
        "optimizer = torch.optim.SGD(params=model_0.parameters(),\n",
        "                            lr=0.1)"
      ],
      "metadata": {
        "id": "v3YsMcnfXUhB"
      },
      "execution_count": 23,
      "outputs": []
    },
    {
      "cell_type": "markdown",
      "source": [
        "### 3.2 Creating a function to time our experiment\n",
        "\n",
        "\n",
        "Tow of the main things you'll often want to track are:\n",
        "\n",
        "1. Model's peformance (loss and accuracy values etc.)\n",
        "\n",
        "2. How fast it runs"
      ],
      "metadata": {
        "id": "MnJjrhgkXw4g"
      }
    },
    {
      "cell_type": "code",
      "source": [
        "from timeit import default_timer as timer\n",
        "def print_train_time(start: float,\n",
        "                     end: float,\n",
        "                     device: torch.device = None):\n",
        "  \"\"\"Prints difference between start and end time\"\"\"\n",
        "  total_time = end - start\n",
        "  print(f\"Train time on {device}: {total_time:3f} seconds\")\n",
        "  return total_time\n",
        "  \n"
      ],
      "metadata": {
        "id": "p9aG-5dtY7ns"
      },
      "execution_count": 24,
      "outputs": []
    },
    {
      "cell_type": "code",
      "source": [
        "start_time = timer()\n",
        "# Insert some code here\n",
        "\n",
        "end_time = timer()\n",
        "print_train_time(start=start_time, end=end_time, device = \"cpu\") #This returns the time of the code running"
      ],
      "metadata": {
        "colab": {
          "base_uri": "https://localhost:8080/"
        },
        "id": "qCtaBcasbIHj",
        "outputId": "dd3b6809-c4d2-4823-f89a-744f7f97b931"
      },
      "execution_count": 26,
      "outputs": [
        {
          "output_type": "stream",
          "name": "stdout",
          "text": [
            "Train time on cpu: 0.000030 seconds\n"
          ]
        },
        {
          "output_type": "execute_result",
          "data": {
            "text/plain": [
              "2.9736999749729875e-05"
            ]
          },
          "metadata": {},
          "execution_count": 26
        }
      ]
    },
    {
      "cell_type": "markdown",
      "source": [
        "### 3.3 Creating a training loop and training a model on  batches of data...\n",
        "\n",
        "\n",
        "\n",
        "*  Loop through epochs.\n",
        "\n",
        "*  Loop through training batches, perform training steps, calculate the train loss **per batch**\n",
        "\n",
        "*  Print out what's happening behind the loop\n",
        "\n",
        "*  Time it all "
      ],
      "metadata": {
        "id": "S89pgFHlblft"
      }
    },
    {
      "cell_type": "code",
      "source": [
        "# import tqdm  -> gives us how many epochs our training loop has gone through\n",
        "from tqdm.auto import tqdm\n",
        "\n",
        "#Set the seed and start the timer\n",
        "torch .manual_seed(42)\n",
        "train_time_start_on_cpu = timer()\n",
        "\n",
        "# Set the number of epochs (we'll keep this small for faster training time)\n",
        "epochs = 3\n",
        "\n",
        "# Create training and test loop\n",
        "for epoch in tqdm(range(epochs)):\n",
        "  print(f\"Epoch: {epoch}\\n-----\")\n",
        "  ### training\n",
        "  train_loss = 0\n",
        "  #Add a loop to loop through the training batches\n",
        "  for batch, (X, y) in enumerate(train_dataloader):\n",
        "    model_0.train()\n",
        "    #1. Forward pass \n",
        "    y_pred = model_0(X)\n",
        "\n",
        "    #2. Calculate loss (per batch)\n",
        "    loss = loss_fn(y_pred, y)\n",
        "    train_loss += loss #accumulate train loss\n",
        "\n",
        "    #3. Optimizer zero grad \n",
        "    optimizer.zero_grad()\n",
        "\n",
        "    #4. Loss backward\n",
        "    loss.backward()\n",
        "\n",
        "    #. Optimizer steps\n",
        "    optimizer.step()\n",
        "\n",
        "\n",
        "    #Print out what's happening \n",
        "    if batch % 400 == 0:\n",
        "      print(f\"Looked at {batch * len(X)}/{len(train_dataloader.dataset)} samples.\")\n",
        "\n",
        "  #Divide total train loss by length of train dataloader -> return average loss per epoch\n",
        "  train_loss /= len(train_dataloader)\n",
        "\n",
        "\n",
        "  ### Testing \n",
        "  test_loss, test_acc = 0, 0\n",
        "  model_0.eval()\n",
        "  with torch.inference_mode():\n",
        "    #1. Forward pass \n",
        "    test_pred = model_0(X_test)\n",
        "\n",
        "    #2. Calculate loss (accumulatively)\n",
        "    test_loss += loss_fn(test_pred, y_test)\n",
        "\n",
        "    #3. Calculate the accuracy\n",
        "    test_acc += accuracy_fn(y_true=y_test, y_pred=test_pred.argmax(dim=1)) #This returns the true class of our sample.\n",
        "\n",
        "    #4. Calculate the test loss average per batch\n",
        "    test_loss /= len(test_dataloader)\n",
        "\n",
        "    #Claculate the test acc average per batch\n",
        "    test_acc /= len(test_dataloader)\n",
        "\n",
        "  #Print out what's happening\n",
        "  print(f\"\\nTain loss: {train_loss:.4f} | Test loss: {test_loss:.4f}, Test acc: {test_acc:.4f}\")\n",
        "\n",
        "\n",
        "#Calulate the training time\n",
        "train_time_end_on_cpu = timer()\n",
        "total_train_time_model_0 = print_train_time(start=train_time_start_on_cpu,\n",
        "                                            end=train_time_end_on_cpu,\n",
        "                                            device=str(next(model_0.parameters()).device))\n",
        "\n",
        "\n",
        "\n",
        "\n",
        "\n"
      ],
      "metadata": {
        "colab": {
          "base_uri": "https://localhost:8080/",
          "height": 407,
          "referenced_widgets": [
            "0e0b25af0eb646f5a468b118e49c9e25",
            "df181697c9014f8eb79a4d1848f9b09b",
            "2955502a661441fbaeba23587c06f9af",
            "c7d4ec6702e94a619fe0297259826f8d",
            "ef27ba7514ed4f7f9b963588404e3bb0",
            "e8f38cba5d4f40ba83316f3cf27f11f5",
            "eb6de890b35b4a74b0894015bb423250",
            "3f41f10f889f4e4f9e50ab1f682d51c2",
            "9654f0d39e4649d9ae1e7c42201d7827",
            "5f0d465e8cac447ab0f6b17fd624e6b4",
            "73928eb18974426980957d70179e3cfc"
          ]
        },
        "id": "TqMNXYBzcp9R",
        "outputId": "2547fac4-2e2f-4687-ae2b-175b184fef19"
      },
      "execution_count": 34,
      "outputs": [
        {
          "output_type": "display_data",
          "data": {
            "text/plain": [
              "  0%|          | 0/3 [00:00<?, ?it/s]"
            ],
            "application/vnd.jupyter.widget-view+json": {
              "version_major": 2,
              "version_minor": 0,
              "model_id": "0e0b25af0eb646f5a468b118e49c9e25"
            }
          },
          "metadata": {}
        },
        {
          "output_type": "stream",
          "name": "stdout",
          "text": [
            "Epoch: 0\n",
            "-----\n",
            "Looked at 0/60000 samples.\n",
            "Looked at 12800/60000 samples.\n",
            "Looked at 25600/60000 samples.\n",
            "Looked at 38400/60000 samples.\n",
            "Looked at 51200/60000 samples.\n"
          ]
        },
        {
          "output_type": "error",
          "ename": "NameError",
          "evalue": "ignored",
          "traceback": [
            "\u001b[0;31m---------------------------------------------------------------------------\u001b[0m",
            "\u001b[0;31mNameError\u001b[0m                                 Traceback (most recent call last)",
            "\u001b[0;32m<ipython-input-34-46a8e14dff17>\u001b[0m in \u001b[0;36m<module>\u001b[0;34m\u001b[0m\n\u001b[1;32m     47\u001b[0m   \u001b[0;32mwith\u001b[0m \u001b[0mtorch\u001b[0m\u001b[0;34m.\u001b[0m\u001b[0minference_mode\u001b[0m\u001b[0;34m(\u001b[0m\u001b[0;34m)\u001b[0m\u001b[0;34m:\u001b[0m\u001b[0;34m\u001b[0m\u001b[0;34m\u001b[0m\u001b[0m\n\u001b[1;32m     48\u001b[0m     \u001b[0;31m#1. Forward pass\u001b[0m\u001b[0;34m\u001b[0m\u001b[0;34m\u001b[0m\u001b[0;34m\u001b[0m\u001b[0m\n\u001b[0;32m---> 49\u001b[0;31m     \u001b[0mtest_pred\u001b[0m \u001b[0;34m=\u001b[0m \u001b[0mmodel_0\u001b[0m\u001b[0;34m(\u001b[0m\u001b[0mX_test\u001b[0m\u001b[0;34m)\u001b[0m\u001b[0;34m\u001b[0m\u001b[0;34m\u001b[0m\u001b[0m\n\u001b[0m\u001b[1;32m     50\u001b[0m \u001b[0;34m\u001b[0m\u001b[0m\n\u001b[1;32m     51\u001b[0m     \u001b[0;31m#2. Calculate loss (accumulatively)\u001b[0m\u001b[0;34m\u001b[0m\u001b[0;34m\u001b[0m\u001b[0;34m\u001b[0m\u001b[0m\n",
            "\u001b[0;31mNameError\u001b[0m: name 'X_test' is not defined"
          ]
        }
      ]
    },
    {
      "cell_type": "code",
      "source": [
        "str(next(model_0.parameters()).device)"
      ],
      "metadata": {
        "colab": {
          "base_uri": "https://localhost:8080/",
          "height": 36
        },
        "id": "tWvX0xM8jW2R",
        "outputId": "ee5ab7a3-733c-470f-8057-02a1241ca22e"
      },
      "execution_count": 33,
      "outputs": [
        {
          "output_type": "execute_result",
          "data": {
            "text/plain": [
              "'cpu'"
            ],
            "application/vnd.google.colaboratory.intrinsic+json": {
              "type": "string"
            }
          },
          "metadata": {},
          "execution_count": 33
        }
      ]
    },
    {
      "cell_type": "code",
      "source": [],
      "metadata": {
        "id": "koOoEZF_d6nd"
      },
      "execution_count": null,
      "outputs": []
    }
  ]
}
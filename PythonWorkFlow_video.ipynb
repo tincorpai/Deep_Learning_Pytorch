{
  "nbformat": 4,
  "nbformat_minor": 0,
  "metadata": {
    "colab": {
      "provenance": [],
      "authorship_tag": "ABX9TyMwBHlrwap93bIBSZNT//Nd",
      "include_colab_link": true
    },
    "kernelspec": {
      "name": "python3",
      "display_name": "Python 3"
    },
    "language_info": {
      "name": "python"
    }
  },
  "cells": [
    {
      "cell_type": "markdown",
      "metadata": {
        "id": "view-in-github",
        "colab_type": "text"
      },
      "source": [
        "<a href=\"https://colab.research.google.com/github/tincorpai/Deep_Learning_Pytorch/blob/master/PythonWorkFlow_video.ipynb\" target=\"_parent\"><img src=\"https://colab.research.google.com/assets/colab-badge.svg\" alt=\"Open In Colab\"/></a>"
      ]
    },
    {
      "cell_type": "markdown",
      "source": [
        "# PyTorch Workflow\n",
        "\n",
        "* Get data ready (turn into tensors)\n",
        "\n",
        "* Build or pick a pretrained model\n",
        "\n",
        "* Fit the model to the data and make a prediction\n",
        "\n",
        "* Evaluate the model\n",
        "\n",
        "* Improve through experimentation\n",
        "\n",
        "* Save and reload your trined model"
      ],
      "metadata": {
        "id": "HONpEuSb700h"
      }
    },
    {
      "cell_type": "markdown",
      "source": [
        "## Where to get help?\n"
      ],
      "metadata": {
        "id": "z0Wr--XJ9uRK"
      }
    },
    {
      "cell_type": "markdown",
      "source": [
        " * Follow along with the code \n",
        "\n",
        " * Try it for yourself \n",
        "\n",
        " * Press SHIFT + CMD + SPACE to read the docstring \n",
        "\n",
        " * Search for it: use stack overflow\n",
        "\n",
        " * Try again \n",
        "\n",
        " * Ask "
      ],
      "metadata": {
        "id": "PWL8QAcE-tva"
      }
    },
    {
      "cell_type": "markdown",
      "source": [
        "#PyTorch Workflow\n",
        "\n",
        "\n",
        "Let's explore an example PyTorch end-to-end workflow.\n",
        "\n",
        "Resources:\n",
        "\n",
        "* Ground truth notebook - https://github.com/mrdbourke/pytorch-deep-learning/blob/main/02_pytorch_classification.ipynb\n",
        "\n",
        "* Book version of notebook - https://www.learnpytorch.io/01_pytorch_workflow/\n",
        "\n",
        "* Ask Questions - https://github.com/mrdbourke/pytorch-deep-learning/discussions"
      ],
      "metadata": {
        "id": "6TSCmk3o_Bzo"
      }
    },
    {
      "cell_type": "code",
      "source": [
        "what_weare_covering = {1:  \"data (prepare and load)\",\n",
        "                      2:   \"build model\",\n",
        "                      3:    \"fitting the model to data (training)\",\n",
        "                      4:    \"making predictions and evaluating a model (inferences)\",\n",
        "                      5:    \"saving and loading a model\",\n",
        "                      6:    \"putting it all together\"\n",
        "                       }\n",
        "what_weare_covering"
      ],
      "metadata": {
        "colab": {
          "base_uri": "https://localhost:8080/"
        },
        "id": "S3Y_AWMzASgD",
        "outputId": "444191b7-812c-4826-8216-73e06577ca04"
      },
      "execution_count": 6,
      "outputs": [
        {
          "output_type": "execute_result",
          "data": {
            "text/plain": [
              "{1: 'data (prepare and load)',\n",
              " 2: 'build model',\n",
              " 3: 'fitting the model to data (training)',\n",
              " 4: 'making predictions and evaluating a model (inferences)',\n",
              " 5: 'saving and loading a model',\n",
              " 6: 'putting it all together'}"
            ]
          },
          "metadata": {},
          "execution_count": 6
        }
      ]
    },
    {
      "cell_type": "code",
      "source": [
        "import torch\n",
        "from torch import nn #nn contains all of PyTorch's building bloacks for neural networks. \n",
        "#it is also a building blocks of graphs. Graphs is reffered to as computational gragh. \n",
        "#it is the job of machine learning engineers to combine trc.nn building blocks to build any deep learning frame work.\n",
        "\n",
        "import matplotlib.pyplot as plt\n",
        "\n"
      ],
      "metadata": {
        "id": "-78-TOuNDmfo"
      },
      "execution_count": 9,
      "outputs": []
    },
    {
      "cell_type": "code",
      "source": [
        "#check PyTorch version\n",
        "torch.__version__"
      ],
      "metadata": {
        "colab": {
          "base_uri": "https://localhost:8080/",
          "height": 35
        },
        "id": "DtOzrdk2D9YD",
        "outputId": "3ec39460-18d8-44e0-ed92-4b68a0bd7abd"
      },
      "execution_count": 10,
      "outputs": [
        {
          "output_type": "execute_result",
          "data": {
            "text/plain": [
              "'1.13.1+cu116'"
            ],
            "application/vnd.google.colaboratory.intrinsic+json": {
              "type": "string"
            }
          },
          "metadata": {},
          "execution_count": 10
        }
      ]
    },
    {
      "cell_type": "markdown",
      "source": [
        "##1. Data (preparing and loading)\n",
        "\n",
        "\n",
        "Data can be almost anything...  in machine learning.\n",
        "\n",
        "*  Excel spreadsheet\n",
        "*  Images of any kind\n",
        "\n",
        "*  Videos (Youtube has lots of data...)\n",
        "\n",
        "*  Audio like songs or podcasts\n",
        "\n",
        "*  DNA\n",
        "\n",
        "*  Text\n"
      ],
      "metadata": {
        "id": "WiO16cmBGJTV"
      }
    },
    {
      "cell_type": "markdown",
      "source": [
        "Machine learning is a game of two parts:\n",
        "1. Get data into a numerical representations\n",
        "2. Build a model to learn patterns in that numrical representation."
      ],
      "metadata": {
        "id": "TaT-Y4dgHQ0_"
      }
    },
    {
      "cell_type": "markdown",
      "source": [
        "To showcase this, ley's create some *known* data using linear regression formula.\n",
        "\n",
        "We'll use a linear regression formula to make a straight line with known parameters.\n",
        "\n",
        "We know these parameters but we want to build a model that will estimate these\n",
        "**parameters** by building some examples."
      ],
      "metadata": {
        "id": "IL03lSZ9Hn7H"
      }
    },
    {
      "cell_type": "code",
      "source": [
        "# crete *known* parameters \n",
        "weight = 0.7\n",
        "bias = 0.3\n",
        "\n",
        "# Create \n",
        "start = 0\n",
        "end = 1\n",
        "step = 0.02\n",
        "X = torch.arange(start, end, step).unsqueeze(dim=1)\n",
        "y  = weight * X + bias "
      ],
      "metadata": {
        "id": "AxOTZv8jIVXu"
      },
      "execution_count": 12,
      "outputs": []
    },
    {
      "cell_type": "code",
      "source": [
        "X[:10], y[:10]"
      ],
      "metadata": {
        "colab": {
          "base_uri": "https://localhost:8080/"
        },
        "id": "RwosQcOpJXn2",
        "outputId": "4f7adec5-4b42-4e94-c8d3-7abf2681359a"
      },
      "execution_count": 17,
      "outputs": [
        {
          "output_type": "execute_result",
          "data": {
            "text/plain": [
              "(tensor([[0.0000],\n",
              "         [0.0200],\n",
              "         [0.0400],\n",
              "         [0.0600],\n",
              "         [0.0800],\n",
              "         [0.1000],\n",
              "         [0.1200],\n",
              "         [0.1400],\n",
              "         [0.1600],\n",
              "         [0.1800]]), tensor([[0.3000],\n",
              "         [0.3140],\n",
              "         [0.3280],\n",
              "         [0.3420],\n",
              "         [0.3560],\n",
              "         [0.3700],\n",
              "         [0.3840],\n",
              "         [0.3980],\n",
              "         [0.4120],\n",
              "         [0.4260]]))"
            ]
          },
          "metadata": {},
          "execution_count": 17
        }
      ]
    },
    {
      "cell_type": "code",
      "source": [
        "len(X), len(y)"
      ],
      "metadata": {
        "colab": {
          "base_uri": "https://localhost:8080/"
        },
        "id": "QDSpjputKhpa",
        "outputId": "bb6094f3-4d6e-4544-dea5-6118d32e8d7d"
      },
      "execution_count": 16,
      "outputs": [
        {
          "output_type": "execute_result",
          "data": {
            "text/plain": [
              "(50, 50)"
            ]
          },
          "metadata": {},
          "execution_count": 16
        }
      ]
    },
    {
      "cell_type": "code",
      "source": [],
      "metadata": {
        "id": "LWppVLI1K1oA"
      },
      "execution_count": null,
      "outputs": []
    }
  ]
}
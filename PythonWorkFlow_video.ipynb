{
  "nbformat": 4,
  "nbformat_minor": 0,
  "metadata": {
    "colab": {
      "provenance": [],
      "toc_visible": true,
      "authorship_tag": "ABX9TyNh7YAOPceor0FYbT3/PcQa",
      "include_colab_link": true
    },
    "kernelspec": {
      "name": "python3",
      "display_name": "Python 3"
    },
    "language_info": {
      "name": "python"
    }
  },
  "cells": [
    {
      "cell_type": "markdown",
      "metadata": {
        "id": "view-in-github",
        "colab_type": "text"
      },
      "source": [
        "<a href=\"https://colab.research.google.com/github/tincorpai/Deep_Learning_Pytorch/blob/master/PythonWorkFlow_video.ipynb\" target=\"_parent\"><img src=\"https://colab.research.google.com/assets/colab-badge.svg\" alt=\"Open In Colab\"/></a>"
      ]
    },
    {
      "cell_type": "markdown",
      "source": [
        "# PyTorch Workflow\n",
        "\n",
        "* Get data ready (turn into tensors)\n",
        "\n",
        "* Build or pick a pretrained model\n",
        "\n",
        "* Fit the model to the data and make a prediction\n",
        "\n",
        "* Evaluate the model\n",
        "\n",
        "* Improve through experimentation\n",
        "\n",
        "* Save and reload your trined model"
      ],
      "metadata": {
        "id": "HONpEuSb700h"
      }
    },
    {
      "cell_type": "markdown",
      "source": [
        "## Where to get help?\n"
      ],
      "metadata": {
        "id": "z0Wr--XJ9uRK"
      }
    },
    {
      "cell_type": "markdown",
      "source": [
        " * Follow along with the code \n",
        "\n",
        " * Try it for yourself \n",
        "\n",
        " * Press SHIFT + CMD + SPACE to read the docstring \n",
        "\n",
        " * Search for it: use stack overflow\n",
        "\n",
        " * Try again \n",
        "\n",
        " * Ask "
      ],
      "metadata": {
        "id": "PWL8QAcE-tva"
      }
    },
    {
      "cell_type": "markdown",
      "source": [
        "## PyTorch Workflow\n",
        "\n",
        "\n",
        "Let's explore an example PyTorch end-to-end workflow.\n",
        "\n",
        "Resources:\n",
        "\n",
        "* Ground truth notebook - https://github.com/mrdbourke/pytorch-deep-learning/blob/main/02_pytorch_classification.ipynb\n",
        "\n",
        "* Book version of notebook - https://www.learnpytorch.io/01_pytorch_workflow/\n",
        "\n",
        "* Ask Questions - https://github.com/mrdbourke/pytorch-deep-learning/discussions"
      ],
      "metadata": {
        "id": "6TSCmk3o_Bzo"
      }
    },
    {
      "cell_type": "code",
      "source": [
        "what_weare_covering = {1:  \"data (prepare and load)\",\n",
        "                      2:   \"build model\",\n",
        "                      3:    \"fitting the model to data (training)\",\n",
        "                      4:    \"making predictions and evaluating a model (inferences)\",\n",
        "                      5:    \"saving and loading a model\",\n",
        "                      6:    \"putting it all together\"\n",
        "                       }\n",
        "what_weare_covering"
      ],
      "metadata": {
        "colab": {
          "base_uri": "https://localhost:8080/"
        },
        "id": "S3Y_AWMzASgD",
        "outputId": "46bf4ce4-c4b0-43c6-8c2e-39ec70cb9a15"
      },
      "execution_count": 2,
      "outputs": [
        {
          "output_type": "execute_result",
          "data": {
            "text/plain": [
              "{1: 'data (prepare and load)',\n",
              " 2: 'build model',\n",
              " 3: 'fitting the model to data (training)',\n",
              " 4: 'making predictions and evaluating a model (inferences)',\n",
              " 5: 'saving and loading a model',\n",
              " 6: 'putting it all together'}"
            ]
          },
          "metadata": {},
          "execution_count": 2
        }
      ]
    },
    {
      "cell_type": "code",
      "source": [
        "import torch\n",
        "from torch import nn #nn contains all of PyTorch's building bloacks for neural networks. \n",
        "#it is also a building blocks of graphs. Graphs is reffered to as computational gragh. \n",
        "#it is the job of machine learning engineers to combine trc.nn building blocks to build any deep learning frame work.\n",
        "\n",
        "import matplotlib.pyplot as plt\n",
        "import numpy as np\n"
      ],
      "metadata": {
        "id": "-78-TOuNDmfo"
      },
      "execution_count": 3,
      "outputs": []
    },
    {
      "cell_type": "code",
      "source": [
        "#check PyTorch version\n",
        "torch.__version__"
      ],
      "metadata": {
        "colab": {
          "base_uri": "https://localhost:8080/",
          "height": 35
        },
        "id": "DtOzrdk2D9YD",
        "outputId": "01ee87a0-77fd-44e6-bb0d-f396ac3316f4"
      },
      "execution_count": 4,
      "outputs": [
        {
          "output_type": "execute_result",
          "data": {
            "text/plain": [
              "'1.13.1+cu116'"
            ],
            "application/vnd.google.colaboratory.intrinsic+json": {
              "type": "string"
            }
          },
          "metadata": {},
          "execution_count": 4
        }
      ]
    },
    {
      "cell_type": "markdown",
      "source": [
        "##1. Data (preparing and loading)\n",
        "\n",
        "\n",
        "Data can be almost anything...  in machine learning.\n",
        "\n",
        "*  Excel spreadsheet\n",
        "*  Images of any kind\n",
        "\n",
        "*  Videos (Youtube has lots of data...)\n",
        "\n",
        "*  Audio like songs or podcasts\n",
        "\n",
        "*  DNA\n",
        "\n",
        "*  Text\n"
      ],
      "metadata": {
        "id": "WiO16cmBGJTV"
      }
    },
    {
      "cell_type": "markdown",
      "source": [
        "Machine learning is a game of two parts:\n",
        "1. Get data into a numerical representations\n",
        "2. Build a model to learn patterns in that numrical representation."
      ],
      "metadata": {
        "id": "TaT-Y4dgHQ0_"
      }
    },
    {
      "cell_type": "markdown",
      "source": [
        "To showcase this, ley's create some *known* data using linear regression formula.\n",
        "\n",
        "We'll use a linear regression formula to make a straight line with known parameters.\n",
        "\n",
        "We know these parameters but we want to build a model that will estimate these\n",
        "**parameters** by building some examples."
      ],
      "metadata": {
        "id": "IL03lSZ9Hn7H"
      }
    },
    {
      "cell_type": "code",
      "source": [
        "# crete *known* parameters \n",
        "weight = 0.7\n",
        "bias = 0.3\n",
        "\n",
        "# Create \n",
        "start = 0\n",
        "end = 1\n",
        "step = 0.02\n",
        "X = torch.arange(start, end, step).unsqueeze(dim=1) #Adds extra dimension.\n",
        "y  = weight * X + bias "
      ],
      "metadata": {
        "id": "AxOTZv8jIVXu"
      },
      "execution_count": 5,
      "outputs": []
    },
    {
      "cell_type": "code",
      "source": [
        "X[:10], y[:10]"
      ],
      "metadata": {
        "colab": {
          "base_uri": "https://localhost:8080/"
        },
        "id": "RwosQcOpJXn2",
        "outputId": "9be5dbcc-bca2-497b-f4ff-0106c814ee55"
      },
      "execution_count": 6,
      "outputs": [
        {
          "output_type": "execute_result",
          "data": {
            "text/plain": [
              "(tensor([[0.0000],\n",
              "         [0.0200],\n",
              "         [0.0400],\n",
              "         [0.0600],\n",
              "         [0.0800],\n",
              "         [0.1000],\n",
              "         [0.1200],\n",
              "         [0.1400],\n",
              "         [0.1600],\n",
              "         [0.1800]]), tensor([[0.3000],\n",
              "         [0.3140],\n",
              "         [0.3280],\n",
              "         [0.3420],\n",
              "         [0.3560],\n",
              "         [0.3700],\n",
              "         [0.3840],\n",
              "         [0.3980],\n",
              "         [0.4120],\n",
              "         [0.4260]]))"
            ]
          },
          "metadata": {},
          "execution_count": 6
        }
      ]
    },
    {
      "cell_type": "code",
      "source": [
        "len(X), len(y)"
      ],
      "metadata": {
        "colab": {
          "base_uri": "https://localhost:8080/"
        },
        "id": "QDSpjputKhpa",
        "outputId": "b8789092-e6f5-482e-ee64-e88cabe6c1d4"
      },
      "execution_count": 7,
      "outputs": [
        {
          "output_type": "execute_result",
          "data": {
            "text/plain": [
              "(50, 50)"
            ]
          },
          "metadata": {},
          "execution_count": 7
        }
      ]
    },
    {
      "cell_type": "markdown",
      "source": [
        "### Splitting data into training and test sets (one of the most important concepts in machine learning in general)"
      ],
      "metadata": {
        "id": "LWppVLI1K1oA"
      }
    },
    {
      "cell_type": "markdown",
      "source": [
        "Three datasets exist in data science: They are\n",
        "\n",
        "1)  Training set:  Model learns patterns from training set\n",
        "\n",
        "2)  Validation set:  Tune the model on the validation set\n",
        "\n",
        "3)  Test set:  The test set examines the model's generalization.\n",
        "\n",
        "\n",
        "Generalization is the ability for a machine learning model to perform well on data it hasn't seen before.\n",
        "\n",
        "\n",
        "We want to build a machine learning model on some training data and we want to deploy on applications and production settings and then more data comes in than it has not seen before and it can make decision base on the new data because of the patterns it has learn in the training data.\n"
      ],
      "metadata": {
        "id": "EIaEikZVK88m"
      }
    },
    {
      "cell_type": "markdown",
      "source": [
        "Let's create a training and test set with our data"
      ],
      "metadata": {
        "id": "pPl7em-JjsZ4"
      }
    },
    {
      "cell_type": "code",
      "source": [
        "#Create a train/test split\n",
        "train_split = int(0.8 * len(X))\n",
        "train_split"
      ],
      "metadata": {
        "colab": {
          "base_uri": "https://localhost:8080/"
        },
        "id": "n2inWNnomML_",
        "outputId": "f8e7e03d-09af-43e3-bdc0-dec1838a3c97"
      },
      "execution_count": 8,
      "outputs": [
        {
          "output_type": "execute_result",
          "data": {
            "text/plain": [
              "40"
            ]
          },
          "metadata": {},
          "execution_count": 8
        }
      ]
    },
    {
      "cell_type": "code",
      "source": [
        "X_train, y_train = X[:train_split], y[:train_split]\n",
        "X_test, y_test = X[train_split:], y[train_split:]\n",
        "\n",
        "len(X_train), len(y_train), len(X_test), len(y_test)"
      ],
      "metadata": {
        "colab": {
          "base_uri": "https://localhost:8080/"
        },
        "id": "_fDeom3MmPHK",
        "outputId": "04bcc73b-254e-4ba9-f850-d83e3a85ed72"
      },
      "execution_count": 9,
      "outputs": [
        {
          "output_type": "execute_result",
          "data": {
            "text/plain": [
              "(40, 40, 10, 10)"
            ]
          },
          "metadata": {},
          "execution_count": 9
        }
      ]
    },
    {
      "cell_type": "markdown",
      "source": [
        "## Building a Function to Visualiza Our Data"
      ],
      "metadata": {
        "id": "STK6MLEAnSka"
      }
    },
    {
      "cell_type": "markdown",
      "source": [
        "How might we better visualize our data?\n",
        "\n",
        "This is where we visualize our dataset.\n"
      ],
      "metadata": {
        "id": "cs9MsJPon7I6"
      }
    },
    {
      "cell_type": "code",
      "source": [],
      "metadata": {
        "id": "aYZ2JWtYsdI4"
      },
      "execution_count": 9,
      "outputs": []
    },
    {
      "cell_type": "code",
      "source": [
        "def plot_predictions(train_data=X_train,\n",
        "                     train_labels=y_train,\n",
        "                     test_data=X_test,\n",
        "                     test_labels=y_test,\n",
        "                     predictions=None):\n",
        "  \"\"\"\n",
        "  Plots training data, test data and compares predictions\n",
        "  \"\"\"\n",
        "  plt.figure(figsize=(10, 7))  #size of the figure \n",
        "  \n",
        "  #Plot training data in blue\n",
        "  plt.scatter(train_data, train_labels, c=\"b\", s=4, label=\"Training data\") #scatter plot of train_data vs train_labels\n",
        "  \n",
        "  #Plot test data in green \n",
        "  plt.scatter(test_data, test_labels, c=\"g\", s=4, label=\"Testing data\")  #scatter plot of test_data vs test_labels\n",
        "  \n",
        "  #Are there predictions?\n",
        "  if predictions is not None:\n",
        "    #Plot the predictions if they exist\n",
        "    plt.scatter(test_data, predictions, c=\"r\", s=4, label=\"Predictions\") #scatter plot of test_data vs predictions\n",
        "    \n",
        "  # Show the legend\n",
        "  plt.legend(prop={\"size\": 14});"
      ],
      "metadata": {
        "id": "SZaCsI-sqQg8"
      },
      "execution_count": 10,
      "outputs": []
    },
    {
      "cell_type": "code",
      "source": [
        "plot_predictions()"
      ],
      "metadata": {
        "colab": {
          "base_uri": "https://localhost:8080/",
          "height": 428
        },
        "id": "EOiGNFcauPs2",
        "outputId": "d34670fc-e162-4941-87ed-cebe30e0a97d"
      },
      "execution_count": 11,
      "outputs": [
        {
          "output_type": "display_data",
          "data": {
            "text/plain": [
              "<Figure size 720x504 with 1 Axes>"
            ],
            "image/png": "[encoded data removed]"
          },
          "metadata": {
            "needs_background": "light"
          }
        }
      ]
    },
    {
      "cell_type": "markdown",
      "source": [
        "We will build a model to learn a pattern of the blue dot so that the x value of the green dot will be able to predict the appropriate y value."
      ],
      "metadata": {
        "id": "WZz9AG1_uS4D"
      }
    },
    {
      "cell_type": "markdown",
      "source": [
        "### Creatng Our First PyTorch Model for Linear Regression\n",
        "\n",
        "Because we will be building classes,the following resources will be useful.\n",
        "\n",
        "https://realpython.com/python3-object-oriented-programming/\n",
        "\n",
        "\n",
        "What our model does:\n",
        "*  Start with random values (weight & bias)\n",
        "*  Look at training data and adjust the random values to better represent (or get closer to) the ideal values ((The weight & bias values we used to create the data).\n",
        "\n",
        "\n",
        "How does it do so?\n",
        "**bold text**\n",
        "Through two main algorithms:\n",
        "\n",
        "1) Gradient descents: https://www.youtube.com/watch?v=IHZwWFHWa-w\n",
        "\n",
        "2) Backpropagation: https://www.youtube.com/watch?v=tIeHLnjs5U8&t=6s\n",
        "\n",
        "Gradient descent is why we have requires_grad = True. When running the code below, Python will keep track of the gradient of the weight and bias parameters and it will update the parameters through the combination of Gradient descent and back propagation."
      ],
      "metadata": {
        "id": "0fF2fgDavpzH"
      }
    },
    {
      "cell_type": "markdown",
      "source": [
        "it is not necessarilly important to initialize your model with random parameters, you can initialize your model with zeros or use the parameters with another model.\n",
        "\n",
        "This is called transfer learning. The ideal model will replicate the known parameters"
      ],
      "metadata": {
        "id": "pA_j9yBNjrXk"
      }
    },
    {
      "cell_type": "code",
      "source": [
        "from typing_extensions import Self\n",
        "from torch import nn\n",
        "# Create a linear regression model class.\n",
        "\n",
        "class LinearRegressionModel(nn.Module):\n",
        "  def __init__(self):\n",
        "    #<- almost everything in PyTorch is from nn.modules. Your module should subclass this class\n",
        "    super().__init__()\n",
        "    self.weight = nn.Parameter(torch.randn(1,\n",
        "                                         requires_grad=True,\n",
        "                                         dtype=torch.float))\n",
        "    self.bias  = nn.Parameter(torch.randn(1,\n",
        "                                       requires_grad=True,\n",
        "                                       dtype=torch.float))\n",
        "    # Forward methor to define the computation in the model\n",
        "  def forward(self, X: torch.Tensor) -> torch.Tensor:\n",
        "    # \"x\" is the input data\n",
        "    return self.weight * X + self.bias  \n",
        "    # this is the linear regression formula\n",
        "    #the forward module is the compuation that the module does. You need to define\n",
        "    #the forward module if you want to subclass nn.Module. \n",
        "    #we pass the data to nn.Module and the forward method will perform the compuation\n"
      ],
      "metadata": {
        "id": "Zld9HqDUwUx1"
      },
      "execution_count": 12,
      "outputs": []
    },
    {
      "cell_type": "markdown",
      "source": [
        "### PyTorch Model Building Essentials \n",
        "\n",
        "* torch.nn - contains all of the building blocks for computational graphs (a neural network can be considered a compuational grpah).\n",
        "\n",
        "* torch.nn.Parameter - what parameters should our model try and learn, often a PyTorch layer parameter from torch.nn will set these for us\n",
        "\n",
        "* torch.nn.Module - The base class for all neural network modules, if you subclass it, you should overwrite forward() method.\n",
        "\n",
        "* torch.optim - Otimizers in PyTorch live here, and they will help with gradient descent.\n",
        "\n",
        "*  def forward() - All nn.Module subclasses require you to overwrite forward(),\n",
        "this method defines what happens in the forward computation.\n",
        "\n",
        "See some essential modules via PyTorch cheatsheet - https://pytorch.org/tutorials/beginner/ptcheat.html"
      ],
      "metadata": {
        "id": "t2qTziiew2Ia"
      }
    },
    {
      "cell_type": "markdown",
      "source": [
        "#### Checking the contents of our PyTorch Model\n",
        "\n",
        "We can check our model parameters or what is inside our model using .parameters()."
      ],
      "metadata": {
        "id": "1ZQuKaQ7DvmS"
      }
    },
    {
      "cell_type": "code",
      "source": [
        "#Create a random seed. Because we will want to get the same value everytime \n",
        "torch.manual_seed(42)\n",
        "\n",
        "#Create an instance of the model (this is a subclass of nn.Module)\n",
        "model_0 = LinearRegressionModel()\n",
        "\n",
        "#check out the parameters\n",
        "list(model_0.parameters())"
      ],
      "metadata": {
        "colab": {
          "base_uri": "https://localhost:8080/"
        },
        "id": "C1fNb4D9Fs34",
        "outputId": "8fe63a63-f7b9-4731-c424-1381733e6852"
      },
      "execution_count": 13,
      "outputs": [
        {
          "output_type": "execute_result",
          "data": {
            "text/plain": [
              "[Parameter containing:\n",
              " tensor([0.3367], requires_grad=True), Parameter containing:\n",
              " tensor([0.1288], requires_grad=True)]"
            ]
          },
          "metadata": {},
          "execution_count": 13
        }
      ]
    },
    {
      "cell_type": "code",
      "source": [
        "model_0.state_dict()"
      ],
      "metadata": {
        "colab": {
          "base_uri": "https://localhost:8080/"
        },
        "id": "GEbsRy38ZnSz",
        "outputId": "e5dd7483-810a-4df6-cf98-467be31faa0b"
      },
      "execution_count": 14,
      "outputs": [
        {
          "output_type": "execute_result",
          "data": {
            "text/plain": [
              "OrderedDict([('weight', tensor([0.3367])), ('bias', tensor([0.1288]))])"
            ]
          },
          "metadata": {},
          "execution_count": 14
        }
      ]
    },
    {
      "cell_type": "markdown",
      "source": [
        "We need to adjust our weights and bias that we start as random values and we tune the model in order to move the random values to the true parameters values as close as possible to the true value. "
      ],
      "metadata": {
        "id": "VRDG_egAbKOF"
      }
    },
    {
      "cell_type": "markdown",
      "source": [
        "### Making Prediction using `torch.inference_mode()`\n",
        "\n",
        "To check our model's predictive power, check how well its predicts 'y_test' based on x_test\n",
        "\n",
        "When we pass data through our model, it is going to run it through the `forward()` method."
      ],
      "metadata": {
        "id": "RBR1k9fMbUcI"
      }
    },
    {
      "cell_type": "code",
      "source": [
        "#make predictions with model\n",
        "with torch.inference_mode(): #it turns off inference tracking to maximize space\n",
        "  y_preds = model_0(X_test) #You can do something similar with torch.no_grad(), \n",
        "#however, inference mode is preferred.\n",
        "\n",
        "y_preds"
      ],
      "metadata": {
        "colab": {
          "base_uri": "https://localhost:8080/"
        },
        "id": "GSgcc8TWekF9",
        "outputId": "cf079504-77a1-4e7a-98ff-af08ac4a951e"
      },
      "execution_count": 15,
      "outputs": [
        {
          "output_type": "execute_result",
          "data": {
            "text/plain": [
              "tensor([[0.3982],\n",
              "        [0.4049],\n",
              "        [0.4116],\n",
              "        [0.4184],\n",
              "        [0.4251],\n",
              "        [0.4318],\n",
              "        [0.4386],\n",
              "        [0.4453],\n",
              "        [0.4520],\n",
              "        [0.4588]])"
            ]
          },
          "metadata": {},
          "execution_count": 15
        }
      ]
    },
    {
      "cell_type": "code",
      "source": [
        "y_test"
      ],
      "metadata": {
        "colab": {
          "base_uri": "https://localhost:8080/"
        },
        "id": "u0k2JiTfl6U2",
        "outputId": "2fd9b25d-05e7-4149-ee7d-a1e7a4df7b93"
      },
      "execution_count": 16,
      "outputs": [
        {
          "output_type": "execute_result",
          "data": {
            "text/plain": [
              "tensor([[0.8600],\n",
              "        [0.8740],\n",
              "        [0.8880],\n",
              "        [0.9020],\n",
              "        [0.9160],\n",
              "        [0.9300],\n",
              "        [0.9440],\n",
              "        [0.9580],\n",
              "        [0.9720],\n",
              "        [0.9860]])"
            ]
          },
          "metadata": {},
          "execution_count": 16
        }
      ]
    },
    {
      "cell_type": "markdown",
      "source": [
        "For details of the PyTorch inference mode, check out this link:\n",
        "https://twitter.com/pytorch/status/1437838231505096708"
      ],
      "metadata": {
        "id": "8n51D0IOoIYo"
      }
    },
    {
      "cell_type": "code",
      "source": [
        "plot_predictions(predictions=y_preds)"
      ],
      "metadata": {
        "colab": {
          "base_uri": "https://localhost:8080/",
          "height": 428
        },
        "id": "L4ji-xhUmcJD",
        "outputId": "5a58d1f0-900c-4b56-9641-412fa07a5d5f"
      },
      "execution_count": 17,
      "outputs": [
        {
          "output_type": "display_data",
          "data": {
            "text/plain": [
              "<Figure size 720x504 with 1 Axes>"
            ],
            "image/png": "[encoded data removed]"
          },
          "metadata": {
            "needs_background": "light"
          }
        }
      ]
    },
    {
      "cell_type": "markdown",
      "source": [
        "The whole idea of training is for a model to move from *unknown* parameters\n",
        "(these may be random) to some *known* parameters.\n",
        "\n",
        "Or in other words from a poor representation of the data to a better representation of the data. From the model we showcased above, we see that this is a poor representation of our dataset.\n",
        "\n",
        "One way to measure the representation between your model outputs, in our case the red dot prediction, and the testing data is to use the **loss function**.\n",
        "\n",
        "\n",
        "Note: Loss function can also be called cost function or criterion in different areas. For this work, we will refer to it as a loss function.\n",
        "\n",
        "\n",
        "Things we need to train:\n",
        "\n",
        "*  **Loss function:** A function to measure how wrong your model's prediction is to the ideal outputs. For more information on loss function, checkout this link:https://pytorch.org/docs/stable/nn.html#loss-functions\n",
        "\n",
        "*  **Optimizer:** Takes into account the loss of a model and adjust the model's parameters (e.g. weight & bias in our case) to improve the loss function.\n",
        "For getting more information about optimizer, checkout this link:https://pytorch.org/docs/stable/optim.html\n",
        "     \n",
        "      Inside the optimizer, you will often set two parameters:\n",
        "          * params: the model parameters you did like to optimize, for example \n",
        "            params = model_0.parameters().\n",
        "\n",
        "          * lr (learning rate) - the learning rate is a hyperparameter that \n",
        "            defines how big/small the optimizer changes the parameters with \n",
        "            each step (a small lr results in small changes, a large lr results \n",
        "            large changes.\n",
        "\n",
        "\n",
        "\n",
        "And specifically for PyTorch, we need: \n",
        "\n",
        "* A training loop \n",
        "\n",
        "* A testing loop\n",
        "\n",
        "In other words, the loss function takes into account how wrong our model is and the optimizer takes into cognizant the outcome from the loss function and tune or adjust the parameters (weight and bias in the example) to improve the loss \n",
        "function.\n",
        "\n",
        "Hyperparameters is what machine engineers and data scientists set while the parameters is set by the model."
      ],
      "metadata": {
        "id": "zcINnpDGh_au"
      }
    },
    {
      "cell_type": "code",
      "source": [
        "list(model_0.parameters())"
      ],
      "metadata": {
        "colab": {
          "base_uri": "https://localhost:8080/"
        },
        "id": "ulS38KqijgGa",
        "outputId": "70e881a7-22b3-4d6f-dd8a-8bc2082ac6a8"
      },
      "execution_count": 18,
      "outputs": [
        {
          "output_type": "execute_result",
          "data": {
            "text/plain": [
              "[Parameter containing:\n",
              " tensor([0.3367], requires_grad=True), Parameter containing:\n",
              " tensor([0.1288], requires_grad=True)]"
            ]
          },
          "metadata": {},
          "execution_count": 18
        }
      ]
    },
    {
      "cell_type": "code",
      "source": [
        "#Check out our model's parameters (a parameter is a value that the model sets itself)\n",
        "model_0.state_dict()"
      ],
      "metadata": {
        "colab": {
          "base_uri": "https://localhost:8080/"
        },
        "id": "zasHnxHvioz7",
        "outputId": "1d980525-1016-4d77-c236-db092da565a8"
      },
      "execution_count": 19,
      "outputs": [
        {
          "output_type": "execute_result",
          "data": {
            "text/plain": [
              "OrderedDict([('weight', tensor([0.3367])), ('bias', tensor([0.1288]))])"
            ]
          },
          "metadata": {},
          "execution_count": 19
        }
      ]
    },
    {
      "cell_type": "code",
      "source": [
        "# Setup a loss function\n",
        "loss_fn = nn.L1Loss()\n",
        "\n",
        "\n",
        "#Set up an optimizer (stochastic gradient descent) #It's starts by randomly adjusting\n",
        "#the parameters. Once its founds the random steps that have minimize the loss value\n",
        "#it is going continue adjusting the parameters in that direction. It may say \n",
        "#for instance, if the weight increases, the loss may reduce. And this will continue \n",
        "#untill the weight no longer reduce the loss. The smaller the learning rate, the smaller the change in the parameter, \n",
        "#the larger the learning rate, the larger the change in the parameter.\n",
        "optimizer = torch.optim.SGD(params=model_0.parameters(),\n",
        "                            lr=0.01)# lr = learning rate = possibly the most important hyperparameter you can set.\n"
      ],
      "metadata": {
        "id": "1Ip08_X6mvYQ"
      },
      "execution_count": 20,
      "outputs": []
    },
    {
      "cell_type": "markdown",
      "source": [
        "The question is, which loss function and optimizer should be used?\n",
        "\n",
        "A: This is problem specific. But with experience, we will get an idea of what works and what doesn't work with your particular problem set.\n",
        "\n",
        "For example, for a regression problem (like ours), a loss function of nn.L1Loss() and optimizer like torch.optim.SGD() will suffice.\n",
        "\n",
        "But for a classification problem like classifing whether a photo is a dog or cat, you'll likely want to use a loss function of nn.BCELoss()  (binary cross loss)."
      ],
      "metadata": {
        "id": "hH-f3ULYikwN"
      }
    },
    {
      "cell_type": "markdown",
      "source": [
        "## Building a training loop (and a testing loop) in PyTorch \n",
        "\n",
        "\n",
        "A couple of things we need in a training loop:\n",
        "0.  Loop through the data\n",
        "\n",
        "1.  Forward pass (this involves data moving from the input to the output layer `forward()` functions) to make predictions on data - also called forward propagation.\n",
        "\n",
        "2. Calculate the loss (compare forward pass  predictions to ground truth labels)\n",
        "\n",
        "3. Optimizer zero grad \n",
        "\n",
        "4. Loss backward - move backwards through the network to calculate the gradients of each of the parameters of our model with respect to the loss (**backpropagation**)\n",
        "\n",
        "5. Optimizer step - use the optimizer to adjust our model's parameters to try and improve the loss. (**gradient descent**).\n",
        "\n",
        "Note: If the gradient of the loss is zero, then the losss is zero too.\n",
        "For training, we are working with training data and for testing, we are working with testing data.\n",
        "\n",
        "Model learns patterns from the trainind data and evaluate the patterns of different parameters it has learns on the testing data."
      ],
      "metadata": {
        "id": "sC-6GlrzjvMt"
      }
    },
    {
      "cell_type": "code",
      "source": [
        "# An epoch is one loop through the data...(this is hyperparameters because we \n",
        "#set it ourselves).\n",
        "epochs = 200\n",
        "\n",
        "#track different values\n",
        "#This part is important to monitor model's progress to try and improve upon \n",
        "#our current model with the future model, we might build an entire new model \n",
        "#and train it in a different setup using different learning rate or optimization.\n",
        "#Basically, we track the values to compare future experiments to past experiments.\n",
        "epoch_count = []\n",
        "loss_values = []\n",
        "test_loss_values = []\n",
        "\n",
        "\n",
        "### Training\n",
        "#0. Loop through the data \n",
        "for epoch in range(epochs): #one epoch is a single board pass through the data.\n",
        "  #Set the model to training mode\n",
        "  model_0.train()  #train mode in PyTorch set all parameters that require gradients\n",
        "  #to require gradients. We want to minimize the gradients \n",
        " \n",
        "\n",
        "  #1.  Forward   #we learn patterns on the training data to evaluate our model on\n",
        "  #test data\n",
        "  y_pred = model_0(X_train)\n",
        "\n",
        "  #2.We want to calculate the loss (different between the our model's training \n",
        "  #dataset and the ideal data values).\n",
        "  loss = loss_fn(y_pred, y_train)\n",
        "\n",
        "\n",
        "  #3.  Optimizer zero grad\n",
        "  optimizer.zero_grad()\n",
        "\n",
        "  #4.  Perform backpropagation on the loss with respect to the parameter of the \n",
        "  #model.\n",
        "  loss.backward()\n",
        "\n",
        "  #5.  Step the optimizer (perform gradient descent)\n",
        "  optimizer.step()  #the optimizer makes some calculation in how to adjust the\n",
        "   #the model parmeters with regards to the backpropagation of the loss.\n",
        "   #by default how the optimizer changes will accumulates through the loop... we\n",
        "   #zero them above in step 3 for the next iteration of the loop. It's function\n",
        "   #as its updates the step's parameters to further get them closer to the true value\n",
        "   #if it does that, the loss will closer to zero.\n",
        "\n",
        "\n",
        "\n",
        "\n",
        "###Testing \n",
        "  model_0.eval()    #turn off the different settings in the model not needed for evaluation/testing (dropout/batch norm layers)\n",
        "  with torch.inference_mode():#turns off gradient tracking & a couple more things behind the scenes-https://pytorch.org/docs/stable/generated/torch.inference_mode.html.\n",
        "    #1. Do the forward pass \n",
        "    test_pred = model_0(X_test)   #derive the test prediction here, use it to make prediction on the y_test.\n",
        "\n",
        "    #2. Calculate the loss- We want to calculate the test loss\n",
        "    test_loss = loss_fn(test_pred, y_test)\n",
        "  \n",
        "  # Print out what is happening\n",
        "  if epoch % 10 == 0:\n",
        "    epoch_count.append(epoch)\n",
        "    loss_values.append(loss)\n",
        "    test_loss_values.append(test_loss)\n",
        "    print(f\"Epoch: {epoch} |  Loss: {loss}  | Test loss:  {test_loss}\")\n",
        "    # Print out model state_dict()\n",
        "    print(model_0.state_dict())\n",
        "\n",
        "\n",
        "  \n",
        "\n",
        "\n"
      ],
      "metadata": {
        "id": "bqPHboV2mXI7",
        "colab": {
          "base_uri": "https://localhost:8080/"
        },
        "outputId": "7684552d-58e8-4a9b-bced-7fa464cf0bcb"
      },
      "execution_count": 21,
      "outputs": [
        {
          "output_type": "stream",
          "name": "stdout",
          "text": [
            "Epoch: 0 |  Loss: 0.31288138031959534  | Test loss:  0.48106518387794495\n",
            "OrderedDict([('weight', tensor([0.3406])), ('bias', tensor([0.1388]))])\n",
            "Epoch: 10 |  Loss: 0.1976713240146637  | Test loss:  0.3463551998138428\n",
            "OrderedDict([('weight', tensor([0.3796])), ('bias', tensor([0.2388]))])\n",
            "Epoch: 20 |  Loss: 0.08908725529909134  | Test loss:  0.21729660034179688\n",
            "OrderedDict([('weight', tensor([0.4184])), ('bias', tensor([0.3333]))])\n",
            "Epoch: 30 |  Loss: 0.053148526698350906  | Test loss:  0.14464017748832703\n",
            "OrderedDict([('weight', tensor([0.4512])), ('bias', tensor([0.3768]))])\n",
            "Epoch: 40 |  Loss: 0.04543796554207802  | Test loss:  0.11360953003168106\n",
            "OrderedDict([('weight', tensor([0.4748])), ('bias', tensor([0.3868]))])\n",
            "Epoch: 50 |  Loss: 0.04167863354086876  | Test loss:  0.09919948130846024\n",
            "OrderedDict([('weight', tensor([0.4938])), ('bias', tensor([0.3843]))])\n",
            "Epoch: 60 |  Loss: 0.03818932920694351  | Test loss:  0.08886633068323135\n",
            "OrderedDict([('weight', tensor([0.5116])), ('bias', tensor([0.3788]))])\n",
            "Epoch: 70 |  Loss: 0.03476089984178543  | Test loss:  0.0805937647819519\n",
            "OrderedDict([('weight', tensor([0.5288])), ('bias', tensor([0.3718]))])\n",
            "Epoch: 80 |  Loss: 0.03132382780313492  | Test loss:  0.07232122868299484\n",
            "OrderedDict([('weight', tensor([0.5459])), ('bias', tensor([0.3648]))])\n",
            "Epoch: 90 |  Loss: 0.02788739837706089  | Test loss:  0.06473556160926819\n",
            "OrderedDict([('weight', tensor([0.5629])), ('bias', tensor([0.3573]))])\n",
            "Epoch: 100 |  Loss: 0.024458957836031914  | Test loss:  0.05646304413676262\n",
            "OrderedDict([('weight', tensor([0.5800])), ('bias', tensor([0.3503]))])\n",
            "Epoch: 110 |  Loss: 0.021020207554101944  | Test loss:  0.04819049686193466\n",
            "OrderedDict([('weight', tensor([0.5972])), ('bias', tensor([0.3433]))])\n",
            "Epoch: 120 |  Loss: 0.01758546568453312  | Test loss:  0.04060482233762741\n",
            "OrderedDict([('weight', tensor([0.6141])), ('bias', tensor([0.3358]))])\n",
            "Epoch: 130 |  Loss: 0.014155393466353416  | Test loss:  0.03233227878808975\n",
            "OrderedDict([('weight', tensor([0.6313])), ('bias', tensor([0.3288]))])\n",
            "Epoch: 140 |  Loss: 0.010716589167714119  | Test loss:  0.024059748277068138\n",
            "OrderedDict([('weight', tensor([0.6485])), ('bias', tensor([0.3218]))])\n",
            "Epoch: 150 |  Loss: 0.0072835334576666355  | Test loss:  0.016474086791276932\n",
            "OrderedDict([('weight', tensor([0.6654])), ('bias', tensor([0.3143]))])\n",
            "Epoch: 160 |  Loss: 0.0038517764769494534  | Test loss:  0.008201557211577892\n",
            "OrderedDict([('weight', tensor([0.6826])), ('bias', tensor([0.3073]))])\n",
            "Epoch: 170 |  Loss: 0.008932482451200485  | Test loss:  0.005023092031478882\n",
            "OrderedDict([('weight', tensor([0.6951])), ('bias', tensor([0.2993]))])\n",
            "Epoch: 180 |  Loss: 0.008932482451200485  | Test loss:  0.005023092031478882\n",
            "OrderedDict([('weight', tensor([0.6951])), ('bias', tensor([0.2993]))])\n",
            "Epoch: 190 |  Loss: 0.008932482451200485  | Test loss:  0.005023092031478882\n",
            "OrderedDict([('weight', tensor([0.6951])), ('bias', tensor([0.2993]))])\n"
          ]
        }
      ]
    },
    {
      "cell_type": "markdown",
      "source": [
        "The code shown above does the following:\n",
        "\n",
        "\n",
        "*   Create an empty lists for storing useful values (helpful for tracking model progress)\n",
        "\n",
        "*   Tell the model we want to evaluate rather than train (This turns off the functonality used for training but not evaluation)\n",
        "\n",
        "*   Turn on torch.inference_mode() context meanager to disable functinality such as gradient tracking for inference (gradient tracking not needed for inference)\n",
        "\n",
        "*   Pass the test data through the model (this will call yje model's implemented forward() method)\n",
        "\n",
        "*   Calculate the test loss value (how wrong the model's predictions are on the \n",
        "test dataset, lower is better)\n",
        "\n",
        "*  Display information outputs for how the model is doing training/testing every\n",
        "   10 epochs (note: what gets printed out here can be adjusted for specific problems)\n",
        "\n",
        "\n",
        "**Note** This particular block of codes is very important for our subsequent deep learning projects."
      ],
      "metadata": {
        "id": "LbDdcBz1IYPe"
      }
    },
    {
      "cell_type": "code",
      "source": [
        "plt.plot(epoch_count, np.array(torch.tensor(loss_values).numpy()), label=\"Train loss\")\n",
        "plt.plot(epoch_count, test_loss_values, label = \"Test loss\")\n",
        "plt.title(\"Training and test loss curves\")\n",
        "plt.ylabel(\"loss\")\n",
        "plt.xlabel(\"Epochs\")\n",
        "plt.legend();"
      ],
      "metadata": {
        "colab": {
          "base_uri": "https://localhost:8080/",
          "height": 295
        },
        "id": "WqkRFhYr_vwu",
        "outputId": "78ea4162-25ac-4bb0-f068-a508516cca05"
      },
      "execution_count": 22,
      "outputs": [
        {
          "output_type": "display_data",
          "data": {
            "text/plain": [
              "<Figure size 432x288 with 1 Axes>"
            ],
            "image/png": "[encoded data removed]"
          },
          "metadata": {
            "needs_background": "light"
          }
        }
      ]
    },
    {
      "cell_type": "markdown",
      "source": [
        "We can see that the training loss and testing loss converges at over 17 epochs."
      ],
      "metadata": {
        "id": "QcBFnnUL_vvr"
      }
    },
    {
      "cell_type": "code",
      "source": [],
      "metadata": {
        "id": "bxHbpdPr_vuj"
      },
      "execution_count": 22,
      "outputs": []
    },
    {
      "cell_type": "code",
      "source": [
        "#let's make some predictions\n",
        "with torch.inference_mode():\n",
        "  y_pred_new = model_0(X_test)\n",
        "\n",
        "y_preds"
      ],
      "metadata": {
        "colab": {
          "base_uri": "https://localhost:8080/"
        },
        "id": "L_GLR_OiAiBs",
        "outputId": "399636e7-dcde-445a-a9a6-d33d099ddf2e"
      },
      "execution_count": 23,
      "outputs": [
        {
          "output_type": "execute_result",
          "data": {
            "text/plain": [
              "tensor([[0.3982],\n",
              "        [0.4049],\n",
              "        [0.4116],\n",
              "        [0.4184],\n",
              "        [0.4251],\n",
              "        [0.4318],\n",
              "        [0.4386],\n",
              "        [0.4453],\n",
              "        [0.4520],\n",
              "        [0.4588]])"
            ]
          },
          "metadata": {},
          "execution_count": 23
        }
      ]
    },
    {
      "cell_type": "markdown",
      "source": [
        "Steps in the code above are explained as follow:\n",
        "\n",
        "1)   Pass the data through a model for a number of epochs\n",
        "    (e.g. 100 for 100 passes of the data)\n",
        "\n",
        "2)   Pass the data through the model, this will perform forward() method      located within the model.\n",
        "\n",
        "\n",
        "3)   We calculate the loss values (how wrong the model predictions are) and this depends what loss function you used, what kind of prediction your is returning and what kind of true value you have.\n",
        "\n",
        "4) Zero the optimizer to gradients: **Note** The optimizer accumulates gradients over time so that for each epoch, we want them to go back to zero. \n",
        "Its accumulate gradient because of compute optimization.\n",
        "They accumulate every epoch, zero them to start fresh every epoch.\n",
        "\n",
        "5) Perform backpropagation on the loss function (compute the gradient of every parameter with requires_grad=True)\n",
        "\n",
        "6) Step the optimizer to update the model's performance with respect to the \n",
        "   gradients calculated by loss.backward(). \n",
        "\n",
        "\n",
        "**Note** When we are testing we adjust the parameters our models have learnt on the training dataset, se we don't need to do any learnining when testing. We turn off things we do not need.\n",
        "\n",
        "\n",
        "Training and evaluating a model is the fundamental steps in deep learning."
      ],
      "metadata": {
        "id": "qlMC9u3nvfA8"
      }
    },
    {
      "cell_type": "code",
      "source": [
        "#Predicted values for weight asn bias of our parameters\n",
        "model_0.state_dict()"
      ],
      "metadata": {
        "id": "vMHlPQN7yKLc",
        "colab": {
          "base_uri": "https://localhost:8080/"
        },
        "outputId": "290c2c29-95ea-4e18-de44-cd7ded90b2e7"
      },
      "execution_count": 24,
      "outputs": [
        {
          "output_type": "execute_result",
          "data": {
            "text/plain": [
              "OrderedDict([('weight', tensor([0.6990])), ('bias', tensor([0.3093]))])"
            ]
          },
          "metadata": {},
          "execution_count": 24
        }
      ]
    },
    {
      "cell_type": "code",
      "source": [
        "#true parameter values\n",
        "weight, bias"
      ],
      "metadata": {
        "colab": {
          "base_uri": "https://localhost:8080/"
        },
        "id": "thSrSPCJ8s8R",
        "outputId": "d94468e8-ac91-4cd4-8c3d-c08c93b38a4f"
      },
      "execution_count": 25,
      "outputs": [
        {
          "output_type": "execute_result",
          "data": {
            "text/plain": [
              "(0.7, 0.3)"
            ]
          },
          "metadata": {},
          "execution_count": 25
        }
      ]
    },
    {
      "cell_type": "code",
      "source": [
        "plot_predictions(predictions=y_preds)"
      ],
      "metadata": {
        "colab": {
          "base_uri": "https://localhost:8080/",
          "height": 428
        },
        "id": "1GedspjbBwhB",
        "outputId": "8d409475-51a7-43be-e926-0360c8343bd4"
      },
      "execution_count": 26,
      "outputs": [
        {
          "output_type": "display_data",
          "data": {
            "text/plain": [
              "<Figure size 720x504 with 1 Axes>"
            ],
            "image/png": "[encoded data removed]"
          },
          "metadata": {
            "needs_background": "light"
          }
        }
      ]
    },
    {
      "cell_type": "code",
      "source": [
        "plot_predictions(predictions=y_pred_new)  #This is our result after applying the back propagation  and optimization during training and testing."
      ],
      "metadata": {
        "colab": {
          "base_uri": "https://localhost:8080/",
          "height": 428
        },
        "id": "Y0WYFOC0CkPd",
        "outputId": "8f0049c0-8086-4fef-9e68-d522a8bff8f2"
      },
      "execution_count": 27,
      "outputs": [
        {
          "output_type": "display_data",
          "data": {
            "text/plain": [
              "<Figure size 720x504 with 1 Axes>"
            ],
            "image/png": "[encoded data removed]"
          },
          "metadata": {
            "needs_background": "light"
          }
        }
      ]
    },
    {
      "cell_type": "code",
      "source": [
        "model_0.state_dict()"
      ],
      "metadata": {
        "colab": {
          "base_uri": "https://localhost:8080/"
        },
        "id": "o6AwmaviRxyA",
        "outputId": "987743a1-d69b-4497-edb2-da91935c4cb8"
      },
      "execution_count": 28,
      "outputs": [
        {
          "output_type": "execute_result",
          "data": {
            "text/plain": [
              "OrderedDict([('weight', tensor([0.6990])), ('bias', tensor([0.3093]))])"
            ]
          },
          "metadata": {},
          "execution_count": 28
        }
      ]
    },
    {
      "cell_type": "markdown",
      "source": [
        "## Saving a model in PyTorch"
      ],
      "metadata": {
        "id": "iSkVR3zcD72C"
      }
    },
    {
      "cell_type": "markdown",
      "source": [
        "Three methods for saving and loading models in PyTorch:\n",
        "\n",
        "1) `torch.save()` - allows you to save PyTorch object in Python's pickle format\n",
        "\n",
        "2)  `torch.load() - allows you load a saved PyTorch object\n",
        "\n",
        "3)  `torch.nn.Module.load_state_dict()` - This allows you to load a model's saved state distionary.\n",
        "\n",
        "\n",
        "Visit this link (PyTorch save & load tutorial): https://pytorch.org/tutorials/beginner/saving_loading_models.html\n"
      ],
      "metadata": {
        "id": "MOu3A5mmNHgt"
      }
    },
    {
      "cell_type": "code",
      "source": [
        "# saving our PyTorch model\n",
        "from pathlib import Path\n",
        "\n",
        "#Model_"
      ],
      "metadata": {
        "id": "NexAITR-PtHM"
      },
      "execution_count": 29,
      "outputs": []
    },
    {
      "cell_type": "code",
      "source": [
        "from traitlets.config.application import T\n",
        "# Saving our PyTorch model\n",
        "from pathlib import Path\n",
        "\n",
        "\n",
        "#1. Create models directory\n",
        "MODEL_PATH = Path(\"models\")\n",
        "MODEL_PATH.mkdir(parents=True, exist_ok=True)\n",
        "\n",
        "\n",
        "# 2. Create model save path\n",
        "MODEL_NAME =  \"01_pytorch_workflow_model_0.pth\"\n",
        "MODEL_SAVE_PATH = MODEL_PATH / MODEL_NAME\n",
        "\n",
        "\n",
        "# 3. Save the model state dict\n",
        "print(f\"Saving the model to: {MODEL_SAVE_PATH}\")\n",
        "torch.save(obj=model_0.state_dict(),\n",
        "           f=MODEL_SAVE_PATH)"
      ],
      "metadata": {
        "colab": {
          "base_uri": "https://localhost:8080/"
        },
        "id": "eF9ImXn5Px8C",
        "outputId": "def236d9-5193-4ee8-df6f-a5f6a03d82ef"
      },
      "execution_count": 30,
      "outputs": [
        {
          "output_type": "stream",
          "name": "stdout",
          "text": [
            "Saving the model to: models/01_pytorch_workflow_model_0.pth\n"
          ]
        }
      ]
    },
    {
      "cell_type": "code",
      "source": [
        "!ls -l models"
      ],
      "metadata": {
        "colab": {
          "base_uri": "https://localhost:8080/"
        },
        "id": "wukZl_abTZYW",
        "outputId": "c9b4dc4c-6163-4ecd-a9bc-667ab3586fb9"
      },
      "execution_count": 31,
      "outputs": [
        {
          "output_type": "stream",
          "name": "stdout",
          "text": [
            "total 4\n",
            "-rw-r--r-- 1 root root 1207 Feb  9 09:03 01_pytorch_workflow_model_0.pth\n"
          ]
        }
      ]
    },
    {
      "cell_type": "markdown",
      "source": [
        "### Loading a PyTorch Model\n",
        "\n",
        "Since we saved our model's date_dict() rather the entire model, we'll create a new instance of our model class \n",
        "and load the saved state_dict() into that.m"
      ],
      "metadata": {
        "id": "CfTKf9xyVYeG"
      }
    },
    {
      "cell_type": "code",
      "source": [
        "model_0.state_dict()"
      ],
      "metadata": {
        "colab": {
          "base_uri": "https://localhost:8080/"
        },
        "id": "r4S6uOumaamc",
        "outputId": "7fb26d18-76e8-428f-82dd-a7670c45bd85"
      },
      "execution_count": 33,
      "outputs": [
        {
          "output_type": "execute_result",
          "data": {
            "text/plain": [
              "OrderedDict([('weight', tensor([0.6990])), ('bias', tensor([0.3093]))])"
            ]
          },
          "metadata": {},
          "execution_count": 33
        }
      ]
    },
    {
      "cell_type": "code",
      "source": [
        "#To load in a saved state_dict we have to instantiate a new instance of our model class\n",
        "loaded_model_0 = LinearRegressionModel()\n",
        "\n",
        "#Load the saved state_dict of model_0 (this will update the new instance with updated parameters)\n",
        "loaded_model_0.load_state_dict(torch.load(f=MODEL_SAVE_PATH))"
      ],
      "metadata": {
        "colab": {
          "base_uri": "https://localhost:8080/"
        },
        "id": "MbbNieYEamLL",
        "outputId": "dc0e9a60-3b20-4aea-b278-50d32f0f8622"
      },
      "execution_count": 35,
      "outputs": [
        {
          "output_type": "execute_result",
          "data": {
            "text/plain": [
              "<All keys matched successfully>"
            ]
          },
          "metadata": {},
          "execution_count": 35
        }
      ]
    },
    {
      "cell_type": "code",
      "source": [
        "loaded_model_0.state_dict()"
      ],
      "metadata": {
        "colab": {
          "base_uri": "https://localhost:8080/"
        },
        "id": "iGi4Q8n3bHgG",
        "outputId": "9fa3f2d5-e2dc-4add-eacc-9bbd0a949232"
      },
      "execution_count": 36,
      "outputs": [
        {
          "output_type": "execute_result",
          "data": {
            "text/plain": [
              "OrderedDict([('weight', tensor([0.6990])), ('bias', tensor([0.3093]))])"
            ]
          },
          "metadata": {},
          "execution_count": 36
        }
      ]
    },
    {
      "cell_type": "code",
      "source": [
        "#Make some predictons with our loaded model (This is the saved and loaded) which is the same as the original model preds.\n",
        "loaded_model_0.eval()\n",
        "with torch.inference_mode():\n",
        "  loaded_model_preds = loaded_model_0(X_test)\n",
        "\n",
        "loaded_model_preds"
      ],
      "metadata": {
        "colab": {
          "base_uri": "https://localhost:8080/"
        },
        "id": "_CT9bEpzbysA",
        "outputId": "bde8e9a6-82b9-4a75-ac47-e0e8098e321f"
      },
      "execution_count": 37,
      "outputs": [
        {
          "output_type": "execute_result",
          "data": {
            "text/plain": [
              "tensor([[0.8685],\n",
              "        [0.8825],\n",
              "        [0.8965],\n",
              "        [0.9105],\n",
              "        [0.9245],\n",
              "        [0.9384],\n",
              "        [0.9524],\n",
              "        [0.9664],\n",
              "        [0.9804],\n",
              "        [0.9944]])"
            ]
          },
          "metadata": {},
          "execution_count": 37
        }
      ]
    },
    {
      "cell_type": "code",
      "source": [
        "model_0.eval()\n",
        "with torch.inference_mode():\n",
        "  y_preds = model_0(X_test)\n",
        "\n",
        "y_preds"
      ],
      "metadata": {
        "colab": {
          "base_uri": "https://localhost:8080/"
        },
        "id": "krk1wfzhc53f",
        "outputId": "7281ff69-25c6-4bc9-ec87-71df5677e2bb"
      },
      "execution_count": 38,
      "outputs": [
        {
          "output_type": "execute_result",
          "data": {
            "text/plain": [
              "tensor([[0.8685],\n",
              "        [0.8825],\n",
              "        [0.8965],\n",
              "        [0.9105],\n",
              "        [0.9245],\n",
              "        [0.9384],\n",
              "        [0.9524],\n",
              "        [0.9664],\n",
              "        [0.9804],\n",
              "        [0.9944]])"
            ]
          },
          "metadata": {},
          "execution_count": 38
        }
      ]
    },
    {
      "cell_type": "code",
      "source": [
        "#Compare loaded model preds with original model preds\n",
        "y_preds == loaded_model_preds"
      ],
      "metadata": {
        "colab": {
          "base_uri": "https://localhost:8080/"
        },
        "id": "q79xq_YvcSq3",
        "outputId": "7abe15a0-2feb-44c7-d1e3-0085a89f6795"
      },
      "execution_count": 39,
      "outputs": [
        {
          "output_type": "execute_result",
          "data": {
            "text/plain": [
              "tensor([[True],\n",
              "        [True],\n",
              "        [True],\n",
              "        [True],\n",
              "        [True],\n",
              "        [True],\n",
              "        [True],\n",
              "        [True],\n",
              "        [True],\n",
              "        [True]])"
            ]
          },
          "metadata": {},
          "execution_count": 39
        }
      ]
    },
    {
      "cell_type": "markdown",
      "source": [
        "## 6.  Putting it all together\n",
        "\n",
        "Let's go back through the steps above and see it all in one place."
      ],
      "metadata": {
        "id": "HLwPry1edNUn"
      }
    },
    {
      "cell_type": "code",
      "source": [
        "#Import PyTorch and matplotlib\n",
        "import torch\n",
        "from torch import nn\n",
        "import matplotlib.pyplot as plt\n",
        "\n",
        "\n",
        "# check PyTorch Version\n",
        "torch.__version__"
      ],
      "metadata": {
        "colab": {
          "base_uri": "https://localhost:8080/",
          "height": 35
        },
        "id": "72faTqzHelMM",
        "outputId": "56effc89-74b3-476b-8a87-71000e3acfbc"
      },
      "execution_count": 40,
      "outputs": [
        {
          "output_type": "execute_result",
          "data": {
            "text/plain": [
              "'1.13.1+cu116'"
            ],
            "application/vnd.google.colaboratory.intrinsic+json": {
              "type": "string"
            }
          },
          "metadata": {},
          "execution_count": 40
        }
      ]
    },
    {
      "cell_type": "markdown",
      "source": [
        "Create device-agnostic code.\n",
        "\n",
        "This means if we've got access to GPU, our code will use it (for potentially faster computing).\n",
        "\n",
        "If no GPU is available, the code will default to using CPU."
      ],
      "metadata": {
        "id": "tPO799NKgxNl"
      }
    },
    {
      "cell_type": "code",
      "source": [
        "# Setup devce agnostic code \n",
        "device = \"cuda\" if torch.cuda.is_available() else \"cpu\"\n",
        "print(f\"Using device: {device}\")"
      ],
      "metadata": {
        "colab": {
          "base_uri": "https://localhost:8080/"
        },
        "id": "AH-d1EbkhPiX",
        "outputId": "fdc2e304-1c32-4112-aaa8-59c07428797b"
      },
      "execution_count": 41,
      "outputs": [
        {
          "output_type": "stream",
          "name": "stdout",
          "text": [
            "Using device: cpu\n"
          ]
        }
      ]
    },
    {
      "cell_type": "markdown",
      "source": [
        "### 6.1 Data\n"
      ],
      "metadata": {
        "id": "QEZp9-HpeRi0"
      }
    },
    {
      "cell_type": "code",
      "source": [
        "# crete *known* parameters \n",
        "weight = 0.7\n",
        "bias = 0.4\n",
        "\n",
        "# Create \n",
        "start = 0\n",
        "end = 1\n",
        "step = 0.02\n",
        "X = torch.arange(start, end, step).unsqueeze(dim=1) #Adds extra dimension.\n",
        "y  = weight * X + bias \n",
        "X[:10], y[:10]"
      ],
      "metadata": {
        "colab": {
          "base_uri": "https://localhost:8080/"
        },
        "id": "cioQepCXk8hZ",
        "outputId": "b2280bdf-6919-4b9b-a20d-832ea6b89c87"
      },
      "execution_count": 44,
      "outputs": [
        {
          "output_type": "execute_result",
          "data": {
            "text/plain": [
              "(tensor([[0.0000],\n",
              "         [0.0200],\n",
              "         [0.0400],\n",
              "         [0.0600],\n",
              "         [0.0800],\n",
              "         [0.1000],\n",
              "         [0.1200],\n",
              "         [0.1400],\n",
              "         [0.1600],\n",
              "         [0.1800]]), tensor([[0.4000],\n",
              "         [0.4140],\n",
              "         [0.4280],\n",
              "         [0.4420],\n",
              "         [0.4560],\n",
              "         [0.4700],\n",
              "         [0.4840],\n",
              "         [0.4980],\n",
              "         [0.5120],\n",
              "         [0.5260]]))"
            ]
          },
          "metadata": {},
          "execution_count": 44
        }
      ]
    },
    {
      "cell_type": "code",
      "source": [
        "#Split the data\n",
        "#Create a train/test split use 80 of the data set for train data\n",
        "train_split = int(0.8 * len(X))\n",
        "\n",
        "X_train, y_train = X[:train_split], y[:train_split]\n",
        "X_test, y_test = X[train_split:], y[train_split:]\n",
        "\n",
        "len(X_train), len(y_train), len(X_test), len(y_test)"
      ],
      "metadata": {
        "colab": {
          "base_uri": "https://localhost:8080/"
        },
        "id": "zg-62GfSlOkm",
        "outputId": "da9f311e-59ce-4e13-bf63-2b9ac97d6458"
      },
      "execution_count": 45,
      "outputs": [
        {
          "output_type": "execute_result",
          "data": {
            "text/plain": [
              "(40, 40, 10, 10)"
            ]
          },
          "metadata": {},
          "execution_count": 45
        }
      ]
    },
    {
      "cell_type": "code",
      "source": [
        "#Plots the data\n",
        "plot_predictions(X_train, y_train, X_test, y_test)"
      ],
      "metadata": {
        "colab": {
          "base_uri": "https://localhost:8080/",
          "height": 428
        },
        "id": "ozzCZOtWlnFB",
        "outputId": "9eaecb0c-54ed-4c71-c3e1-4f4aad887389"
      },
      "execution_count": 47,
      "outputs": [
        {
          "output_type": "display_data",
          "data": {
            "text/plain": [
              "<Figure size 720x504 with 1 Axes>"
            ],
            "image/png": "[encoded data removed]"
          },
          "metadata": {
            "needs_background": "light"
          }
        }
      ]
    },
    {
      "cell_type": "markdown",
      "source": [
        "###6.2 Building a PyTorch Linear Model"
      ],
      "metadata": {
        "id": "otMvIwi9msNp"
      }
    },
    {
      "cell_type": "code",
      "source": [
        "#Create a linear model by subclassing nn.Module\n",
        "#You do not need to initialize the model parameters yourself, nn.linear does that for us.\n",
        "class LinearRegressionModelV2(nn.Module):\n",
        "  def __init__(self):\n",
        "    #<- almost everything in PyTorch is from nn.modules. Your module should subclass this class\n",
        "    super().__init__()\n",
        "    # Use nn.Linear() for creating the model parameters\n",
        "    self.linear_layer = nn.Linear(in_features=1,    #take one feature to output one layer.\n",
        "                                  out_features=1)\n",
        "    \n",
        "  def forward(self, X: torch.Tensor) -> torch.Tensor:\n",
        "    return self.linear_layer(X)\n",
        "\n",
        "\n",
        "#set the manual seed\n",
        "torch.manual_seed(42)\n",
        "model_1 = LinearRegressionModelV2()\n",
        "model_1, model_1.state_dict()"
      ],
      "metadata": {
        "colab": {
          "base_uri": "https://localhost:8080/"
        },
        "id": "jNjMV7REm-uP",
        "outputId": "0bd905a7-bb97-48c0-f4a2-f4583781b3d8"
      },
      "execution_count": 49,
      "outputs": [
        {
          "output_type": "execute_result",
          "data": {
            "text/plain": [
              "(LinearRegressionModelV2(\n",
              "   (linear_layer): Linear(in_features=1, out_features=1, bias=True)\n",
              " ),\n",
              " OrderedDict([('linear_layer.weight', tensor([[0.7645]])),\n",
              "              ('linear_layer.bias', tensor([0.8300]))]))"
            ]
          },
          "metadata": {},
          "execution_count": 49
        }
      ]
    },
    {
      "cell_type": "code",
      "source": [
        "#Check the model current device \n",
        "next(model_1.parameters()).device"
      ],
      "metadata": {
        "colab": {
          "base_uri": "https://localhost:8080/"
        },
        "id": "UECaGYxQq8N8",
        "outputId": "aafd8fc0-0b17-419e-de11-17193d9c72de"
      },
      "execution_count": 50,
      "outputs": [
        {
          "output_type": "execute_result",
          "data": {
            "text/plain": [
              "device(type='cpu')"
            ]
          },
          "metadata": {},
          "execution_count": 50
        }
      ]
    },
    {
      "cell_type": "code",
      "source": [
        "#set the model to use the target device\n",
        "model_1.to(device)\n",
        "next(model_1.parameters()).device"
      ],
      "metadata": {
        "colab": {
          "base_uri": "https://localhost:8080/"
        },
        "id": "susCBW4AsQlM",
        "outputId": "bb14d245-c186-4e89-bec7-c68688e68daf"
      },
      "execution_count": 51,
      "outputs": [
        {
          "output_type": "execute_result",
          "data": {
            "text/plain": [
              "device(type='cpu')"
            ]
          },
          "metadata": {},
          "execution_count": 51
        }
      ]
    },
    {
      "cell_type": "markdown",
      "source": [
        "from torch.optim.optimizer import Optimizer\n",
        "### 6.3 Training\n",
        "\n",
        "\n",
        "For training we need:\n",
        "* Loss function\n",
        "* Optimizer\n",
        "* Training loop\n",
        "* Testing loop"
      ],
      "metadata": {
        "id": "8WXAOy0OsvOn"
      }
    },
    {
      "cell_type": "code",
      "source": [],
      "metadata": {
        "id": "olbnjLV8tm5r"
      },
      "execution_count": null,
      "outputs": []
    }
  ]
}
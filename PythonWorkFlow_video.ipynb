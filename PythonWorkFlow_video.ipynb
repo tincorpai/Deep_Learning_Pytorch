{
  "nbformat": 4,
  "nbformat_minor": 0,
  "metadata": {
    "colab": {
      "provenance": [],
      "authorship_tag": "ABX9TyPIgdRAl5GYV+bATAN88dUL",
      "include_colab_link": true
    },
    "kernelspec": {
      "name": "python3",
      "display_name": "Python 3"
    },
    "language_info": {
      "name": "python"
    }
  },
  "cells": [
    {
      "cell_type": "markdown",
      "metadata": {
        "id": "view-in-github",
        "colab_type": "text"
      },
      "source": [
        "<a href=\"https://colab.research.google.com/github/tincorpai/Deep_Learning_Pytorch/blob/master/PythonWorkFlow_video.ipynb\" target=\"_parent\"><img src=\"https://colab.research.google.com/assets/colab-badge.svg\" alt=\"Open In Colab\"/></a>"
      ]
    },
    {
      "cell_type": "markdown",
      "source": [
        "# PyTorch Workflow\n",
        "\n",
        "* Get data ready (turn into tensors)\n",
        "\n",
        "* Build or pick a pretrained model\n",
        "\n",
        "* Fit the model to the data and make a prediction\n",
        "\n",
        "* Evaluate the model\n",
        "\n",
        "* Improve through experimentation\n",
        "\n",
        "* Save and reload your trined model"
      ],
      "metadata": {
        "id": "HONpEuSb700h"
      }
    },
    {
      "cell_type": "markdown",
      "source": [
        "## Where to get help?\n"
      ],
      "metadata": {
        "id": "z0Wr--XJ9uRK"
      }
    },
    {
      "cell_type": "markdown",
      "source": [
        " * Follow along with the code \n",
        "\n",
        " * Try it for yourself \n",
        "\n",
        " * Press SHIFT + CMD + SPACE to read the docstring \n",
        "\n",
        " * Search for it: use stack overflow\n",
        "\n",
        " * Try again \n",
        "\n",
        " * Ask "
      ],
      "metadata": {
        "id": "PWL8QAcE-tva"
      }
    },
    {
      "cell_type": "markdown",
      "source": [
        "#PyTorch Workflow\n",
        "\n",
        "\n",
        "Let's explore an example PyTorch end-to-end workflow.\n",
        "\n",
        "Resources:\n",
        "\n",
        "* Ground truth notebook - https://github.com/mrdbourke/pytorch-deep-learning/blob/main/02_pytorch_classification.ipynb\n",
        "\n",
        "* Book version of notebook - https://www.learnpytorch.io/01_pytorch_workflow/\n",
        "\n",
        "* Ask Questions - https://github.com/mrdbourke/pytorch-deep-learning/discussions"
      ],
      "metadata": {
        "id": "6TSCmk3o_Bzo"
      }
    },
    {
      "cell_type": "code",
      "source": [
        "what_weare_covering = {1:  \"data (prepare and load)\",\n",
        "                      2:   \"build model\",\n",
        "                      3:    \"fitting the model to data (training)\",\n",
        "                      4:    \"making predictions and evaluating a model (inferences)\",\n",
        "                      5:    \"saving and loading a model\",\n",
        "                      6:    \"putting it all together\"\n",
        "                       }\n",
        "what_weare_covering"
      ],
      "metadata": {
        "colab": {
          "base_uri": "https://localhost:8080/"
        },
        "id": "S3Y_AWMzASgD",
        "outputId": "0fa5da0a-d9ac-431d-e201-cf083770907f"
      },
      "execution_count": 5,
      "outputs": [
        {
          "output_type": "execute_result",
          "data": {
            "text/plain": [
              "{1: 'data (prepare and load)',\n",
              " 2: 'build model',\n",
              " 3: 'fitting the model to data (training)',\n",
              " 4: 'making predictions and evaluating a model (inferences)',\n",
              " 5: 'saving and loading a model',\n",
              " 6: 'putting it all together'}"
            ]
          },
          "metadata": {},
          "execution_count": 5
        }
      ]
    },
    {
      "cell_type": "code",
      "source": [
        "import torch\n",
        "from torch import nn #nn contains all of PyTorch's building bloacks for neural networks. \n",
        "#it is also a building blocks of graphs. Graphs is reffered to as computational gragh. \n",
        "#it is the job of machine learning engineers to combine trc.nn building blocks to build any deep learning frame work.\n",
        "\n",
        "import matplotlib.pyplot as plt\n",
        "\n"
      ],
      "metadata": {
        "id": "-78-TOuNDmfo"
      },
      "execution_count": 6,
      "outputs": []
    },
    {
      "cell_type": "code",
      "source": [
        "#check PyTorch version\n",
        "torch.__version__"
      ],
      "metadata": {
        "colab": {
          "base_uri": "https://localhost:8080/",
          "height": 35
        },
        "id": "DtOzrdk2D9YD",
        "outputId": "fa658bb8-e5ae-4b46-c534-1f3a056cca40"
      },
      "execution_count": 7,
      "outputs": [
        {
          "output_type": "execute_result",
          "data": {
            "text/plain": [
              "'1.13.1+cu116'"
            ],
            "application/vnd.google.colaboratory.intrinsic+json": {
              "type": "string"
            }
          },
          "metadata": {},
          "execution_count": 7
        }
      ]
    },
    {
      "cell_type": "markdown",
      "source": [
        "##1. Data (preparing and loading)\n",
        "\n",
        "\n",
        "Data can be almost anything...  in machine learning.\n",
        "\n",
        "*  Excel spreadsheet\n",
        "*  Images of any kind\n",
        "\n",
        "*  Videos (Youtube has lots of data...)\n",
        "\n",
        "*  Audio like songs or podcasts\n",
        "\n",
        "*  DNA\n",
        "\n",
        "*  Text\n"
      ],
      "metadata": {
        "id": "WiO16cmBGJTV"
      }
    },
    {
      "cell_type": "markdown",
      "source": [
        "Machine learning is a game of two parts:\n",
        "1. Get data into a numerical representations\n",
        "2. Build a model to learn patterns in that numrical representation."
      ],
      "metadata": {
        "id": "TaT-Y4dgHQ0_"
      }
    },
    {
      "cell_type": "markdown",
      "source": [
        "To showcase this, ley's create some *known* data using linear regression formula.\n",
        "\n",
        "We'll use a linear regression formula to make a straight line with known parameters.\n",
        "\n",
        "We know these parameters but we want to build a model that will estimate these\n",
        "**parameters** by building some examples."
      ],
      "metadata": {
        "id": "IL03lSZ9Hn7H"
      }
    },
    {
      "cell_type": "code",
      "source": [
        "# crete *known* parameters \n",
        "weight = 0.7\n",
        "bias = 0.3\n",
        "\n",
        "# Create \n",
        "start = 0\n",
        "end = 1\n",
        "step = 0.02\n",
        "X = torch.arange(start, end, step).unsqueeze(dim=1) #Adds extra dimension.\n",
        "y  = weight * X + bias "
      ],
      "metadata": {
        "id": "AxOTZv8jIVXu"
      },
      "execution_count": 8,
      "outputs": []
    },
    {
      "cell_type": "code",
      "source": [
        "X[:10], y[:10]"
      ],
      "metadata": {
        "colab": {
          "base_uri": "https://localhost:8080/"
        },
        "id": "RwosQcOpJXn2",
        "outputId": "988cc0cd-1247-468d-da50-23dafc2d0ff2"
      },
      "execution_count": 9,
      "outputs": [
        {
          "output_type": "execute_result",
          "data": {
            "text/plain": [
              "(tensor([[0.0000],\n",
              "         [0.0200],\n",
              "         [0.0400],\n",
              "         [0.0600],\n",
              "         [0.0800],\n",
              "         [0.1000],\n",
              "         [0.1200],\n",
              "         [0.1400],\n",
              "         [0.1600],\n",
              "         [0.1800]]), tensor([[0.3000],\n",
              "         [0.3140],\n",
              "         [0.3280],\n",
              "         [0.3420],\n",
              "         [0.3560],\n",
              "         [0.3700],\n",
              "         [0.3840],\n",
              "         [0.3980],\n",
              "         [0.4120],\n",
              "         [0.4260]]))"
            ]
          },
          "metadata": {},
          "execution_count": 9
        }
      ]
    },
    {
      "cell_type": "code",
      "source": [
        "len(X), len(y)"
      ],
      "metadata": {
        "colab": {
          "base_uri": "https://localhost:8080/"
        },
        "id": "QDSpjputKhpa",
        "outputId": "e8cbe8ff-fa98-4ce8-b80c-c2eef7bcd7fd"
      },
      "execution_count": 10,
      "outputs": [
        {
          "output_type": "execute_result",
          "data": {
            "text/plain": [
              "(50, 50)"
            ]
          },
          "metadata": {},
          "execution_count": 10
        }
      ]
    },
    {
      "cell_type": "markdown",
      "source": [
        "### Splitting data into training and test sets (one of the most important concepts in machine learning in general)"
      ],
      "metadata": {
        "id": "LWppVLI1K1oA"
      }
    },
    {
      "cell_type": "markdown",
      "source": [
        "Three datasets exist in data science: They are\n",
        "\n",
        "1)  Training set:  Model learns patterns from training set\n",
        "\n",
        "2)  Validation set:  Tune the model on the validation set\n",
        "\n",
        "3)  Test set:  The test set examines the model's generalization.\n",
        "\n",
        "\n",
        "Generalization is the ability for a machine learning model to perform well on data it hasn't seen before.\n",
        "\n",
        "\n",
        "We want to build a machine learning model on some training data and we want to deploy on applications and production settings and then more data comes in than it has not seen before and it can make decision base on the new data because of the patterns it has learn in the training data.\n"
      ],
      "metadata": {
        "id": "EIaEikZVK88m"
      }
    },
    {
      "cell_type": "markdown",
      "source": [
        "Let's create a training and test set with our data"
      ],
      "metadata": {
        "id": "pPl7em-JjsZ4"
      }
    },
    {
      "cell_type": "code",
      "source": [
        "#Create a train/test split\n",
        "train_split = int(0.8 * len(X))\n",
        "train_split"
      ],
      "metadata": {
        "colab": {
          "base_uri": "https://localhost:8080/"
        },
        "id": "n2inWNnomML_",
        "outputId": "3909eae1-3725-4931-c8cb-ec73852457f7"
      },
      "execution_count": 11,
      "outputs": [
        {
          "output_type": "execute_result",
          "data": {
            "text/plain": [
              "40"
            ]
          },
          "metadata": {},
          "execution_count": 11
        }
      ]
    },
    {
      "cell_type": "code",
      "source": [
        "X_train, y_train = X[:train_split], y[:train_split]\n",
        "X_test, y_test = X[train_split:], y[train_split:]\n",
        "\n",
        "len(X_train), len(y_train), len(X_test), len(y_test)"
      ],
      "metadata": {
        "colab": {
          "base_uri": "https://localhost:8080/"
        },
        "id": "_fDeom3MmPHK",
        "outputId": "651c925e-9c81-47f5-db5b-75ddd01a6874"
      },
      "execution_count": 12,
      "outputs": [
        {
          "output_type": "execute_result",
          "data": {
            "text/plain": [
              "(40, 40, 10, 10)"
            ]
          },
          "metadata": {},
          "execution_count": 12
        }
      ]
    },
    {
      "cell_type": "markdown",
      "source": [
        "## Building a Function to Visualiza Our Data"
      ],
      "metadata": {
        "id": "STK6MLEAnSka"
      }
    },
    {
      "cell_type": "markdown",
      "source": [
        "How might we better visualize our data?\n",
        "\n",
        "This is where we visualize our dataset.\n"
      ],
      "metadata": {
        "id": "cs9MsJPon7I6"
      }
    },
    {
      "cell_type": "code",
      "source": [],
      "metadata": {
        "id": "aYZ2JWtYsdI4"
      },
      "execution_count": 12,
      "outputs": []
    },
    {
      "cell_type": "code",
      "source": [
        "def plot_predictions(train_data=X_train,\n",
        "                     train_labels=y_train,\n",
        "                     test_data=X_test,\n",
        "                     test_labels=y_test,\n",
        "                     predictions=None):\n",
        "  \"\"\"\n",
        "  Plots training data, test data and compares predictions\n",
        "  \"\"\"\n",
        "  plt.figure(figsize=(10, 7))  #size of the figure \n",
        "  \n",
        "  #Plot training data in blue\n",
        "  plt.scatter(train_data, train_labels, c=\"b\", s=4, label=\"Training data\") #scatter plot of train_data vs train_labels\n",
        "  \n",
        "  #Plot test data in green \n",
        "  plt.scatter(test_data, test_labels, c=\"g\", s=4, label=\"Testing data\")  #scatter plot of test_data vs test_labels\n",
        "  \n",
        "  #Are there predictions?\n",
        "  if predictions is not None:\n",
        "    #Plot the predictions if they exist\n",
        "    plt.scatter(test_data, predictions, c=\"r\", s=4, label=\"Predictions\") #scatter plot of test_data vs predictions\n",
        "    \n",
        "  # Show the legend\n",
        "  plt.legend(prop={\"size\": 14});"
      ],
      "metadata": {
        "id": "SZaCsI-sqQg8"
      },
      "execution_count": 13,
      "outputs": []
    },
    {
      "cell_type": "code",
      "source": [
        "plot_predictions()"
      ],
      "metadata": {
        "colab": {
          "base_uri": "https://localhost:8080/",
          "height": 428
        },
        "id": "EOiGNFcauPs2",
        "outputId": "6cc1d603-66e1-49cf-b8fc-5a885319cc75"
      },
      "execution_count": 14,
      "outputs": [
        {
          "output_type": "display_data",
          "data": {
            "text/plain": [
              "<Figure size 720x504 with 1 Axes>"
            ],
            "image/png": "[encoded data removed]"
          },
          "metadata": {
            "needs_background": "light"
          }
        }
      ]
    },
    {
      "cell_type": "markdown",
      "source": [
        "We will build a model to learn a pattern of the blue dot so that the x value of the green dot will be able to predict the appropriate y value."
      ],
      "metadata": {
        "id": "WZz9AG1_uS4D"
      }
    },
    {
      "cell_type": "markdown",
      "source": [
        "## Creatng Our First PyTorch Model for Linear Regression\n",
        "\n",
        "Because we will be building classes,the following resources will be useful.\n",
        "\n",
        "https://realpython.com/python3-object-oriented-programming/\n",
        "\n",
        "\n",
        "What our model does:\n",
        "*  Start with random values (weight & bias)\n",
        "*  Look at training data and adjust the random values to better represent (or get closer to) the ideal values ((The weight & bias values we used to create the data).\n",
        "\n",
        "\n",
        "How does it do so?\n",
        "\n",
        "Through two main algorithms:\n",
        "1) Gradient descents: https://www.youtube.com/watch?v=IHZwWFHWa-w\n",
        "\n",
        "2) Backpropagation: https://www.youtube.com/watch?v=tIeHLnjs5U8&t=6s\n",
        "\n",
        "Gradient descent is why we have requires_grad = True. When running the code below, Python will keep track of the gradient of the weight and bias parameters and it will update the parameters through the combination of Gradient descent and back propagation."
      ],
      "metadata": {
        "id": "0fF2fgDavpzH"
      }
    },
    {
      "cell_type": "code",
      "source": [
        "from typing_extensions import Self\n",
        "from torch import nn\n",
        "# Create a linear regression model class.\n",
        "\n",
        "class LinearRegressionModel(nn.Module):\n",
        "  def __init__(self):\n",
        "    #<- almost everything in PyTorch is from nn.modules. Your module should subclass this class\n",
        "    super().__init__()\n",
        "    self.weights = nn.Parameter(torch.randn(1,\n",
        "                                         requires_grad=True,\n",
        "                                         dtype=torch.float))\n",
        "    self.bias  = nn.Parameter(torch.randn(1,\n",
        "                                       requires_grad=True,\n",
        "                                       dtype=torch.float))\n",
        "    # Forward methor to define the computation in the model\n",
        "    def forward(self, x: torch.Tensor) -> torch.Tensor:\n",
        "      # \"x\" is the input data\n",
        "      return self.weights * x + self.bias  # this is the linear regression formula\n",
        "    #the forward module is the compuation that the module does. You need to define\n",
        "    #the forward module if you want to subclass nn.Module. \n",
        "    #we pass the data to nn.Module and the forward method will perform the compuation\n"
      ],
      "metadata": {
        "id": "Zld9HqDUwUx1"
      },
      "execution_count": 17,
      "outputs": []
    },
    {
      "cell_type": "markdown",
      "source": [
        "## PyTorch Modulde Building Essentials \n",
        "\n",
        "* torch.nn - contains all of the building blocks for computational grphs (a neural network can be considered a compuational grpah).\n",
        "\n",
        "* torch.nn.Parameter - what parameters should our model try and learn, often a PyTorch layer parameter from torch.nn will set these for us\n",
        "\n",
        "* torch.nn.Module - The base calss for all neural network modules, if you subclass it, you should overwrite forward() method.\n",
        "\n",
        "* torch.optim - Otimizers in PyTorch live here, and they will help with gradient descent.\n",
        "\n",
        "*  def forward() - All nn.Module sublclasses require you to overwrite forward(),\n",
        "this method defines what happens in the forward computation.\n",
        "\n",
        "See some essential modules via PTorch cheatsheet - https://pytorch.org/tutorials/beginner/ptcheat.html"
      ],
      "metadata": {
        "id": "t2qTziiew2Ia"
      }
    },
    {
      "cell_type": "markdown",
      "source": [
        "### Checking the contents of our PyTorch Model\n",
        "\n",
        "We can check our model paramters or what's inside our model using .parameters()."
      ],
      "metadata": {
        "id": "1ZQuKaQ7DvmS"
      }
    },
    {
      "cell_type": "code",
      "source": [
        "#Create a random seed. Because we will want to get the same value everytime \n",
        "torch.manual_seed(42)\n",
        "\n",
        "#Create an instance of the model (this is a subclass of nn.Module)\n",
        "model_0 = LinearRegressionModel()\n",
        "\n",
        "#check out the parameters\n",
        "list(model_0.parameters())"
      ],
      "metadata": {
        "colab": {
          "base_uri": "https://localhost:8080/"
        },
        "id": "C1fNb4D9Fs34",
        "outputId": "da806070-79c9-4cee-8a64-585fbc003c72"
      },
      "execution_count": 23,
      "outputs": [
        {
          "output_type": "execute_result",
          "data": {
            "text/plain": [
              "[Parameter containing:\n",
              " tensor([0.3367], requires_grad=True), Parameter containing:\n",
              " tensor([0.1288], requires_grad=True)]"
            ]
          },
          "metadata": {},
          "execution_count": 23
        }
      ]
    },
    {
      "cell_type": "code",
      "source": [
        "model_0.state_dict()"
      ],
      "metadata": {
        "colab": {
          "base_uri": "https://localhost:8080/"
        },
        "id": "GEbsRy38ZnSz",
        "outputId": "def9fece-64ee-4cc3-de2b-6f3baf0f5b6d"
      },
      "execution_count": 24,
      "outputs": [
        {
          "output_type": "execute_result",
          "data": {
            "text/plain": [
              "OrderedDict([('weights', tensor([0.3367])), ('bias', tensor([0.1288]))])"
            ]
          },
          "metadata": {},
          "execution_count": 24
        }
      ]
    },
    {
      "cell_type": "markdown",
      "source": [
        "We need to adjust our weights and bias as close as possible to the true values."
      ],
      "metadata": {
        "id": "VRDG_egAbKOF"
      }
    },
    {
      "cell_type": "code",
      "source": [],
      "metadata": {
        "id": "RBR1k9fMbUcI"
      },
      "execution_count": null,
      "outputs": []
    }
  ]
}
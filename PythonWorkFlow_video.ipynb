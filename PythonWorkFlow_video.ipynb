{
  "nbformat": 4,
  "nbformat_minor": 0,
  "metadata": {
    "colab": {
      "provenance": [],
      "authorship_tag": "ABX9TyP+6Zri9/onC45cO2/2ckaF",
      "include_colab_link": true
    },
    "kernelspec": {
      "name": "python3",
      "display_name": "Python 3"
    },
    "language_info": {
      "name": "python"
    }
  },
  "cells": [
    {
      "cell_type": "markdown",
      "metadata": {
        "id": "view-in-github",
        "colab_type": "text"
      },
      "source": [
        "<a href=\"https://colab.research.google.com/github/tincorpai/Deep_Learning_Pytorch/blob/master/PythonWorkFlow_video.ipynb\" target=\"_parent\"><img src=\"https://colab.research.google.com/assets/colab-badge.svg\" alt=\"Open In Colab\"/></a>"
      ]
    },
    {
      "cell_type": "markdown",
      "source": [
        "# PyTorch Workflow\n",
        "\n",
        "* Get data ready (turn into tensors)\n",
        "\n",
        "* Build or pick a pretrained model\n",
        "\n",
        "* Fit the model to the data and make a prediction\n",
        "\n",
        "* Evaluate the model\n",
        "\n",
        "* Improve through experimentation\n",
        "\n",
        "* Save and reload your trined model"
      ],
      "metadata": {
        "id": "HONpEuSb700h"
      }
    },
    {
      "cell_type": "markdown",
      "source": [
        "## Where to get help?\n"
      ],
      "metadata": {
        "id": "z0Wr--XJ9uRK"
      }
    },
    {
      "cell_type": "markdown",
      "source": [
        " * Follow along with the code \n",
        "\n",
        " * Try it for yourself \n",
        "\n",
        " * Press SHIFT + CMD + SPACE to read the docstring \n",
        "\n",
        " * Search for it: use stack overflow\n",
        "\n",
        " * Try again \n",
        "\n",
        " * Ask "
      ],
      "metadata": {
        "id": "PWL8QAcE-tva"
      }
    },
    {
      "cell_type": "markdown",
      "source": [
        "#PyTorch Workflow\n",
        "\n",
        "\n",
        "Let's explore an example PyTorch end-to-end workflow.\n",
        "\n",
        "Resources:\n",
        "\n",
        "* Ground truth notebook - https://github.com/mrdbourke/pytorch-deep-learning/blob/main/02_pytorch_classification.ipynb\n",
        "\n",
        "* Book version of notebook - https://www.learnpytorch.io/01_pytorch_workflow/\n",
        "\n",
        "* Ask Questions - https://github.com/mrdbourke/pytorch-deep-learning/discussions"
      ],
      "metadata": {
        "id": "6TSCmk3o_Bzo"
      }
    },
    {
      "cell_type": "code",
      "source": [
        "what_weare_covering = {1:  \"data (prepare and load)\",\n",
        "                      2:   \"build model\",\n",
        "                      3:    \"fitting the model to data (training)\",\n",
        "                      4:    \"making predictions and evaluating a model (inferences)\",\n",
        "                      5:    \"saving and loading a model\",\n",
        "                      6:    \"putting it all together\"\n",
        "                       }\n",
        "what_weare_covering"
      ],
      "metadata": {
        "colab": {
          "base_uri": "https://localhost:8080/"
        },
        "id": "S3Y_AWMzASgD",
        "outputId": "072dbdf9-6602-4cfa-e7f3-7997ea5f755f"
      },
      "execution_count": 23,
      "outputs": [
        {
          "output_type": "execute_result",
          "data": {
            "text/plain": [
              "{1: 'data (prepare and load)',\n",
              " 2: 'build model',\n",
              " 3: 'fitting the model to data (training)',\n",
              " 4: 'making predictions and evaluating a model (inferences)',\n",
              " 5: 'saving and loading a model',\n",
              " 6: 'putting it all together'}"
            ]
          },
          "metadata": {},
          "execution_count": 23
        }
      ]
    },
    {
      "cell_type": "code",
      "source": [
        "import torch\n",
        "from torch import nn #nn contains all of PyTorch's building bloacks for neural networks. \n",
        "#it is also a building blocks of graphs. Graphs is reffered to as computational gragh. \n",
        "#it is the job of machine learning engineers to combine trc.nn building blocks to build any deep learning frame work.\n",
        "\n",
        "import matplotlib.pyplot as plt\n",
        "\n"
      ],
      "metadata": {
        "id": "-78-TOuNDmfo"
      },
      "execution_count": 24,
      "outputs": []
    },
    {
      "cell_type": "code",
      "source": [
        "#check PyTorch version\n",
        "torch.__version__"
      ],
      "metadata": {
        "colab": {
          "base_uri": "https://localhost:8080/",
          "height": 35
        },
        "id": "DtOzrdk2D9YD",
        "outputId": "4c3149dd-cb9d-4fb6-cc2f-307c66491360"
      },
      "execution_count": 25,
      "outputs": [
        {
          "output_type": "execute_result",
          "data": {
            "text/plain": [
              "'1.13.1+cu116'"
            ],
            "application/vnd.google.colaboratory.intrinsic+json": {
              "type": "string"
            }
          },
          "metadata": {},
          "execution_count": 25
        }
      ]
    },
    {
      "cell_type": "markdown",
      "source": [
        "##1. Data (preparing and loading)\n",
        "\n",
        "\n",
        "Data can be almost anything...  in machine learning.\n",
        "\n",
        "*  Excel spreadsheet\n",
        "*  Images of any kind\n",
        "\n",
        "*  Videos (Youtube has lots of data...)\n",
        "\n",
        "*  Audio like songs or podcasts\n",
        "\n",
        "*  DNA\n",
        "\n",
        "*  Text\n"
      ],
      "metadata": {
        "id": "WiO16cmBGJTV"
      }
    },
    {
      "cell_type": "markdown",
      "source": [
        "Machine learning is a game of two parts:\n",
        "1. Get data into a numerical representations\n",
        "2. Build a model to learn patterns in that numrical representation."
      ],
      "metadata": {
        "id": "TaT-Y4dgHQ0_"
      }
    },
    {
      "cell_type": "markdown",
      "source": [
        "To showcase this, ley's create some *known* data using linear regression formula.\n",
        "\n",
        "We'll use a linear regression formula to make a straight line with known parameters.\n",
        "\n",
        "We know these parameters but we want to build a model that will estimate these\n",
        "**parameters** by building some examples."
      ],
      "metadata": {
        "id": "IL03lSZ9Hn7H"
      }
    },
    {
      "cell_type": "code",
      "source": [
        "# crete *known* parameters \n",
        "weight = 0.7\n",
        "bias = 0.3\n",
        "\n",
        "# Create \n",
        "start = 0\n",
        "end = 1\n",
        "step = 0.02\n",
        "X = torch.arange(start, end, step).unsqueeze(dim=1) #Adds extra dimension.\n",
        "y  = weight * X + bias "
      ],
      "metadata": {
        "id": "AxOTZv8jIVXu"
      },
      "execution_count": 26,
      "outputs": []
    },
    {
      "cell_type": "code",
      "source": [
        "X[:10], y[:10]"
      ],
      "metadata": {
        "colab": {
          "base_uri": "https://localhost:8080/"
        },
        "id": "RwosQcOpJXn2",
        "outputId": "40de2aac-f8f3-47e2-e1ec-f75c02ba9f74"
      },
      "execution_count": 27,
      "outputs": [
        {
          "output_type": "execute_result",
          "data": {
            "text/plain": [
              "(tensor([[0.0000],\n",
              "         [0.0200],\n",
              "         [0.0400],\n",
              "         [0.0600],\n",
              "         [0.0800],\n",
              "         [0.1000],\n",
              "         [0.1200],\n",
              "         [0.1400],\n",
              "         [0.1600],\n",
              "         [0.1800]]), tensor([[0.3000],\n",
              "         [0.3140],\n",
              "         [0.3280],\n",
              "         [0.3420],\n",
              "         [0.3560],\n",
              "         [0.3700],\n",
              "         [0.3840],\n",
              "         [0.3980],\n",
              "         [0.4120],\n",
              "         [0.4260]]))"
            ]
          },
          "metadata": {},
          "execution_count": 27
        }
      ]
    },
    {
      "cell_type": "code",
      "source": [
        "len(X), len(y)"
      ],
      "metadata": {
        "colab": {
          "base_uri": "https://localhost:8080/"
        },
        "id": "QDSpjputKhpa",
        "outputId": "27cb9b2c-6dd2-4809-f48d-bb497596328b"
      },
      "execution_count": 28,
      "outputs": [
        {
          "output_type": "execute_result",
          "data": {
            "text/plain": [
              "(50, 50)"
            ]
          },
          "metadata": {},
          "execution_count": 28
        }
      ]
    },
    {
      "cell_type": "markdown",
      "source": [
        "### Splitting data into training and test sets (one of the most important concepts in machine learning in general)"
      ],
      "metadata": {
        "id": "LWppVLI1K1oA"
      }
    },
    {
      "cell_type": "markdown",
      "source": [
        "Three datasets exist in data science: They are\n",
        "\n",
        "1)  Training set:  Model learns patterns from training set\n",
        "\n",
        "2)  Validation set:  Tune the model on the validation set\n",
        "\n",
        "3)  Test set:  The test set examines the model's generalization.\n",
        "\n",
        "\n",
        "Generalization is the ability for a machine learning model to perform well on data it hasn't seen before.\n",
        "\n",
        "\n",
        "We want to build a machine learning model on some training data and we want to deploy on applications and production settings and then more data comes in than it has not seen before and it can make decision base on the new data because of the patterns it has learn in the training data.\n"
      ],
      "metadata": {
        "id": "EIaEikZVK88m"
      }
    },
    {
      "cell_type": "markdown",
      "source": [
        "Let's create a training and test set with our data"
      ],
      "metadata": {
        "id": "pPl7em-JjsZ4"
      }
    },
    {
      "cell_type": "code",
      "source": [
        "#Create a train/test split\n",
        "train_split = int(0.8 * len(X))\n",
        "train_split"
      ],
      "metadata": {
        "colab": {
          "base_uri": "https://localhost:8080/"
        },
        "id": "n2inWNnomML_",
        "outputId": "6679088c-49d1-4de3-f8f5-d18ed47e2ead"
      },
      "execution_count": 29,
      "outputs": [
        {
          "output_type": "execute_result",
          "data": {
            "text/plain": [
              "40"
            ]
          },
          "metadata": {},
          "execution_count": 29
        }
      ]
    },
    {
      "cell_type": "code",
      "source": [
        "X_train, y_train = X[:train_split], y[:train_split]\n",
        "X_test, y_test = X[train_split:], y[train_split:]\n",
        "\n",
        "len(X_train), len(y_train), len(X_test), len(y_test)"
      ],
      "metadata": {
        "colab": {
          "base_uri": "https://localhost:8080/"
        },
        "id": "_fDeom3MmPHK",
        "outputId": "db9865b3-dc53-4dec-fd5c-d46e7cd519f1"
      },
      "execution_count": 30,
      "outputs": [
        {
          "output_type": "execute_result",
          "data": {
            "text/plain": [
              "(40, 40, 10, 10)"
            ]
          },
          "metadata": {},
          "execution_count": 30
        }
      ]
    },
    {
      "cell_type": "markdown",
      "source": [
        "## Building a Function to Visualiza Our Data"
      ],
      "metadata": {
        "id": "STK6MLEAnSka"
      }
    },
    {
      "cell_type": "markdown",
      "source": [
        "How might we better visualize our data?\n",
        "\n",
        "This is where we visualize our dataset.\n"
      ],
      "metadata": {
        "id": "cs9MsJPon7I6"
      }
    },
    {
      "cell_type": "code",
      "source": [],
      "metadata": {
        "id": "aYZ2JWtYsdI4"
      },
      "execution_count": 30,
      "outputs": []
    },
    {
      "cell_type": "code",
      "source": [
        "def plot_predictions(train_data=X_train,\n",
        "                     train_labels=y_train,\n",
        "                     test_data=X_test,\n",
        "                     test_labels=y_test,\n",
        "                     predictions=None):\n",
        "  \"\"\"\n",
        "  Plots training data, test data and compares predictions\n",
        "  \"\"\"\n",
        "  plt.figure(figsize=(10, 7))  #size of the figure \n",
        "  \n",
        "  #Plot training data in blue\n",
        "  plt.scatter(train_data, train_labels, c=\"b\", s=4, label=\"Training data\") #scatter plot of train_data vs train_labels\n",
        "  \n",
        "  #Plot test data in green \n",
        "  plt.scatter(test_data, test_labels, c=\"g\", s=4, label=\"Testing data\")  #scatter plot of test_data vs test_labels\n",
        "  \n",
        "  #Are there predictions?\n",
        "  if predictions is not None:\n",
        "    #Plot the predictions if they exist\n",
        "    plt.scatter(test_data, predictions, c=\"r\", s=4, label=\"Predictions\") #scatter plot of test_data vs predictions\n",
        "    \n",
        "  # Show the legend\n",
        "  plt.legend(prop={\"size\": 14});"
      ],
      "metadata": {
        "id": "SZaCsI-sqQg8"
      },
      "execution_count": 31,
      "outputs": []
    },
    {
      "cell_type": "code",
      "source": [
        "plot_predictions()"
      ],
      "metadata": {
        "colab": {
          "base_uri": "https://localhost:8080/",
          "height": 428
        },
        "id": "EOiGNFcauPs2",
        "outputId": "b249ee11-5859-4707-bdbf-30d7d6c37029"
      },
      "execution_count": 32,
      "outputs": [
        {
          "output_type": "display_data",
          "data": {
            "text/plain": [
              "<Figure size 720x504 with 1 Axes>"
            ],
            "image/png": "[encoded data removed]"
          },
          "metadata": {
            "needs_background": "light"
          }
        }
      ]
    },
    {
      "cell_type": "markdown",
      "source": [
        "We will build a model to learn a pattern of the blue dot so that the x value of the green dot will be able to predict the appropriate y value."
      ],
      "metadata": {
        "id": "WZz9AG1_uS4D"
      }
    },
    {
      "cell_type": "markdown",
      "source": [
        "## Creatng Our First PyTorch Model for Linear Regression\n",
        "\n",
        "Because we will be building classes,the following resources will be useful.\n",
        "\n",
        "https://realpython.com/python3-object-oriented-programming/\n",
        "\n",
        "\n",
        "What our model does:\n",
        "*  Start with random values (weight & bias)\n",
        "*  Look at training data and adjust the random values to better represent (or get closer to) the ideal values ((The weight & bias values we used to create the data).\n",
        "\n",
        "\n",
        "How does it do so?\n",
        "\n",
        "Through two main algorithms:\n",
        "\n",
        "1) Gradient descents: https://www.youtube.com/watch?v=IHZwWFHWa-w\n",
        "\n",
        "2) Backpropagation: https://www.youtube.com/watch?v=tIeHLnjs5U8&t=6s\n",
        "\n",
        "Gradient descent is why we have requires_grad = True. When running the code below, Python will keep track of the gradient of the weight and bias parameters and it will update the parameters through the combination of Gradient descent and back propagation."
      ],
      "metadata": {
        "id": "0fF2fgDavpzH"
      }
    },
    {
      "cell_type": "markdown",
      "source": [
        "it is not necessarilly important to initialize your model with random parameters, you can initialize your model with zeros or use the parameters with another model.\n",
        "\n",
        "This is called transfer learning. The ideal model will replicate the known parameters"
      ],
      "metadata": {
        "id": "pA_j9yBNjrXk"
      }
    },
    {
      "cell_type": "code",
      "source": [
        "from typing_extensions import Self\n",
        "from torch import nn\n",
        "# Create a linear regression model class.\n",
        "\n",
        "class LinearRegressionModel(nn.Module):\n",
        "  def __init__(self):\n",
        "    #<- almost everything in PyTorch is from nn.modules. Your module should subclass this class\n",
        "    super().__init__()\n",
        "    self.weight = nn.Parameter(torch.randn(1,\n",
        "                                         requires_grad=True,\n",
        "                                         dtype=torch.float))\n",
        "    self.bias  = nn.Parameter(torch.randn(1,\n",
        "                                       requires_grad=True,\n",
        "                                       dtype=torch.float))\n",
        "    # Forward methor to define the computation in the model\n",
        "  def forward(self, X: torch.Tensor) -> torch.Tensor:\n",
        "    # \"x\" is the input data\n",
        "    return self.weight * X + self.bias  \n",
        "    # this is the linear regression formula\n",
        "    #the forward module is the compuation that the module does. You need to define\n",
        "    #the forward module if you want to subclass nn.Module. \n",
        "    #we pass the data to nn.Module and the forward method will perform the compuation\n"
      ],
      "metadata": {
        "id": "Zld9HqDUwUx1"
      },
      "execution_count": 33,
      "outputs": []
    },
    {
      "cell_type": "markdown",
      "source": [
        "## PyTorch Modulde Building Essentials \n",
        "\n",
        "* torch.nn - contains all of the building blocks for computational grphs (a neural network can be considered a compuational grpah).\n",
        "\n",
        "* torch.nn.Parameter - what parameters should our model try and learn, often a PyTorch layer parameter from torch.nn will set these for us\n",
        "\n",
        "* torch.nn.Module - The base calss for all neural network modules, if you subclass it, you should overwrite forward() method.\n",
        "\n",
        "* torch.optim - Otimizers in PyTorch live here, and they will help with gradient descent.\n",
        "\n",
        "*  def forward() - All nn.Module sublclasses require you to overwrite forward(),\n",
        "this method defines what happens in the forward computation.\n",
        "\n",
        "See some essential modules via PyTorch cheatsheet - https://pytorch.org/tutorials/beginner/ptcheat.html"
      ],
      "metadata": {
        "id": "t2qTziiew2Ia"
      }
    },
    {
      "cell_type": "markdown",
      "source": [
        "### Checking the contents of our PyTorch Model\n",
        "\n",
        "We can check our model paramters or what is inside our model using .parameters()."
      ],
      "metadata": {
        "id": "1ZQuKaQ7DvmS"
      }
    },
    {
      "cell_type": "code",
      "source": [
        "#Create a random seed. Because we will want to get the same value everytime \n",
        "torch.manual_seed(42)\n",
        "\n",
        "#Create an instance of the model (this is a subclass of nn.Module)\n",
        "model_0 = LinearRegressionModel()\n",
        "\n",
        "#check out the parameters\n",
        "list(model_0.parameters())"
      ],
      "metadata": {
        "colab": {
          "base_uri": "https://localhost:8080/"
        },
        "id": "C1fNb4D9Fs34",
        "outputId": "8ecece36-1bc1-487d-b3ea-9d4a683d9406"
      },
      "execution_count": 34,
      "outputs": [
        {
          "output_type": "execute_result",
          "data": {
            "text/plain": [
              "[Parameter containing:\n",
              " tensor([0.3367], requires_grad=True), Parameter containing:\n",
              " tensor([0.1288], requires_grad=True)]"
            ]
          },
          "metadata": {},
          "execution_count": 34
        }
      ]
    },
    {
      "cell_type": "code",
      "source": [
        "model_0.state_dict()"
      ],
      "metadata": {
        "colab": {
          "base_uri": "https://localhost:8080/"
        },
        "id": "GEbsRy38ZnSz",
        "outputId": "5cf0d19d-80fa-4835-e13a-3a94e227f38c"
      },
      "execution_count": 35,
      "outputs": [
        {
          "output_type": "execute_result",
          "data": {
            "text/plain": [
              "OrderedDict([('weight', tensor([0.3367])), ('bias', tensor([0.1288]))])"
            ]
          },
          "metadata": {},
          "execution_count": 35
        }
      ]
    },
    {
      "cell_type": "markdown",
      "source": [
        "We need to adjust our weights and bias that we start as random values and we tune the model in order to move the random values to the true parameters values as close as possible to the true value. "
      ],
      "metadata": {
        "id": "VRDG_egAbKOF"
      }
    },
    {
      "cell_type": "markdown",
      "source": [
        "### Making Prediction using `torch.inference_mode()`\n",
        "\n",
        "To check our model's predictive power, check how well its predicts 'y_test' based on x_test\n",
        "\n",
        "When we pass data through our model, it is going to run it through the `forward()` method."
      ],
      "metadata": {
        "id": "RBR1k9fMbUcI"
      }
    },
    {
      "cell_type": "code",
      "source": [
        "#make predictions with model\n",
        "with torch.inference_mode(): #it turns off inference tracking to maximize space\n",
        "  y_preds = model_0(X_test) #You can do something similar with torch.no_grad(), \n",
        "#however, inference mode is preferred.\n",
        "\n",
        "y_preds"
      ],
      "metadata": {
        "colab": {
          "base_uri": "https://localhost:8080/"
        },
        "id": "GSgcc8TWekF9",
        "outputId": "7253ee10-7370-4f0f-e394-102375cbdacb"
      },
      "execution_count": 36,
      "outputs": [
        {
          "output_type": "execute_result",
          "data": {
            "text/plain": [
              "tensor([[0.3982],\n",
              "        [0.4049],\n",
              "        [0.4116],\n",
              "        [0.4184],\n",
              "        [0.4251],\n",
              "        [0.4318],\n",
              "        [0.4386],\n",
              "        [0.4453],\n",
              "        [0.4520],\n",
              "        [0.4588]])"
            ]
          },
          "metadata": {},
          "execution_count": 36
        }
      ]
    },
    {
      "cell_type": "code",
      "source": [
        "y_test"
      ],
      "metadata": {
        "colab": {
          "base_uri": "https://localhost:8080/"
        },
        "id": "u0k2JiTfl6U2",
        "outputId": "f8bd3719-7e86-4c1c-b586-d6f1799acd96"
      },
      "execution_count": 37,
      "outputs": [
        {
          "output_type": "execute_result",
          "data": {
            "text/plain": [
              "tensor([[0.8600],\n",
              "        [0.8740],\n",
              "        [0.8880],\n",
              "        [0.9020],\n",
              "        [0.9160],\n",
              "        [0.9300],\n",
              "        [0.9440],\n",
              "        [0.9580],\n",
              "        [0.9720],\n",
              "        [0.9860]])"
            ]
          },
          "metadata": {},
          "execution_count": 37
        }
      ]
    },
    {
      "cell_type": "markdown",
      "source": [
        "For details of the PyTorch inference mode, check out this link:\n",
        "https://twitter.com/pytorch/status/1437838231505096708"
      ],
      "metadata": {
        "id": "8n51D0IOoIYo"
      }
    },
    {
      "cell_type": "code",
      "source": [
        "plot_predictions(predictions=y_preds)"
      ],
      "metadata": {
        "colab": {
          "base_uri": "https://localhost:8080/",
          "height": 428
        },
        "id": "L4ji-xhUmcJD",
        "outputId": "3c6f6d5e-4a0a-4c0b-bee3-d14b4d13c74b"
      },
      "execution_count": 38,
      "outputs": [
        {
          "output_type": "display_data",
          "data": {
            "text/plain": [
              "<Figure size 720x504 with 1 Axes>"
            ],
            "image/png": "[encoded data removed]"
          },
          "metadata": {
            "needs_background": "light"
          }
        }
      ]
    },
    {
      "cell_type": "markdown",
      "source": [
        "The whole idea of training is for a model to move from *unknown* parameters\n",
        "(these may be random) to some *known* parameters.\n",
        "\n",
        "Or in other words from a poor representation of the data to a better representation of the data. From the model we showcased above, we see that this is a poor representation of our dataset.\n",
        "\n",
        "One way to measure the representation between your model outputs, in our case the red dot prediction, and the testing data is to use the **loss function**.\n",
        "\n",
        "\n",
        "Note: Loss function can also be called cost function or criterion in different arears. For this work, we will refer to it as a loss function.\n",
        "\n",
        "\n",
        "Things we need to train:\n",
        "\n",
        "*  **Loss function:** A function to measure how wrong your model's prediction is to the ideal outputs. For more information on loss function, checkout this link:https://pytorch.org/docs/stable/nn.html#loss-functions\n",
        "\n",
        "*  **Optimizer:** Takes into account the loss of a model and adjust the model's parameters (e.g. weight & bias in our case) to improve the loss function.\n",
        "For getting more information about optimizer, checkout this link:https://pytorch.org/docs/stable/optim.html\n",
        "     \n",
        "      Inside the optimizer, you will often set two parameters:\n",
        "          * params: the model parameters you did like to optimize, for example \n",
        "            params = model_0.parameters().\n",
        "\n",
        "          * lr (learning rate) - the learning rate is a hyperparameter that \n",
        "            defines how big/small the optimizer changes the parameters with \n",
        "            each step (a small lr results in small changes, a large lr results \n",
        "            large changes.\n",
        "\n",
        "\n",
        "\n",
        "And specifically for PyTorch, we need: \n",
        "\n",
        "* A training loop \n",
        "\n",
        "* A testing loop\n",
        "\n",
        "In other words, the loss function takes into account how wrong our model is and the optimizer takes into cognizant the outcome from the loss function and tune or adjust the parameters (weight and bias in the example) to improve the loss \n",
        "function.\n",
        "\n",
        "Hyperparameters is what machine engineers and data scientists set while the parameters is set by the model."
      ],
      "metadata": {
        "id": "zcINnpDGh_au"
      }
    },
    {
      "cell_type": "code",
      "source": [
        "list(model_0.parameters())"
      ],
      "metadata": {
        "colab": {
          "base_uri": "https://localhost:8080/"
        },
        "id": "ulS38KqijgGa",
        "outputId": "3d9cec5e-cb89-4581-fb23-7edd811665ff"
      },
      "execution_count": 39,
      "outputs": [
        {
          "output_type": "execute_result",
          "data": {
            "text/plain": [
              "[Parameter containing:\n",
              " tensor([0.3367], requires_grad=True), Parameter containing:\n",
              " tensor([0.1288], requires_grad=True)]"
            ]
          },
          "metadata": {},
          "execution_count": 39
        }
      ]
    },
    {
      "cell_type": "code",
      "source": [
        "#Check out our model's parameters (a parameter is a value that the model sets itself)\n",
        "model_0.state_dict()"
      ],
      "metadata": {
        "colab": {
          "base_uri": "https://localhost:8080/"
        },
        "id": "zasHnxHvioz7",
        "outputId": "341c4cc9-f4ca-480a-f4da-e811f05e840e"
      },
      "execution_count": 40,
      "outputs": [
        {
          "output_type": "execute_result",
          "data": {
            "text/plain": [
              "OrderedDict([('weight', tensor([0.3367])), ('bias', tensor([0.1288]))])"
            ]
          },
          "metadata": {},
          "execution_count": 40
        }
      ]
    },
    {
      "cell_type": "code",
      "source": [
        "# Setup a loss function\n",
        "loss_fn = nn.L1Loss()\n",
        "\n",
        "\n",
        "#Set up an optimizer (stochastic gradient descent) #It's starts by randomly adjusting\n",
        "#the parameters. Once its founds the random steps that have minimize the loss value\n",
        "#it is going continue adjusting the parameters in that direction. It may say \n",
        "#for instance, if the weight increases, the loss may reduce. And this will continue \n",
        "#untill the weight no longer reduce the loss. The smaller the learning rate, the smaller the change in the parameter, \n",
        "#the larger the learning rate, the larger the change in the parameter.\n",
        "optimizer = torch.optim.SGD(params=model_0.parameters(),\n",
        "                            lr=0.01)# lr = learning rate = possibly the most important hyperparameter you can set.\n"
      ],
      "metadata": {
        "id": "1Ip08_X6mvYQ"
      },
      "execution_count": 46,
      "outputs": []
    },
    {
      "cell_type": "markdown",
      "source": [
        "The question is, which loss function and optimizer should be used?\n",
        "\n",
        "A: This is problem specific. But with experience, we will get an idea of what works and what doesn't work with your particular problem set.\n",
        "\n",
        "For example, for a regression problem (like ours), a loss function of nn.L1Loss() and optimizer like torch.optim.SGD() will suffice.\n",
        "\n",
        "But for a classification problem like classifing whether a photo is a dog or cat, you'll likely want to use a loss function of nn.BCELoss()  (binary cross loss)."
      ],
      "metadata": {
        "id": "hH-f3ULYikwN"
      }
    },
    {
      "cell_type": "markdown",
      "source": [
        "## Building a training loop (and a testing loop) in PyTorch \n",
        "\n",
        "\n",
        "A couple of things we need in a training loop:\n",
        "0.  Loop through the data\n",
        "\n",
        "1.  Forward pass (this involves data moving from the input to the output layer `forward()` functions) to make predictions on data - also called forward propagation.\n",
        "\n",
        "2. Calculate the loss (compare forward pass  predictions to ground truth labels)\n",
        "\n",
        "3. Optimizer zero grad \n",
        "\n",
        "4. Loss backward - move backwards through the network to calculate the gradients of each of the parameters of our model with respect to the loss (**backpropagation**)\n",
        "\n",
        "5. Optimizer step - use the optimizer to adjust our model's parameters to try and improve the loss. (**gradient descent**).\n",
        "\n",
        "Note: If the gradient of the loss is zero, then the losss is zero too."
      ],
      "metadata": {
        "id": "sC-6GlrzjvMt"
      }
    },
    {
      "cell_type": "code",
      "source": [
        "# An epoch is one loop through the data...(this is hyperparameters because we \n",
        "#set it ourselves).\n",
        "epochs = 100\n",
        "\n",
        "### Training\n",
        "#0. Loop through the data \n",
        "for epoch in range(epochs): #one epoch is a single board pass through the data.\n",
        "  #Set the model to training mode\n",
        "  model_0.train()  #train mode in PyTorch set all parameters that require gradients\n",
        "  #to require gradients. We want to minimize the gradients \n",
        " \n",
        "\n",
        "  #1.  Forward   #we learn patterns on the training data to evaluate our model on\n",
        "  #test data\n",
        "  y_pred = model_0(X_train)\n",
        "\n",
        "  #2.We want to calculate the loss (different between the our model's training \n",
        "  #dataset and the ideal data values).\n",
        "  loss = loss_fn(y_pred, y_train)\n",
        "  print(f\"loss: {loss}\")\n",
        "\n",
        "  #3.  Optimizer zero grad\n",
        "  optimizer.zero_grad()\n",
        "\n",
        "  #4.  Perform backpropagation on the loss with respect to the parameter of the \n",
        "  #model.\n",
        "  loss.backward()\n",
        "\n",
        "  #5.  Step the optimizer (perform gradient descent)\n",
        "  optimizer.step()  #the optimizer makes some calculation in how to adjust the\n",
        "   #the model parmeters with regards to the backpropagation of the loss.\n",
        "   #by default how the optimizer changes will accumulates through the loop... we\n",
        "   #zero them above in step 3 for the next iteration of the loop. It's function\n",
        "   #as its updates the step's parameters to further get them closer to the true value\n",
        "   #if it does that, the loss will closer to zero.\n",
        "\n",
        "\n",
        "  model_0.eval()    #turn off the different settings in the model not needed for evaluation/testing\n",
        "  \n",
        "\n",
        "  #print out model state_dict()\n",
        "  print(model_0.state_dict())"
      ],
      "metadata": {
        "colab": {
          "base_uri": "https://localhost:8080/"
        },
        "id": "bqPHboV2mXI7",
        "outputId": "500824c4-2e24-4573-cb67-638860fa5cd8"
      },
      "execution_count": 114,
      "outputs": [
        {
          "output_type": "stream",
          "name": "stdout",
          "text": [
            "loss: 0.039933640509843826\n",
            "OrderedDict([('weight', tensor([0.5028])), ('bias', tensor([0.3818]))])\n",
            "loss: 0.03958464413881302\n",
            "OrderedDict([('weight', tensor([0.5046])), ('bias', tensor([0.3813]))])\n",
            "loss: 0.03923564404249191\n",
            "OrderedDict([('weight', tensor([0.5064])), ('bias', tensor([0.3808]))])\n",
            "loss: 0.03888664394617081\n",
            "OrderedDict([('weight', tensor([0.5082])), ('bias', tensor([0.3803]))])\n",
            "loss: 0.0385376438498497\n",
            "OrderedDict([('weight', tensor([0.5100])), ('bias', tensor([0.3798]))])\n",
            "loss: 0.03818932920694351\n",
            "OrderedDict([('weight', tensor([0.5116])), ('bias', tensor([0.3788]))])\n",
            "loss: 0.03785243630409241\n",
            "OrderedDict([('weight', tensor([0.5134])), ('bias', tensor([0.3783]))])\n",
            "loss: 0.0375034399330616\n",
            "OrderedDict([('weight', tensor([0.5152])), ('bias', tensor([0.3778]))])\n",
            "loss: 0.037164121866226196\n",
            "OrderedDict([('weight', tensor([0.5168])), ('bias', tensor([0.3768]))])\n",
            "loss: 0.03681822493672371\n",
            "OrderedDict([('weight', tensor([0.5186])), ('bias', tensor([0.3763]))])\n",
            "loss: 0.03647511452436447\n",
            "OrderedDict([('weight', tensor([0.5202])), ('bias', tensor([0.3753]))])\n",
            "loss: 0.03613303601741791\n",
            "OrderedDict([('weight', tensor([0.5220])), ('bias', tensor([0.3748]))])\n",
            "loss: 0.03578609973192215\n",
            "OrderedDict([('weight', tensor([0.5236])), ('bias', tensor([0.3738]))])\n",
            "loss: 0.03544783592224121\n",
            "OrderedDict([('weight', tensor([0.5254])), ('bias', tensor([0.3733]))])\n",
            "loss: 0.035098835825920105\n",
            "OrderedDict([('weight', tensor([0.5272])), ('bias', tensor([0.3728]))])\n",
            "loss: 0.03476089984178543\n",
            "OrderedDict([('weight', tensor([0.5288])), ('bias', tensor([0.3718]))])\n",
            "loss: 0.03441363573074341\n",
            "OrderedDict([('weight', tensor([0.5306])), ('bias', tensor([0.3713]))])\n",
            "loss: 0.03407188132405281\n",
            "OrderedDict([('weight', tensor([0.5322])), ('bias', tensor([0.3703]))])\n",
            "loss: 0.03372843936085701\n",
            "OrderedDict([('weight', tensor([0.5340])), ('bias', tensor([0.3698]))])\n",
            "loss: 0.03338287025690079\n",
            "OrderedDict([('weight', tensor([0.5355])), ('bias', tensor([0.3688]))])\n",
            "loss: 0.033043231815099716\n",
            "OrderedDict([('weight', tensor([0.5373])), ('bias', tensor([0.3683]))])\n",
            "loss: 0.03269423171877861\n",
            "OrderedDict([('weight', tensor([0.5391])), ('bias', tensor([0.3678]))])\n",
            "loss: 0.032357655465602875\n",
            "OrderedDict([('weight', tensor([0.5407])), ('bias', tensor([0.3668]))])\n",
            "loss: 0.03200903534889221\n",
            "OrderedDict([('weight', tensor([0.5425])), ('bias', tensor([0.3663]))])\n",
            "loss: 0.03166864812374115\n",
            "OrderedDict([('weight', tensor([0.5441])), ('bias', tensor([0.3653]))])\n",
            "loss: 0.03132382780313492\n",
            "OrderedDict([('weight', tensor([0.5459])), ('bias', tensor([0.3648]))])\n",
            "loss: 0.030979642644524574\n",
            "OrderedDict([('weight', tensor([0.5475])), ('bias', tensor([0.3638]))])\n",
            "loss: 0.030638623982667923\n",
            "OrderedDict([('weight', tensor([0.5493])), ('bias', tensor([0.3633]))])\n",
            "loss: 0.0302906334400177\n",
            "OrderedDict([('weight', tensor([0.5509])), ('bias', tensor([0.3623]))])\n",
            "loss: 0.029953425750136375\n",
            "OrderedDict([('weight', tensor([0.5527])), ('bias', tensor([0.3618]))])\n",
            "loss: 0.02960442565381527\n",
            "OrderedDict([('weight', tensor([0.5545])), ('bias', tensor([0.3613]))])\n",
            "loss: 0.029265418648719788\n",
            "OrderedDict([('weight', tensor([0.5561])), ('bias', tensor([0.3603]))])\n",
            "loss: 0.028919223695993423\n",
            "OrderedDict([('weight', tensor([0.5579])), ('bias', tensor([0.3598]))])\n",
            "loss: 0.028576409444212914\n",
            "OrderedDict([('weight', tensor([0.5595])), ('bias', tensor([0.3588]))])\n",
            "loss: 0.028234025463461876\n",
            "OrderedDict([('weight', tensor([0.5613])), ('bias', tensor([0.3583]))])\n",
            "loss: 0.02788739837706089\n",
            "OrderedDict([('weight', tensor([0.5629])), ('bias', tensor([0.3573]))])\n",
            "loss: 0.02754882536828518\n",
            "OrderedDict([('weight', tensor([0.5647])), ('bias', tensor([0.3568]))])\n",
            "loss: 0.027199819684028625\n",
            "OrderedDict([('weight', tensor([0.5665])), ('bias', tensor([0.3563]))])\n",
            "loss: 0.026862185448408127\n",
            "OrderedDict([('weight', tensor([0.5681])), ('bias', tensor([0.3553]))])\n",
            "loss: 0.02651461586356163\n",
            "OrderedDict([('weight', tensor([0.5699])), ('bias', tensor([0.3548]))])\n",
            "loss: 0.026173178106546402\n",
            "OrderedDict([('weight', tensor([0.5715])), ('bias', tensor([0.3538]))])\n",
            "loss: 0.025829419493675232\n",
            "OrderedDict([('weight', tensor([0.5733])), ('bias', tensor([0.3533]))])\n",
            "loss: 0.02548416517674923\n",
            "OrderedDict([('weight', tensor([0.5748])), ('bias', tensor([0.3523]))])\n",
            "loss: 0.025144213810563087\n",
            "OrderedDict([('weight', tensor([0.5766])), ('bias', tensor([0.3518]))])\n",
            "loss: 0.02479521557688713\n",
            "OrderedDict([('weight', tensor([0.5784])), ('bias', tensor([0.3513]))])\n",
            "loss: 0.024458957836031914\n",
            "OrderedDict([('weight', tensor([0.5800])), ('bias', tensor([0.3503]))])\n",
            "loss: 0.024110013619065285\n",
            "OrderedDict([('weight', tensor([0.5818])), ('bias', tensor([0.3498]))])\n",
            "loss: 0.02376994863152504\n",
            "OrderedDict([('weight', tensor([0.5834])), ('bias', tensor([0.3488]))])\n",
            "loss: 0.02342480979859829\n",
            "OrderedDict([('weight', tensor([0.5852])), ('bias', tensor([0.3483]))])\n",
            "loss: 0.023080935701727867\n",
            "OrderedDict([('weight', tensor([0.5868])), ('bias', tensor([0.3473]))])\n",
            "loss: 0.022739607840776443\n",
            "OrderedDict([('weight', tensor([0.5886])), ('bias', tensor([0.3468]))])\n",
            "loss: 0.022391926497220993\n",
            "OrderedDict([('weight', tensor([0.5902])), ('bias', tensor([0.3458]))])\n",
            "loss: 0.022054409608244896\n",
            "OrderedDict([('weight', tensor([0.5920])), ('bias', tensor([0.3453]))])\n",
            "loss: 0.02170540764927864\n",
            "OrderedDict([('weight', tensor([0.5938])), ('bias', tensor([0.3448]))])\n",
            "loss: 0.021366719156503677\n",
            "OrderedDict([('weight', tensor([0.5954])), ('bias', tensor([0.3438]))])\n",
            "loss: 0.021020207554101944\n",
            "OrderedDict([('weight', tensor([0.5972])), ('bias', tensor([0.3433]))])\n",
            "loss: 0.020677709951996803\n",
            "OrderedDict([('weight', tensor([0.5988])), ('bias', tensor([0.3423]))])\n",
            "loss: 0.02033500373363495\n",
            "OrderedDict([('weight', tensor([0.6006])), ('bias', tensor([0.3418]))])\n",
            "loss: 0.01998869702219963\n",
            "OrderedDict([('weight', tensor([0.6022])), ('bias', tensor([0.3408]))])\n",
            "loss: 0.019649803638458252\n",
            "OrderedDict([('weight', tensor([0.6040])), ('bias', tensor([0.3403]))])\n",
            "loss: 0.019300809130072594\n",
            "OrderedDict([('weight', tensor([0.6058])), ('bias', tensor([0.3398]))])\n",
            "loss: 0.018963487818837166\n",
            "OrderedDict([('weight', tensor([0.6074])), ('bias', tensor([0.3388]))])\n",
            "loss: 0.01861560344696045\n",
            "OrderedDict([('weight', tensor([0.6092])), ('bias', tensor([0.3383]))])\n",
            "loss: 0.018274478614330292\n",
            "OrderedDict([('weight', tensor([0.6108])), ('bias', tensor([0.3373]))])\n",
            "loss: 0.017930403351783752\n",
            "OrderedDict([('weight', tensor([0.6126])), ('bias', tensor([0.3368]))])\n",
            "loss: 0.01758546568453312\n",
            "OrderedDict([('weight', tensor([0.6141])), ('bias', tensor([0.3358]))])\n",
            "loss: 0.017245199531316757\n",
            "OrderedDict([('weight', tensor([0.6159])), ('bias', tensor([0.3353]))])\n",
            "loss: 0.016896454617381096\n",
            "OrderedDict([('weight', tensor([0.6175])), ('bias', tensor([0.3343]))])\n",
            "loss: 0.01656000316143036\n",
            "OrderedDict([('weight', tensor([0.6193])), ('bias', tensor([0.3338]))])\n",
            "loss: 0.016210997477173805\n",
            "OrderedDict([('weight', tensor([0.6211])), ('bias', tensor([0.3333]))])\n",
            "loss: 0.01587124727666378\n",
            "OrderedDict([('weight', tensor([0.6227])), ('bias', tensor([0.3323]))])\n",
            "loss: 0.015525798313319683\n",
            "OrderedDict([('weight', tensor([0.6245])), ('bias', tensor([0.3318]))])\n",
            "loss: 0.015182236209511757\n",
            "OrderedDict([('weight', tensor([0.6261])), ('bias', tensor([0.3308]))])\n",
            "loss: 0.014840595424175262\n",
            "OrderedDict([('weight', tensor([0.6279])), ('bias', tensor([0.3303]))])\n",
            "loss: 0.01449323259294033\n",
            "OrderedDict([('weight', tensor([0.6295])), ('bias', tensor([0.3293]))])\n",
            "loss: 0.014155393466353416\n",
            "OrderedDict([('weight', tensor([0.6313])), ('bias', tensor([0.3288]))])\n",
            "loss: 0.013806397095322609\n",
            "OrderedDict([('weight', tensor([0.6331])), ('bias', tensor([0.3283]))])\n",
            "loss: 0.013468016870319843\n",
            "OrderedDict([('weight', tensor([0.6347])), ('bias', tensor([0.3273]))])\n",
            "loss: 0.013121193274855614\n",
            "OrderedDict([('weight', tensor([0.6365])), ('bias', tensor([0.3268]))])\n",
            "loss: 0.01277900766581297\n",
            "OrderedDict([('weight', tensor([0.6381])), ('bias', tensor([0.3258]))])\n",
            "loss: 0.012435992248356342\n",
            "OrderedDict([('weight', tensor([0.6399])), ('bias', tensor([0.3253]))])\n",
            "loss: 0.01208999752998352\n",
            "OrderedDict([('weight', tensor([0.6415])), ('bias', tensor([0.3243]))])\n",
            "loss: 0.011750795878469944\n",
            "OrderedDict([('weight', tensor([0.6433])), ('bias', tensor([0.3238]))])\n",
            "loss: 0.011401787400245667\n",
            "OrderedDict([('weight', tensor([0.6451])), ('bias', tensor([0.3233]))])\n",
            "loss: 0.011064787395298481\n",
            "OrderedDict([('weight', tensor([0.6467])), ('bias', tensor([0.3223]))])\n",
            "loss: 0.010716589167714119\n",
            "OrderedDict([('weight', tensor([0.6485])), ('bias', tensor([0.3218]))])\n",
            "loss: 0.010375778190791607\n",
            "OrderedDict([('weight', tensor([0.6501])), ('bias', tensor([0.3208]))])\n",
            "loss: 0.010031387209892273\n",
            "OrderedDict([('weight', tensor([0.6519])), ('bias', tensor([0.3203]))])\n",
            "loss: 0.009686763398349285\n",
            "OrderedDict([('weight', tensor([0.6534])), ('bias', tensor([0.3193]))])\n",
            "loss: 0.009346187114715576\n",
            "OrderedDict([('weight', tensor([0.6552])), ('bias', tensor([0.3188]))])\n",
            "loss: 0.008997755125164986\n",
            "OrderedDict([('weight', tensor([0.6568])), ('bias', tensor([0.3178]))])\n",
            "loss: 0.008660981431603432\n",
            "OrderedDict([('weight', tensor([0.6586])), ('bias', tensor([0.3173]))])\n",
            "loss: 0.008311985060572624\n",
            "OrderedDict([('weight', tensor([0.6604])), ('bias', tensor([0.3168]))])\n",
            "loss: 0.007972544990479946\n",
            "OrderedDict([('weight', tensor([0.6620])), ('bias', tensor([0.3158]))])\n",
            "loss: 0.007626785431057215\n",
            "OrderedDict([('weight', tensor([0.6638])), ('bias', tensor([0.3153]))])\n",
            "loss: 0.0072835334576666355\n",
            "OrderedDict([('weight', tensor([0.6654])), ('bias', tensor([0.3143]))])\n",
            "loss: 0.006941580679267645\n",
            "OrderedDict([('weight', tensor([0.6672])), ('bias', tensor([0.3138]))])\n",
            "loss: 0.006594526115804911\n",
            "OrderedDict([('weight', tensor([0.6688])), ('bias', tensor([0.3128]))])\n",
            "loss: 0.006256377790123224\n",
            "OrderedDict([('weight', tensor([0.6706])), ('bias', tensor([0.3123]))])\n",
            "loss: 0.005907376762479544\n",
            "OrderedDict([('weight', tensor([0.6724])), ('bias', tensor([0.3118]))])\n"
          ]
        }
      ]
    },
    {
      "cell_type": "code",
      "source": [
        "#let's make some predictions\n",
        "with torch.inference_mode():\n",
        "  y_pred_new = model_0(X_test)\n",
        "\n",
        "y_preds"
      ],
      "metadata": {
        "colab": {
          "base_uri": "https://localhost:8080/"
        },
        "id": "L_GLR_OiAiBs",
        "outputId": "1f63d5b4-6c8c-423b-a444-f0fc3bdeafd4"
      },
      "execution_count": 117,
      "outputs": [
        {
          "output_type": "execute_result",
          "data": {
            "text/plain": [
              "tensor([[0.3982],\n",
              "        [0.4049],\n",
              "        [0.4116],\n",
              "        [0.4184],\n",
              "        [0.4251],\n",
              "        [0.4318],\n",
              "        [0.4386],\n",
              "        [0.4453],\n",
              "        [0.4520],\n",
              "        [0.4588]])"
            ]
          },
          "metadata": {},
          "execution_count": 117
        }
      ]
    },
    {
      "cell_type": "markdown",
      "source": [
        "Steps in the code above are explained as follow:\n",
        "\n",
        "1)   Pass the data through a model for a number of epochs\n",
        "    (e.g. 100 for 100 passes of the data)\n",
        "\n",
        "2)   Pass the data through the model, this will perform forward() method      located within the model.\n",
        "\n",
        "\n",
        "3)   We calculate the loss values (how wrong the model predictions are) and this depends what loss function you used, what kind of prediction your is returning and what kind of true value you have.\n",
        "\n",
        "4) Zero the optimizer to gradients: **Note** The optimizer accumulates gradients over time so that for each epoch, we want them to go back to zero. \n",
        "Its accumulate gradient because of compute optimization.\n",
        "They accumulate every epoch, zero them to start fresh every epoch.\n",
        "\n",
        "5) Perform backpropagation on the loss function (compute the gradient of every parameter with requires_grad=True)\n",
        "\n",
        "6) Step the optimizer to update the model's performance with respect to the \n",
        "   gradients calculated by loss.backward(). \n",
        "\n",
        "\n",
        "**Note** When we are testing we adjust the parameters our models have learnt on the training dataset, se we don't need to do any learnining when testing. We turn off things we do not need."
      ],
      "metadata": {
        "id": "qlMC9u3nvfA8"
      }
    },
    {
      "cell_type": "code",
      "source": [
        "model_0.state_dict()"
      ],
      "metadata": {
        "id": "vMHlPQN7yKLc",
        "colab": {
          "base_uri": "https://localhost:8080/"
        },
        "outputId": "387dc656-2093-4768-a672-816a33635845"
      },
      "execution_count": 111,
      "outputs": [
        {
          "output_type": "execute_result",
          "data": {
            "text/plain": [
              "OrderedDict([('weight', tensor([0.5010])), ('bias', tensor([0.3823]))])"
            ]
          },
          "metadata": {},
          "execution_count": 111
        }
      ]
    },
    {
      "cell_type": "code",
      "source": [
        "plot_predictions(predictions=y_preds)"
      ],
      "metadata": {
        "colab": {
          "base_uri": "https://localhost:8080/",
          "height": 428
        },
        "id": "1GedspjbBwhB",
        "outputId": "14552dfb-8116-4cde-fdac-bdf5b9015bcc"
      },
      "execution_count": 112,
      "outputs": [
        {
          "output_type": "display_data",
          "data": {
            "text/plain": [
              "<Figure size 720x504 with 1 Axes>"
            ],
            "image/png": "[encoded data removed]"
          },
          "metadata": {
            "needs_background": "light"
          }
        }
      ]
    },
    {
      "cell_type": "code",
      "source": [
        "plot_predictions(predictions=y_pred_new)"
      ],
      "metadata": {
        "colab": {
          "base_uri": "https://localhost:8080/",
          "height": 428
        },
        "id": "Y0WYFOC0CkPd",
        "outputId": "36c18b95-3f75-4091-c8ad-1515b50a9d20"
      },
      "execution_count": 118,
      "outputs": [
        {
          "output_type": "display_data",
          "data": {
            "text/plain": [
              "<Figure size 720x504 with 1 Axes>"
            ],
            "image/png": "[encoded data removed]"
          },
          "metadata": {
            "needs_background": "light"
          }
        }
      ]
    },
    {
      "cell_type": "code",
      "source": [],
      "metadata": {
        "id": "iSkVR3zcD72C"
      },
      "execution_count": null,
      "outputs": []
    }
  ]
}
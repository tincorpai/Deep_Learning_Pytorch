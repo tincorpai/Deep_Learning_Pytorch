{
  "nbformat": 4,
  "nbformat_minor": 0,
  "metadata": {
    "colab": {
      "provenance": [],
      "authorship_tag": "ABX9TyPgZFTG58hF7Fx3zJVXSnu9",
      "include_colab_link": true
    },
    "kernelspec": {
      "name": "python3",
      "display_name": "Python 3"
    },
    "language_info": {
      "name": "python"
    },
    "gpuClass": "standard",
    "accelerator": "GPU"
  },
  "cells": [
    {
      "cell_type": "markdown",
      "metadata": {
        "id": "view-in-github",
        "colab_type": "text"
      },
      "source": [
        "<a href=\"https://colab.research.google.com/github/tincorpai/Deep_Learning_Pytorch/blob/master/Pytorch_Fundamental.ipynb\" target=\"_parent\"><img src=\"https://colab.research.google.com/assets/colab-badge.svg\" alt=\"Open In Colab\"/></a>"
      ]
    },
    {
      "cell_type": "markdown",
      "source": [
        "# Pytorch Fundamental\n",
        "\n",
        "Resources Notebooks Available Here: https://www.learnpytorch.io/01_pytorch_workflow/\n",
        "\n",
        "If you have any questions, use this: https://github.com/mrdbourke/pytorch-deep-learning/discussions\n",
        "\n",
        "The Zero to Mastery Website: https://zerotomastery.io/courses/learn-tensorflow/\n",
        "\n",
        "The Zero to Mastery Discussion Community: https://discord.com/channels/423464391791476747/@home\n",
        "\n",
        "For Google Colab Command Short Cut, Visit this site: https://amitness.com/2020/06/google-colaboratory-tips/"
      ],
      "metadata": {
        "id": "AEC_J4iJR9Pr"
      }
    },
    {
      "cell_type": "code",
      "source": [
        "import torch\n",
        "import numpy as np\n",
        "import pandas as pd\n",
        "import matplotlib.pyplot as plt\n",
        "print(torch.__version__)"
      ],
      "metadata": {
        "id": "0T63wSi-IlN3",
        "colab": {
          "base_uri": "https://localhost:8080/"
        },
        "outputId": "57b685cf-75ba-4a1a-8889-2b7d5e8805b2"
      },
      "execution_count": null,
      "outputs": [
        {
          "output_type": "stream",
          "name": "stdout",
          "text": [
            "1.13.1+cu116\n"
          ]
        }
      ]
    },
    {
      "cell_type": "markdown",
      "source": [
        "# Introduction to tensors "
      ],
      "metadata": {
        "id": "sDUUZ6rXS8eb"
      }
    },
    {
      "cell_type": "markdown",
      "source": [
        "## Creating Tensors \n",
        "\n",
        "Pytorch tensors are created using 'torch.Tensor()' = https://pytorch.org/docs/stable/tensors.html"
      ],
      "metadata": {
        "id": "GNLWp8LIWWYM"
      }
    },
    {
      "cell_type": "code",
      "source": [
        "# scalar \n",
        "scalar = torch.tensor(7)\n",
        "scalar\n"
      ],
      "metadata": {
        "colab": {
          "base_uri": "https://localhost:8080/"
        },
        "id": "Xah_dn8cWzSA",
        "outputId": "79d108a4-478b-44d8-90a3-61781458b664"
      },
      "execution_count": null,
      "outputs": [
        {
          "output_type": "execute_result",
          "data": {
            "text/plain": [
              "tensor(7)"
            ]
          },
          "metadata": {},
          "execution_count": 2
        }
      ]
    },
    {
      "cell_type": "code",
      "source": [
        "#Attributes of scalar \n",
        "#it has no dimension \n",
        "scalar.ndim"
      ],
      "metadata": {
        "colab": {
          "base_uri": "https://localhost:8080/"
        },
        "id": "aB7BY1ZyXF2C",
        "outputId": "8e17bf9f-2f1e-46f6-d2dd-30e5422980d8"
      },
      "execution_count": null,
      "outputs": [
        {
          "output_type": "execute_result",
          "data": {
            "text/plain": [
              "0"
            ]
          },
          "metadata": {},
          "execution_count": 3
        }
      ]
    },
    {
      "cell_type": "code",
      "source": [
        "#tensor as python int\n",
        "scalar.item()"
      ],
      "metadata": {
        "colab": {
          "base_uri": "https://localhost:8080/"
        },
        "id": "psUk-ZRoYLEa",
        "outputId": "e2e74ec3-69d2-44ca-9fdc-8b2b7e2e06ba"
      },
      "execution_count": null,
      "outputs": [
        {
          "output_type": "execute_result",
          "data": {
            "text/plain": [
              "7"
            ]
          },
          "metadata": {},
          "execution_count": 6
        }
      ]
    },
    {
      "cell_type": "code",
      "source": [
        "#vector \n",
        "vector = torch.tensor([12, 22])\n",
        "vector"
      ],
      "metadata": {
        "colab": {
          "base_uri": "https://localhost:8080/"
        },
        "id": "W2puoms_YZH7",
        "outputId": "acebc024-485f-47c6-a398-db89b5d03e22"
      },
      "execution_count": null,
      "outputs": [
        {
          "output_type": "execute_result",
          "data": {
            "text/plain": [
              "tensor([12, 22])"
            ]
          },
          "metadata": {},
          "execution_count": 8
        }
      ]
    },
    {
      "cell_type": "code",
      "source": [
        "#how many dimensions a vectir has \n",
        "vector.ndim"
      ],
      "metadata": {
        "colab": {
          "base_uri": "https://localhost:8080/"
        },
        "id": "x-FjFV2gYrdm",
        "outputId": "beacebc4-9de1-4494-83fc-5547815650dc"
      },
      "execution_count": null,
      "outputs": [
        {
          "output_type": "execute_result",
          "data": {
            "text/plain": [
              "1"
            ]
          },
          "metadata": {},
          "execution_count": 9
        }
      ]
    },
    {
      "cell_type": "code",
      "source": [
        "#shape of the vector\n",
        "vector.shape"
      ],
      "metadata": {
        "colab": {
          "base_uri": "https://localhost:8080/"
        },
        "id": "Dw_JXHPjY1jK",
        "outputId": "edfe0237-0b97-49e2-e499-83a65d0cfcd4"
      },
      "execution_count": null,
      "outputs": [
        {
          "output_type": "execute_result",
          "data": {
            "text/plain": [
              "torch.Size([2])"
            ]
          },
          "metadata": {},
          "execution_count": 10
        }
      ]
    },
    {
      "cell_type": "code",
      "source": [
        "#create a matrix\n",
        "MATRIX = torch.tensor([[12, 22, 33], [12, 33, 45]])\n",
        "MATRIX"
      ],
      "metadata": {
        "colab": {
          "base_uri": "https://localhost:8080/"
        },
        "id": "3BQUUT8_ZCHb",
        "outputId": "b82755b0-1139-4e14-fb5b-45b145a9c975"
      },
      "execution_count": null,
      "outputs": [
        {
          "output_type": "execute_result",
          "data": {
            "text/plain": [
              "tensor([[12, 22, 33],\n",
              "        [12, 33, 45]])"
            ]
          },
          "metadata": {},
          "execution_count": 11
        }
      ]
    },
    {
      "cell_type": "code",
      "source": [
        "#number of dimension of matrix \n",
        "MATRIX.ndim\n"
      ],
      "metadata": {
        "colab": {
          "base_uri": "https://localhost:8080/"
        },
        "id": "Utkz84aEZYYY",
        "outputId": "26954b8d-3556-486c-9a70-12cf8c159064"
      },
      "execution_count": null,
      "outputs": [
        {
          "output_type": "execute_result",
          "data": {
            "text/plain": [
              "2"
            ]
          },
          "metadata": {},
          "execution_count": 13
        }
      ]
    },
    {
      "cell_type": "code",
      "source": [
        "#Let's gets matrix shape\n",
        "MATRIX.shape"
      ],
      "metadata": {
        "colab": {
          "base_uri": "https://localhost:8080/"
        },
        "id": "Hd3inOu6ZcLv",
        "outputId": "75ea5601-4485-4d6a-c156-57cb23f9315c"
      },
      "execution_count": null,
      "outputs": [
        {
          "output_type": "execute_result",
          "data": {
            "text/plain": [
              "torch.Size([2, 3])"
            ]
          },
          "metadata": {},
          "execution_count": 14
        }
      ]
    },
    {
      "cell_type": "code",
      "source": [
        "#TENSOR\n",
        "TENSOR = torch.tensor([[[1, 2, 3, 4],\n",
        "                        [2, 3, 4, 5],\n",
        "                        [44, 3, 4, 5]]])\n",
        "TENSOR"
      ],
      "metadata": {
        "colab": {
          "base_uri": "https://localhost:8080/"
        },
        "id": "Rdml7D4VZn7i",
        "outputId": "25450a15-9c40-491a-86e6-f4870a0ebce7"
      },
      "execution_count": null,
      "outputs": [
        {
          "output_type": "execute_result",
          "data": {
            "text/plain": [
              "tensor([[[ 1,  2,  3,  4],\n",
              "         [ 2,  3,  4,  5],\n",
              "         [44,  3,  4,  5]]])"
            ]
          },
          "metadata": {},
          "execution_count": 16
        }
      ]
    },
    {
      "cell_type": "code",
      "source": [
        "#Get the dimension of tensor \n",
        "TENSOR.ndim"
      ],
      "metadata": {
        "colab": {
          "base_uri": "https://localhost:8080/"
        },
        "id": "7YZokvFiaOw8",
        "outputId": "940e2c91-f935-4f14-c3ce-8c5ed024f8a8"
      },
      "execution_count": null,
      "outputs": [
        {
          "output_type": "execute_result",
          "data": {
            "text/plain": [
              "3"
            ]
          },
          "metadata": {},
          "execution_count": 20
        }
      ]
    },
    {
      "cell_type": "code",
      "source": [
        "#Number of tensor its return\n",
        "TENSOR.shape[2]"
      ],
      "metadata": {
        "colab": {
          "base_uri": "https://localhost:8080/"
        },
        "id": "CkMWnVu0aY65",
        "outputId": "f3758738-bef7-4334-9efc-994e2e107a6e"
      },
      "execution_count": null,
      "outputs": [
        {
          "output_type": "execute_result",
          "data": {
            "text/plain": [
              "4"
            ]
          },
          "metadata": {},
          "execution_count": 26
        }
      ]
    },
    {
      "cell_type": "code",
      "source": [
        "MUSIC = torch.tensor([[[[12, 22, 33, 4],\n",
        "                        [23, 22, 33, 44],\n",
        "                        [23, 44, 55, 44]]]])\n",
        "MUSIC"
      ],
      "metadata": {
        "colab": {
          "base_uri": "https://localhost:8080/"
        },
        "id": "l-WwFEXXacxJ",
        "outputId": "27a2a0de-960a-4b03-e36c-f646db824a34"
      },
      "execution_count": null,
      "outputs": [
        {
          "output_type": "execute_result",
          "data": {
            "text/plain": [
              "tensor([[[[12, 22, 33,  4],\n",
              "          [23, 22, 33, 44],\n",
              "          [23, 44, 55, 44]]]])"
            ]
          },
          "metadata": {},
          "execution_count": 28
        }
      ]
    },
    {
      "cell_type": "code",
      "source": [
        "#number of dimension of MUSIC\n",
        "MUSIC.ndim"
      ],
      "metadata": {
        "colab": {
          "base_uri": "https://localhost:8080/"
        },
        "id": "wezl6NkWcDbq",
        "outputId": "48df30c9-eff3-45a0-ac10-5315266a27a8"
      },
      "execution_count": null,
      "outputs": [
        {
          "output_type": "execute_result",
          "data": {
            "text/plain": [
              "4"
            ]
          },
          "metadata": {},
          "execution_count": 30
        }
      ]
    },
    {
      "cell_type": "code",
      "source": [
        "MUSIC.shape"
      ],
      "metadata": {
        "colab": {
          "base_uri": "https://localhost:8080/"
        },
        "id": "2zqSpA9hcOd2",
        "outputId": "030154f7-7dde-4f5e-f855-0b22d63fa76f"
      },
      "execution_count": null,
      "outputs": [
        {
          "output_type": "execute_result",
          "data": {
            "text/plain": [
              "torch.Size([1, 1, 3, 4])"
            ]
          },
          "metadata": {},
          "execution_count": 33
        }
      ]
    },
    {
      "cell_type": "code",
      "source": [
        "VISION = torch.tensor([[[[12, 22, 33, 4],\n",
        "                        [23, 22, 33, 44],\n",
        "                        [23, 44, 55, 44]]],\n",
        "                       [[[20, 22, 33, 4],\n",
        "                        [23, 30, 33, 44],\n",
        "                        [23, 44, 50, 44]]]])\n",
        "VISION"
      ],
      "metadata": {
        "colab": {
          "base_uri": "https://localhost:8080/"
        },
        "id": "dzBVIzhlcYhN",
        "outputId": "40f14131-2956-45f0-9822-aaae0feec374"
      },
      "execution_count": null,
      "outputs": [
        {
          "output_type": "execute_result",
          "data": {
            "text/plain": [
              "tensor([[[[12, 22, 33,  4],\n",
              "          [23, 22, 33, 44],\n",
              "          [23, 44, 55, 44]]],\n",
              "\n",
              "\n",
              "        [[[20, 22, 33,  4],\n",
              "          [23, 30, 33, 44],\n",
              "          [23, 44, 50, 44]]]])"
            ]
          },
          "metadata": {},
          "execution_count": 36
        }
      ]
    },
    {
      "cell_type": "code",
      "source": [
        "VISION.ndim"
      ],
      "metadata": {
        "colab": {
          "base_uri": "https://localhost:8080/"
        },
        "id": "DBf4jsczc6xj",
        "outputId": "5ef976fe-9406-4360-bfeb-59fbf5f84174"
      },
      "execution_count": null,
      "outputs": [
        {
          "output_type": "execute_result",
          "data": {
            "text/plain": [
              "4"
            ]
          },
          "metadata": {},
          "execution_count": 37
        }
      ]
    },
    {
      "cell_type": "code",
      "source": [
        "VISION.shape"
      ],
      "metadata": {
        "colab": {
          "base_uri": "https://localhost:8080/"
        },
        "id": "T7sR_bV-dHjw",
        "outputId": "f534ca83-c6fb-49ab-89ea-d70b86dfc4a7"
      },
      "execution_count": null,
      "outputs": [
        {
          "output_type": "execute_result",
          "data": {
            "text/plain": [
              "torch.Size([2, 1, 3, 4])"
            ]
          },
          "metadata": {},
          "execution_count": 38
        }
      ]
    },
    {
      "cell_type": "markdown",
      "source": [
        "For Matrix and tensor, you have an upper case"
      ],
      "metadata": {
        "id": "MeB5tJEUdKee"
      }
    },
    {
      "cell_type": "markdown",
      "source": [
        "## Random Tensors\n",
        "\n",
        "Why random tensors?\n",
        "\n",
        "Random tensors are important because the way many neural network works is that they starts with tensors full of random numbers and then adjust those random numbers to better represent the data.\n",
        "\n",
        "`Start with random numbers -> look at data -. update random numbers -> look at data -> update random numbers`"
      ],
      "metadata": {
        "id": "Lx6pr07NfA-U"
      }
    },
    {
      "cell_type": "markdown",
      "source": [
        "To learn more about torch.rand, go to https://pytorch.org/docs/stable/generated/torch.rand.html"
      ],
      "metadata": {
        "id": "XGX_5LL6haC-"
      }
    },
    {
      "cell_type": "code",
      "source": [
        "#create a random tensors with Pytorch of shae (3, 4)\n",
        "random_tensor = torch.rand(3, 4)\n",
        "random_tensor"
      ],
      "metadata": {
        "colab": {
          "base_uri": "https://localhost:8080/"
        },
        "id": "8BgPzaZsfM-X",
        "outputId": "4fa402f4-6cae-48f8-d6db-1848cb03c650"
      },
      "execution_count": null,
      "outputs": [
        {
          "output_type": "execute_result",
          "data": {
            "text/plain": [
              "tensor([[0.7576, 0.6748, 0.9498, 0.0239],\n",
              "        [0.4532, 0.1975, 0.0019, 0.9408],\n",
              "        [0.5241, 0.5041, 0.0855, 0.7181]])"
            ]
          },
          "metadata": {},
          "execution_count": 58
        }
      ]
    },
    {
      "cell_type": "code",
      "source": [
        "random_tensor.ndim, random_tensor.shape"
      ],
      "metadata": {
        "colab": {
          "base_uri": "https://localhost:8080/"
        },
        "id": "to6ZGX4yg2tm",
        "outputId": "709e15b9-487a-413a-f92f-93f5bb4b48fb"
      },
      "execution_count": null,
      "outputs": [
        {
          "output_type": "execute_result",
          "data": {
            "text/plain": [
              "(2, torch.Size([3, 4]))"
            ]
          },
          "metadata": {},
          "execution_count": 59
        }
      ]
    },
    {
      "cell_type": "code",
      "source": [
        "#create a random tensor to similar shape to an image tensor \n",
        "random_image_size_tensor = torch.rand(size=(224, 224, 3)) #height, width,colour channels\n",
        "random_image_size_tensor.shape, random_image_size_tensor.ndim"
      ],
      "metadata": {
        "colab": {
          "base_uri": "https://localhost:8080/"
        },
        "id": "gswcfgW7h3NZ",
        "outputId": "5e7d4e83-4764-4d85-b3fe-48736d15d214"
      },
      "execution_count": null,
      "outputs": [
        {
          "output_type": "execute_result",
          "data": {
            "text/plain": [
              "(torch.Size([224, 224, 3]), 3)"
            ]
          },
          "metadata": {},
          "execution_count": 53
        }
      ]
    },
    {
      "cell_type": "markdown",
      "source": [
        "## Zeros and Ones\n",
        "\n",
        "\n",
        "You create random tensors of all zeros when you want to mask out a tensor we can multiply the target tensor by zeros or you want to mask out a particular column in a tensor, you can create zero tensor for that particular column.\n",
        "\n",
        "For adequate understanding of zeros and ones tensors, checkout the following links:\n",
        "\n",
        "zero tensors: https://pytorch.org/docs/stable/generated/torch.zeros.html\n",
        "\n",
        "Ones tensors: https://pytorch.org/docs/stable/generated/torch.ones.html"
      ],
      "metadata": {
        "id": "IWFVIk5Vk7GB"
      }
    },
    {
      "cell_type": "code",
      "source": [
        "# Create a tensors of all zeros \n",
        "#This is useful when creating a mask\n",
        "zero = torch.zeros(size = (3, 4))\n",
        "zero"
      ],
      "metadata": {
        "colab": {
          "base_uri": "https://localhost:8080/"
        },
        "id": "c2_4MF13istS",
        "outputId": "ecf61854-383a-49b4-9f88-a61aa513e8f7"
      },
      "execution_count": null,
      "outputs": [
        {
          "output_type": "execute_result",
          "data": {
            "text/plain": [
              "tensor([[0., 0., 0., 0.],\n",
              "        [0., 0., 0., 0.],\n",
              "        [0., 0., 0., 0.]])"
            ]
          },
          "metadata": {},
          "execution_count": 62
        }
      ]
    },
    {
      "cell_type": "code",
      "source": [
        "zero*random_tensor"
      ],
      "metadata": {
        "colab": {
          "base_uri": "https://localhost:8080/"
        },
        "id": "CLFTqkDylXak",
        "outputId": "837e2e4e-2613-45aa-af69-417d88b63d36"
      },
      "execution_count": null,
      "outputs": [
        {
          "output_type": "execute_result",
          "data": {
            "text/plain": [
              "tensor([[0., 0., 0., 0.],\n",
              "        [0., 0., 0., 0.],\n",
              "        [0., 0., 0., 0.]])"
            ]
          },
          "metadata": {},
          "execution_count": 63
        }
      ]
    },
    {
      "cell_type": "code",
      "source": [
        "#Create a tensor of all ones\n",
        "ones = torch.ones(size=(3, 4))\n",
        "ones"
      ],
      "metadata": {
        "colab": {
          "base_uri": "https://localhost:8080/"
        },
        "id": "mYQZEiOTlr7y",
        "outputId": "634677c3-481a-4809-fbba-57f3c42d9277"
      },
      "execution_count": null,
      "outputs": [
        {
          "output_type": "execute_result",
          "data": {
            "text/plain": [
              "tensor([[1., 1., 1., 1.],\n",
              "        [1., 1., 1., 1.],\n",
              "        [1., 1., 1., 1.]])"
            ]
          },
          "metadata": {},
          "execution_count": 67
        }
      ]
    },
    {
      "cell_type": "code",
      "source": [
        "ones.dtype"
      ],
      "metadata": {
        "colab": {
          "base_uri": "https://localhost:8080/"
        },
        "id": "xPXEOtLTmzpc",
        "outputId": "23805fa2-4cf4-4314-8fba-41b2107bbddf"
      },
      "execution_count": null,
      "outputs": [
        {
          "output_type": "execute_result",
          "data": {
            "text/plain": [
              "torch.float32"
            ]
          },
          "metadata": {},
          "execution_count": 68
        }
      ]
    },
    {
      "cell_type": "markdown",
      "source": [
        "## Creating a range of tensors and tensors like \n",
        "\n",
        "For a doumentation on torch.arange, visit this link: https://pytorch.org/docs/stable/generated/torch.arange.html"
      ],
      "metadata": {
        "id": "pQEFZoWlnFRO"
      }
    },
    {
      "cell_type": "code",
      "source": [
        "#use torch.range()\n",
        "one_to_ten = torch.arange(start=1, end=11, step=1)\n",
        "one_to_ten"
      ],
      "metadata": {
        "colab": {
          "base_uri": "https://localhost:8080/"
        },
        "id": "Ut0lm5sxoXqB",
        "outputId": "138576ea-fc4d-4078-d7c1-80ecaa6c2c21"
      },
      "execution_count": null,
      "outputs": [
        {
          "output_type": "execute_result",
          "data": {
            "text/plain": [
              "tensor([ 1,  2,  3,  4,  5,  6,  7,  8,  9, 10])"
            ]
          },
          "metadata": {},
          "execution_count": 72
        }
      ]
    },
    {
      "cell_type": "code",
      "source": [
        "#tensor like. This helps to create a tensor that looks like the original\n",
        "ten_zeros = torch.zeros_like(input=one_to_ten)\n",
        "ten_zeros"
      ],
      "metadata": {
        "colab": {
          "base_uri": "https://localhost:8080/"
        },
        "id": "X8eDb-t8ozOJ",
        "outputId": "c6472258-fa92-4ed4-d76c-90c163e804ca"
      },
      "execution_count": null,
      "outputs": [
        {
          "output_type": "execute_result",
          "data": {
            "text/plain": [
              "tensor([0, 0, 0, 0, 0, 0, 0, 0, 0, 0])"
            ]
          },
          "metadata": {},
          "execution_count": 74
        }
      ]
    },
    {
      "cell_type": "code",
      "source": [
        "#use torch.range()\n",
        "one_to_20 = torch.arange(start=1, end = 21, step = 1)\n",
        "one_to_20"
      ],
      "metadata": {
        "colab": {
          "base_uri": "https://localhost:8080/"
        },
        "id": "an37FFJR3a4f",
        "outputId": "ec89530f-47ae-4f26-c3b4-e271f53d0870"
      },
      "execution_count": null,
      "outputs": [
        {
          "output_type": "execute_result",
          "data": {
            "text/plain": [
              "tensor([ 1,  2,  3,  4,  5,  6,  7,  8,  9, 10, 11, 12, 13, 14, 15, 16, 17, 18,\n",
              "        19, 20])"
            ]
          },
          "metadata": {},
          "execution_count": 75
        }
      ]
    },
    {
      "cell_type": "code",
      "source": [
        "#tensor like. This helps to create a tensor that looks like the original\n",
        "ten_zeros = torch.zeros_like(input=one_to_20)\n",
        "ten_zeros"
      ],
      "metadata": {
        "colab": {
          "base_uri": "https://localhost:8080/"
        },
        "id": "jFyu5r_V-U_k",
        "outputId": "b711ca39-0bd8-44e7-918c-cc82ab0ce820"
      },
      "execution_count": null,
      "outputs": [
        {
          "output_type": "execute_result",
          "data": {
            "text/plain": [
              "tensor([0, 0, 0, 0, 0, 0, 0, 0, 0, 0, 0, 0, 0, 0, 0, 0, 0, 0, 0, 0])"
            ]
          },
          "metadata": {},
          "execution_count": 77
        }
      ]
    },
    {
      "cell_type": "markdown",
      "source": [
        "## Tensor Datatypes\n",
        "\n",
        "The datatype represents how much details a single number is stored in memory.\n",
        "\n",
        "**Note:** Tensor datatype is one of the 3 big errors you will run into in Pytorch and in Deep learning:\n",
        "\n",
        "1. Tensors not right datatype\n",
        "2. Tensors not right shape\n",
        "3. Tensors not on the right device.\n",
        "\n",
        "Precision in computing: https://en.wikipedia.org/wiki/Precision_(computer_science)#:~:text=In%20computer%20science%2C%20the%20precision%20of%20a%20numerical,digits%20that%20are%20used%20to%20express%20a%20value."
      ],
      "metadata": {
        "id": "qpMN13js-dZ-"
      }
    },
    {
      "cell_type": "code",
      "source": [
        "float_32_tensor = torch.tensor([3.0, 6.0, 9.0],\n",
        "                               dtype=None, #what datatpe is \n",
        "                               device=None, #What device is your device on \n",
        "                               requires_grad=False #whether or not to track the\n",
        "                               )\n",
        "                               "
      ],
      "metadata": {
        "id": "0jHpZX4e-qL5"
      },
      "execution_count": null,
      "outputs": []
    },
    {
      "cell_type": "code",
      "source": [
        "float_32_tensor.dtype"
      ],
      "metadata": {
        "colab": {
          "base_uri": "https://localhost:8080/"
        },
        "id": "BhT-rdms-4HN",
        "outputId": "7d30760c-a524-4ac4-81f0-bf2398b01c76"
      },
      "execution_count": null,
      "outputs": [
        {
          "output_type": "execute_result",
          "data": {
            "text/plain": [
              "torch.float32"
            ]
          },
          "metadata": {},
          "execution_count": 104
        }
      ]
    },
    {
      "cell_type": "markdown",
      "source": [
        "## Mutiplying different datatypes"
      ],
      "metadata": {
        "id": "i88UCbx8_NbK"
      }
    },
    {
      "cell_type": "code",
      "source": [
        "int_32_tensor = torch.tensor([3, 6, 9], dtype=torch.int64)"
      ],
      "metadata": {
        "id": "Qgo7xD_JGTe7"
      },
      "execution_count": null,
      "outputs": []
    },
    {
      "cell_type": "code",
      "source": [
        "float_32_tensor*int_32_tensor"
      ],
      "metadata": {
        "colab": {
          "base_uri": "https://localhost:8080/"
        },
        "id": "Pl9dLu1rGhZ6",
        "outputId": "31e1f18e-f0e7-48ac-9bfb-f7e44ea3c16e"
      },
      "execution_count": null,
      "outputs": [
        {
          "output_type": "execute_result",
          "data": {
            "text/plain": [
              "tensor([ 9., 36., 81.])"
            ]
          },
          "metadata": {},
          "execution_count": 106
        }
      ]
    },
    {
      "cell_type": "markdown",
      "source": [
        "## Getting Information from tensors:\n",
        "\n",
        "1. Tensors not right datatype - to get datatype from a tensor, use tensor.dtype\n",
        "2. Tensors not right shape - to get shape from a tensor, can use tensor.shape\n",
        "3. Tensors not on the right device. - to get device from a tensor, use tensor.device "
      ],
      "metadata": {
        "id": "e-hasOJQGlkm"
      }
    },
    {
      "cell_type": "code",
      "source": [
        "#Create a tensor \n",
        "some_tensor = torch.rand(3, 4)\n",
        "some_tensor"
      ],
      "metadata": {
        "colab": {
          "base_uri": "https://localhost:8080/"
        },
        "id": "6lCKfQb4IJ6O",
        "outputId": "ec474f91-b35e-4d1f-bacb-e21b221ea980"
      },
      "execution_count": null,
      "outputs": [
        {
          "output_type": "execute_result",
          "data": {
            "text/plain": [
              "tensor([[0.4388, 0.2399, 0.8877, 0.3187],\n",
              "        [0.5221, 0.4154, 0.1345, 0.8345],\n",
              "        [0.1385, 0.4941, 0.4837, 0.0265]])"
            ]
          },
          "metadata": {},
          "execution_count": 110
        }
      ]
    },
    {
      "cell_type": "code",
      "source": [
        "#find out details about some tensor \n",
        "print(some_tensor)\n",
        "print(f\"Datatype of tensor: {some_tensor.dtype}\")\n",
        "print(f\"shape of tensor: {some_tensor.shape}\")\n",
        "print(f\"Datatype of tensor: {some_tensor.device}\")"
      ],
      "metadata": {
        "colab": {
          "base_uri": "https://localhost:8080/"
        },
        "id": "yzGhyhNHIhLN",
        "outputId": "e1af52a6-3450-40d2-b267-f2ad4e74ff1c"
      },
      "execution_count": null,
      "outputs": [
        {
          "output_type": "stream",
          "name": "stdout",
          "text": [
            "tensor([[0.4388, 0.2399, 0.8877, 0.3187],\n",
            "        [0.5221, 0.4154, 0.1345, 0.8345],\n",
            "        [0.1385, 0.4941, 0.4837, 0.0265]])\n",
            "Datatype of tensor: torch.float32\n",
            "shape of tensor: torch.Size([3, 4])\n",
            "Datatype of tensor: cpu\n"
          ]
        }
      ]
    },
    {
      "cell_type": "markdown",
      "source": [
        "## Manipulating Tensors\n",
        "\n",
        "Tensor operations include:\n",
        "\n",
        "* Addition \n",
        "* Substraction\n",
        "* Multiplication (element-wise)\n",
        "* Division\n",
        "* Matrix multiplication\n",
        "\n",
        "To find patterns in the dataset, a neural network will combine one or combination of these operations in any shapes or forms."
      ],
      "metadata": {
        "id": "717ROUR4JjUS"
      }
    },
    {
      "cell_type": "code",
      "source": [
        "#Create a tensor add 100 to it\n",
        "tensor = torch.tensor([1, 2, 3, 4])\n",
        "tensor + 100"
      ],
      "metadata": {
        "colab": {
          "base_uri": "https://localhost:8080/"
        },
        "id": "ZHd8gT5ELCkp",
        "outputId": "2360e32e-3a54-469e-9f20-870d91a7beb4"
      },
      "execution_count": null,
      "outputs": [
        {
          "output_type": "execute_result",
          "data": {
            "text/plain": [
              "tensor([101, 102, 103, 104])"
            ]
          },
          "metadata": {},
          "execution_count": 116
        }
      ]
    },
    {
      "cell_type": "code",
      "source": [
        "#multiply tensor by 10\n",
        "tensor * 10"
      ],
      "metadata": {
        "colab": {
          "base_uri": "https://localhost:8080/"
        },
        "id": "bR4vm9N_MfJz",
        "outputId": "39f7c3cf-f7bf-4ee5-8ab2-b6f342852515"
      },
      "execution_count": null,
      "outputs": [
        {
          "output_type": "execute_result",
          "data": {
            "text/plain": [
              "tensor([10, 20, 30, 40])"
            ]
          },
          "metadata": {},
          "execution_count": 117
        }
      ]
    },
    {
      "cell_type": "code",
      "source": [
        "#substract 10 from tensor \n",
        "tensor - 10"
      ],
      "metadata": {
        "colab": {
          "base_uri": "https://localhost:8080/"
        },
        "id": "OOAlpwOeMnuz",
        "outputId": "6e4674fd-81c2-47d5-8360-1476009d11de"
      },
      "execution_count": null,
      "outputs": [
        {
          "output_type": "execute_result",
          "data": {
            "text/plain": [
              "tensor([-9, -8, -7, -6])"
            ]
          },
          "metadata": {},
          "execution_count": 118
        }
      ]
    },
    {
      "cell_type": "code",
      "source": [
        "#try out pytorch in-built tensor \n",
        "torch.mul(tensor, 10)"
      ],
      "metadata": {
        "colab": {
          "base_uri": "https://localhost:8080/"
        },
        "id": "MxnsP251M1Bu",
        "outputId": "c6ae6bb2-ab6b-4774-c01d-d539d813bd6c"
      },
      "execution_count": null,
      "outputs": [
        {
          "output_type": "execute_result",
          "data": {
            "text/plain": [
              "tensor([10, 20, 30, 40])"
            ]
          },
          "metadata": {},
          "execution_count": 119
        }
      ]
    },
    {
      "cell_type": "code",
      "source": [
        "torch.add(tensor, 10)"
      ],
      "metadata": {
        "colab": {
          "base_uri": "https://localhost:8080/"
        },
        "id": "IkgtRbByNEZO",
        "outputId": "b454f7f8-44a7-4b94-d7c9-456ea728b654"
      },
      "execution_count": null,
      "outputs": [
        {
          "output_type": "execute_result",
          "data": {
            "text/plain": [
              "tensor([11, 12, 13, 14])"
            ]
          },
          "metadata": {},
          "execution_count": 120
        }
      ]
    },
    {
      "cell_type": "markdown",
      "source": [
        "## MAtrix Multiplication\n",
        "\n",
        "Two main ways of performing multiplication in neural networks and deep learning \n",
        "\n",
        "1. Element-wise multiplication \n",
        "2. Matrix multiplication (dot product)\n",
        "\n",
        "There are two main rules that performing matrix multiplication needs to satisfy:\n",
        "1. The inner dimension must match: \n",
        "\n",
        "* (3, 2) @ (3, 2) won't work\n",
        "* (2, 3) @ (3, 4) works\n",
        "* (3, 3) @ (3, 4) works\n",
        "\n",
        "The resulting matrix has the shape of the **outer dimensions:**\n",
        "\n",
        "* (2, 3) @ (3, 4) -> (2, 2)\n",
        "* (3, 2) @ (2, 3) -> (3, 3)"
      ],
      "metadata": {
        "id": "pZM18z4YNMFO"
      }
    },
    {
      "cell_type": "code",
      "source": [
        "#Element wise multiplication\n",
        "print(tensor, \"*\", tensor)\n",
        "print(f\"Equals: {tensor*tensor}\")"
      ],
      "metadata": {
        "colab": {
          "base_uri": "https://localhost:8080/"
        },
        "id": "tOuJN6VWNdau",
        "outputId": "cc2a329d-760a-4fec-9c43-02c3a160f8e5"
      },
      "execution_count": null,
      "outputs": [
        {
          "output_type": "stream",
          "name": "stdout",
          "text": [
            "tensor([1, 2, 3, 4]) * tensor([1, 2, 3, 4])\n",
            "Equals: tensor([ 1,  4,  9, 16])\n"
          ]
        }
      ]
    },
    {
      "cell_type": "code",
      "source": [
        "# matrix store the result of multiplication in torch.matmul\n",
        "torch.matmul(tensor, tensor)"
      ],
      "metadata": {
        "colab": {
          "base_uri": "https://localhost:8080/"
        },
        "id": "c31aP6_UO7pC",
        "outputId": "69b4e38f-c85f-458d-be18-8748290229fe"
      },
      "execution_count": null,
      "outputs": [
        {
          "output_type": "execute_result",
          "data": {
            "text/plain": [
              "tensor(30)"
            ]
          },
          "metadata": {},
          "execution_count": 130
        }
      ]
    },
    {
      "cell_type": "code",
      "source": [
        "%%time\n",
        "value = 0\n",
        "for i in range(len(tensor)):\n",
        "  value += tensor[i] * tensor[i]\n",
        "value"
      ],
      "metadata": {
        "colab": {
          "base_uri": "https://localhost:8080/"
        },
        "id": "5mSHZZwZPQWh",
        "outputId": "a474865e-d85b-4892-bb5b-0a752d8231c8"
      },
      "execution_count": null,
      "outputs": [
        {
          "output_type": "stream",
          "name": "stdout",
          "text": [
            "CPU times: user 321 µs, sys: 33 µs, total: 354 µs\n",
            "Wall time: 362 µs\n"
          ]
        },
        {
          "output_type": "execute_result",
          "data": {
            "text/plain": [
              "tensor(30)"
            ]
          },
          "metadata": {},
          "execution_count": 131
        }
      ]
    },
    {
      "cell_type": "markdown",
      "source": [
        "## one of the most common error in deep learning: shape errors\n",
        "\n"
      ],
      "metadata": {
        "id": "_0f7FOqKQa7-"
      }
    },
    {
      "cell_type": "code",
      "source": [
        "torch.matmul(torch.rand(10, 3), torch.rand(3, 10))"
      ],
      "metadata": {
        "colab": {
          "base_uri": "https://localhost:8080/"
        },
        "id": "0djnMJ34ScWR",
        "outputId": "47ec6cac-8c3f-4206-9880-01d46d3d4946"
      },
      "execution_count": null,
      "outputs": [
        {
          "output_type": "execute_result",
          "data": {
            "text/plain": [
              "tensor([[0.5925, 0.4792, 0.2585, 0.8032, 0.7649, 0.2651, 0.1926, 0.4620, 0.2936,\n",
              "         0.3047],\n",
              "        [0.6770, 0.8038, 0.6305, 0.9414, 0.8570, 0.1360, 0.2847, 0.5649, 0.3695,\n",
              "         0.7207],\n",
              "        [0.6425, 0.5409, 0.1574, 0.7612, 0.6994, 0.2169, 0.2403, 0.4233, 0.2138,\n",
              "         0.2348],\n",
              "        [0.8304, 0.9328, 0.5938, 1.0681, 0.9606, 0.1600, 0.3549, 0.6262, 0.3677,\n",
              "         0.7144],\n",
              "        [0.7786, 0.7790, 0.6469, 1.1523, 1.0908, 0.2932, 0.2714, 0.6886, 0.4853,\n",
              "         0.7114],\n",
              "        [1.3445, 1.2258, 0.8907, 1.9265, 1.8315, 0.5576, 0.4506, 1.1341, 0.7721,\n",
              "         0.9960],\n",
              "        [1.2211, 0.9039, 0.3387, 1.5847, 1.5096, 0.5688, 0.3905, 0.8945, 0.5334,\n",
              "         0.4353],\n",
              "        [1.4035, 1.2843, 0.9234, 2.0023, 1.9009, 0.5743, 0.4738, 1.1778, 0.7977,\n",
              "         1.0360],\n",
              "        [0.3604, 0.5332, 0.8900, 0.8200, 0.8051, 0.1606, 0.1059, 0.5391, 0.5077,\n",
              "         0.8865],\n",
              "        [0.9270, 0.6979, 0.5306, 1.3958, 1.3659, 0.5215, 0.2546, 0.8192, 0.5906,\n",
              "         0.5642]])"
            ]
          },
          "metadata": {},
          "execution_count": 133
        }
      ]
    },
    {
      "cell_type": "code",
      "source": [
        "# shapes for matrix multiplication\n",
        "tensor_A =  torch.tensor([[1, 2],\n",
        "                          [3, 4],\n",
        "                          [5, 6]])\n",
        "\n",
        "tensor_B = torch.tensor([[7, 16],\n",
        "                         [8, 11],\n",
        "                         [9, 12]])"
      ],
      "metadata": {
        "id": "NxkRB8SXVnZC"
      },
      "execution_count": null,
      "outputs": []
    },
    {
      "cell_type": "code",
      "source": [
        "#perform a transpose on tensor B\n",
        "torch.mm(tensor_A, tensor_B.T)"
      ],
      "metadata": {
        "colab": {
          "base_uri": "https://localhost:8080/"
        },
        "id": "HEaJvWpLW7ny",
        "outputId": "3b14e5c9-9d4c-449c-d509-df36086b5762"
      },
      "execution_count": null,
      "outputs": [
        {
          "output_type": "execute_result",
          "data": {
            "text/plain": [
              "tensor([[ 39,  30,  33],\n",
              "        [ 85,  68,  75],\n",
              "        [131, 106, 117]])"
            ]
          },
          "metadata": {},
          "execution_count": 138
        }
      ]
    },
    {
      "cell_type": "markdown",
      "source": [
        "To fix our tensor shape issues, we can manipilate the shape of one of our tensors using a transpose ."
      ],
      "metadata": {
        "id": "SYqpZK69XMpz"
      }
    },
    {
      "cell_type": "code",
      "source": [
        "#Matrix operation works when tensor B is transpose \n",
        "print(f\"Original shapes: tensor_A = {tensor_A.shape}, tensor_B = {tensor_B.shape}\")\n",
        "print(f\"New shapes: tensor_A = {tensor_A.shape}, tensor_B = {tensor_B.T.shape}\")\n",
        "print(f\"Multiplying: {tensor_A.shape} @ {tensor_B.T.shape} <- inner dimensions must match\")\n",
        "print(\"output:\\n\")\n",
        "output = torch.matmul(tensor_A, tensor_B.T)\n",
        "print(output)\n",
        "print(f\"\\nOutput shape: {output.shape}\")"
      ],
      "metadata": {
        "colab": {
          "base_uri": "https://localhost:8080/"
        },
        "id": "9SecSTvvX0nz",
        "outputId": "c93a96b3-506a-466f-fc92-30f06ab3c9c7"
      },
      "execution_count": null,
      "outputs": [
        {
          "output_type": "stream",
          "name": "stdout",
          "text": [
            "Original shapes: tensor_A = torch.Size([3, 2]), tensor_B = torch.Size([3, 2])\n",
            "New shapes: tensor_A = torch.Size([3, 2]), tensor_B = torch.Size([2, 3])\n",
            "Multiplying: torch.Size([3, 2]) @ torch.Size([2, 3]) <- inner dimensions must match\n",
            "output:\n",
            "\n",
            "tensor([[ 39,  30,  33],\n",
            "        [ 85,  68,  75],\n",
            "        [131, 106, 117]])\n",
            "\n",
            "Output shape: torch.Size([3, 3])\n"
          ]
        }
      ]
    },
    {
      "cell_type": "markdown",
      "source": [
        "## Finding the min, max, mean, sum, etc(tensor aggregation)"
      ],
      "metadata": {
        "id": "2bJkwnmhcRHN"
      }
    },
    {
      "cell_type": "code",
      "source": [
        "x = torch.arange(0, 100, 10)\n",
        "x"
      ],
      "metadata": {
        "colab": {
          "base_uri": "https://localhost:8080/"
        },
        "id": "xQeQlbyKZX5j",
        "outputId": "edd44a0a-9517-4112-e850-30f17a93bbab"
      },
      "execution_count": null,
      "outputs": [
        {
          "output_type": "execute_result",
          "data": {
            "text/plain": [
              "tensor([ 0, 10, 20, 30, 40, 50, 60, 70, 80, 90])"
            ]
          },
          "metadata": {},
          "execution_count": 4
        }
      ]
    },
    {
      "cell_type": "code",
      "source": [
        "# Find the min\n",
        "torch.min(x), x.min()"
      ],
      "metadata": {
        "colab": {
          "base_uri": "https://localhost:8080/"
        },
        "id": "W0BFjDEFSU51",
        "outputId": "8ea0f70c-e85d-46be-8a04-f246df128880"
      },
      "execution_count": null,
      "outputs": [
        {
          "output_type": "execute_result",
          "data": {
            "text/plain": [
              "(tensor(0), tensor(0))"
            ]
          },
          "metadata": {},
          "execution_count": 5
        }
      ]
    },
    {
      "cell_type": "code",
      "source": [
        "torch.max(x)"
      ],
      "metadata": {
        "colab": {
          "base_uri": "https://localhost:8080/"
        },
        "id": "gJY3KUV-SkP7",
        "outputId": "cdaef2da-e0b5-4c65-dd51-b56538c55f0c"
      },
      "execution_count": null,
      "outputs": [
        {
          "output_type": "execute_result",
          "data": {
            "text/plain": [
              "tensor(90)"
            ]
          },
          "metadata": {},
          "execution_count": 6
        }
      ]
    },
    {
      "cell_type": "code",
      "source": [
        "# find the mean - notes the torch.mean() function requires a tensor of float32 datatype to work.\n",
        "\n",
        "torch.mean(x.type(torch.float32)), x.type(torch.float32).mean()\n"
      ],
      "metadata": {
        "colab": {
          "base_uri": "https://localhost:8080/"
        },
        "id": "PqOIhqvUSqUv",
        "outputId": "1e83d3b6-8aea-4fa2-cc1d-b56f03af8430"
      },
      "execution_count": null,
      "outputs": [
        {
          "output_type": "execute_result",
          "data": {
            "text/plain": [
              "(tensor(45.), tensor(45.))"
            ]
          },
          "metadata": {},
          "execution_count": 8
        }
      ]
    },
    {
      "cell_type": "code",
      "source": [
        "torch.sum(x), x.sum()"
      ],
      "metadata": {
        "colab": {
          "base_uri": "https://localhost:8080/"
        },
        "id": "Yr6B4-qnTqgt",
        "outputId": "27f4c06a-576f-4f91-bd37-680f6dd48a3b"
      },
      "execution_count": null,
      "outputs": [
        {
          "output_type": "execute_result",
          "data": {
            "text/plain": [
              "(tensor(450), tensor(450))"
            ]
          },
          "metadata": {},
          "execution_count": 10
        }
      ]
    },
    {
      "cell_type": "markdown",
      "source": [
        "## Finding the Positional Min and max\n"
      ],
      "metadata": {
        "id": "zZH1ypOfUWVZ"
      }
    },
    {
      "cell_type": "code",
      "source": [
        "#Find the position in tensor that has a minimum value with argmin-> returns index position of target where the minimum value occurs.\n",
        "x.argmin()"
      ],
      "metadata": {
        "colab": {
          "base_uri": "https://localhost:8080/"
        },
        "id": "9tQ0wO2pUupA",
        "outputId": "2600f4be-1af4-4db7-bdcc-f0402282c399"
      },
      "execution_count": null,
      "outputs": [
        {
          "output_type": "execute_result",
          "data": {
            "text/plain": [
              "tensor(0)"
            ]
          },
          "metadata": {},
          "execution_count": 11
        }
      ]
    },
    {
      "cell_type": "markdown",
      "source": [
        "## Reshaping, stacking, squeezing and unsqueezing tensors\n",
        "\n",
        "* Reshaping - stacking, squeezing and unsqueezing tensors\n",
        "* View - Return a veiw of an input tensor of certain shape but keep the same memory\n",
        "* Stacking - combine multiple tensors on top of each other (vstack) or side by side.\n",
        "\n",
        "* Squeeze - remove all '1' dimension from a tensor\n",
        "\n",
        "* Unsqueeze - add a '1' dimension to a target tensor.\n",
        "\n",
        "* Permute - Return a view of the input with the dimensions permuted (swapped) in a certain way."
      ],
      "metadata": {
        "id": "ah9MlQ2OVi9s"
      }
    },
    {
      "cell_type": "code",
      "source": [
        "# Let's create a tensor \n",
        "import torch\n",
        "x = torch.arange(1., 10.)\n",
        "x, x.shape"
      ],
      "metadata": {
        "colab": {
          "base_uri": "https://localhost:8080/"
        },
        "id": "uxK67VxOWy_q",
        "outputId": "308fbd60-2dc5-4040-b702-11799008edc5"
      },
      "execution_count": null,
      "outputs": [
        {
          "output_type": "execute_result",
          "data": {
            "text/plain": [
              "(tensor([1., 2., 3., 4., 5., 6., 7., 8., 9.]), torch.Size([9]))"
            ]
          },
          "metadata": {},
          "execution_count": 14
        }
      ]
    },
    {
      "cell_type": "code",
      "source": [
        "#Add an extra dimension\n",
        "x_reshaped = x.reshape(1, 9)\n",
        "x_reshaped, x_reshaped.shape"
      ],
      "metadata": {
        "colab": {
          "base_uri": "https://localhost:8080/"
        },
        "id": "vkKUm8Ldac02",
        "outputId": "ed9e9f4d-faec-4d39-c681-5c81661006c8"
      },
      "execution_count": null,
      "outputs": [
        {
          "output_type": "execute_result",
          "data": {
            "text/plain": [
              "(tensor([[1., 2., 3., 4., 5., 6., 7., 8., 9.]]), torch.Size([1, 9]))"
            ]
          },
          "metadata": {},
          "execution_count": 19
        }
      ]
    },
    {
      "cell_type": "code",
      "source": [
        "# change the view\n",
        "z = x.view(1, 9)\n",
        "z, z.shape"
      ],
      "metadata": {
        "colab": {
          "base_uri": "https://localhost:8080/"
        },
        "id": "WdnZU7d8a6IG",
        "outputId": "27053670-f8c2-425e-9f6a-c088f7e14b74"
      },
      "execution_count": null,
      "outputs": [
        {
          "output_type": "execute_result",
          "data": {
            "text/plain": [
              "(tensor([[1., 2., 3., 4., 5., 6., 7., 8., 9.]]), torch.Size([1, 9]))"
            ]
          },
          "metadata": {},
          "execution_count": 20
        }
      ]
    },
    {
      "cell_type": "code",
      "source": [
        "# Changing z changes x (because a view of a tensor the same )\n",
        "z[:, 0] = 5\n",
        "z, x"
      ],
      "metadata": {
        "colab": {
          "base_uri": "https://localhost:8080/"
        },
        "id": "gTUOsFi2bkBz",
        "outputId": "4fa80d36-5f43-4376-bb69-18e8ebb6351c"
      },
      "execution_count": null,
      "outputs": [
        {
          "output_type": "execute_result",
          "data": {
            "text/plain": [
              "(tensor([[5., 2., 3., 4., 5., 6., 7., 8., 9.]]),\n",
              " tensor([5., 2., 3., 4., 5., 6., 7., 8., 9.]))"
            ]
          },
          "metadata": {},
          "execution_count": 24
        }
      ]
    },
    {
      "cell_type": "code",
      "source": [
        "# stack tensors on top of each other \n",
        "x_stacked = torch.stack([x, x, x, x], dim=1)\n",
        "x_stacked"
      ],
      "metadata": {
        "colab": {
          "base_uri": "https://localhost:8080/"
        },
        "id": "crakoNhjdQqS",
        "outputId": "579aebd8-a308-4e8b-b8e1-cb4b0dc51e00"
      },
      "execution_count": null,
      "outputs": [
        {
          "output_type": "execute_result",
          "data": {
            "text/plain": [
              "tensor([[5., 5., 5., 5.],\n",
              "        [2., 2., 2., 2.],\n",
              "        [3., 3., 3., 3.],\n",
              "        [4., 4., 4., 4.],\n",
              "        [5., 5., 5., 5.],\n",
              "        [6., 6., 6., 6.],\n",
              "        [7., 7., 7., 7.],\n",
              "        [8., 8., 8., 8.],\n",
              "        [9., 9., 9., 9.]])"
            ]
          },
          "metadata": {},
          "execution_count": 27
        }
      ]
    },
    {
      "cell_type": "code",
      "source": [
        "## torch.squeeze() - remove all single dimensions from a target vector \n",
        "x = torch.zeros(2, 1, 2, 1, 2)\n",
        "x.size()\n",
        "torch.Size([2, 1, 2, 1, 2])\n",
        "y = torch.squeeze(x)\n",
        "y.size()\n",
        "torch.Size([2, 2, 2])\n",
        "y = torch.squeeze(x, 0)\n",
        "y.size()\n",
        "torch.Size([2, 1, 2, 1, 2])\n",
        "y = torch.squeeze(x, 1)\n",
        "y.size()\n",
        "torch.Size([2, 2, 1, 2])"
      ],
      "metadata": {
        "colab": {
          "base_uri": "https://localhost:8080/"
        },
        "id": "LSMvQvjpdyTS",
        "outputId": "a63a1037-0285-4b86-9750-48ad956c2359"
      },
      "execution_count": null,
      "outputs": [
        {
          "output_type": "execute_result",
          "data": {
            "text/plain": [
              "torch.Size([2, 2, 1, 2])"
            ]
          },
          "metadata": {},
          "execution_count": 33
        }
      ]
    },
    {
      "cell_type": "code",
      "source": [
        "x = torch.zeros(2, 1, 2, 1, 2)\n",
        "x.size()"
      ],
      "metadata": {
        "colab": {
          "base_uri": "https://localhost:8080/"
        },
        "id": "Eks-oMvngsNg",
        "outputId": "1188d40b-b0e7-4a75-eb0d-0120379c3b1c"
      },
      "execution_count": null,
      "outputs": [
        {
          "output_type": "execute_result",
          "data": {
            "text/plain": [
              "torch.Size([2, 1, 2, 1, 2])"
            ]
          },
          "metadata": {},
          "execution_count": 34
        }
      ]
    },
    {
      "cell_type": "code",
      "source": [
        "torch.Size([2, 1, 2, 1, 2])\n",
        "y = torch.squeeze(x)"
      ],
      "metadata": {
        "id": "D94eIhbvhJcR"
      },
      "execution_count": null,
      "outputs": []
    },
    {
      "cell_type": "code",
      "source": [
        "y.size()"
      ],
      "metadata": {
        "colab": {
          "base_uri": "https://localhost:8080/"
        },
        "id": "SsR_f7qehRKB",
        "outputId": "76edea0a-c326-4609-ac12-015e4a26fc39"
      },
      "execution_count": null,
      "outputs": [
        {
          "output_type": "execute_result",
          "data": {
            "text/plain": [
              "torch.Size([2, 2, 2])"
            ]
          },
          "metadata": {},
          "execution_count": 37
        }
      ]
    },
    {
      "cell_type": "code",
      "source": [
        "x_reshaped.squeeze()"
      ],
      "metadata": {
        "colab": {
          "base_uri": "https://localhost:8080/"
        },
        "id": "aQ8Bs5XXhR6R",
        "outputId": "75603ab2-e991-479c-c32a-4334c230d212"
      },
      "execution_count": null,
      "outputs": [
        {
          "output_type": "execute_result",
          "data": {
            "text/plain": [
              "tensor([5., 2., 3., 4., 5., 6., 7., 8., 9.])"
            ]
          },
          "metadata": {},
          "execution_count": 38
        }
      ]
    },
    {
      "cell_type": "markdown",
      "source": [
        "# This happans when there is a dimension mis-match \n",
        "# Remove extra dimensions from x_reshaped \n",
        "\n"
      ],
      "metadata": {
        "id": "jJFmbVqvhjzV"
      }
    },
    {
      "cell_type": "code",
      "source": [
        "#Squeeze out all single dimension of them \n",
        "# Remove extra dimensions from x_reshaped\n",
        "x_squeezed = x_reshaped.squeeze()\n",
        "print(f\"\\nNew tensor {x_squeezed}\")\n",
        "print(f\"New shape: {x_squeezed.shape}\")"
      ],
      "metadata": {
        "colab": {
          "base_uri": "https://localhost:8080/"
        },
        "id": "P0Cc22u3i_el",
        "outputId": "3db32bd1-c9d3-471f-8ef1-640fe3b45827"
      },
      "execution_count": null,
      "outputs": [
        {
          "output_type": "stream",
          "name": "stdout",
          "text": [
            "\n",
            "New tensor tensor([5., 2., 3., 4., 5., 6., 7., 8., 9.])\n",
            "New shape: torch.Size([9])\n"
          ]
        }
      ]
    },
    {
      "cell_type": "code",
      "source": [
        "# torch.unsqueeze() - add a single dimension to a target tensor at a specific dim \n",
        "print(f\"previous target: {x_squeezed}\")\n",
        "print(f\"previous shape: {x_squeezed.shape}\")\n",
        "\n",
        "\n",
        "# Add an extra dimension with unsqueeze\n",
        "x_unsqueezed = x_squeezed.unsqueeze(dim=0)\n",
        "print(f\"\\nNew tensor: {x_unsqueezed}\")\n",
        "print(f\"New shape: {x_unsqueezed.shape}\")"
      ],
      "metadata": {
        "colab": {
          "base_uri": "https://localhost:8080/"
        },
        "id": "t707XFX4jiD0",
        "outputId": "17415948-d1af-4d20-f287-72dc8f85d99e"
      },
      "execution_count": null,
      "outputs": [
        {
          "output_type": "stream",
          "name": "stdout",
          "text": [
            "previous target: tensor([5., 2., 3., 4., 5., 6., 7., 8., 9.])\n",
            "previous shape: torch.Size([9])\n",
            "\n",
            "New tensor: tensor([[5., 2., 3., 4., 5., 6., 7., 8., 9.]])\n",
            "New shape: torch.Size([1, 9])\n"
          ]
        }
      ]
    },
    {
      "cell_type": "code",
      "source": [
        "#you use permute with images\n",
        "#they share the same space and memory as x_original\n",
        "x_original = torch.rand(size = (224, 224, 3))  #[height, width, colour_channels]\n",
        "\n",
        "# Permut the original tensor to rearrange the axis (or dim) order\n",
        "x_permuted = x_original.permute(2, 0, 1) #shift axis 0->, 1->2, 2->0\n",
        "\n",
        "\n",
        "print(f\"Previous shape: {x_original.shape}\")\n",
        "print(f\"New shape:{x_permuted.shape}\")"
      ],
      "metadata": {
        "colab": {
          "base_uri": "https://localhost:8080/"
        },
        "id": "NbnH94J8lB3K",
        "outputId": "6289f8ca-5b51-4ab4-cd4a-da83c75488e1"
      },
      "execution_count": null,
      "outputs": [
        {
          "output_type": "stream",
          "name": "stdout",
          "text": [
            "Previous shape: torch.Size([224, 224, 3])\n",
            "New shape:torch.Size([3, 224, 224])\n"
          ]
        }
      ]
    },
    {
      "cell_type": "code",
      "source": [
        "## select data from tensor with indexing\n",
        "x = torch.arange(1, 10).reshape(1, 3, 3)\n",
        "x, x.shape"
      ],
      "metadata": {
        "colab": {
          "base_uri": "https://localhost:8080/"
        },
        "id": "HPAd1Ns-lJTB",
        "outputId": "388be895-6022-40a1-f8a5-0fba12d77bf4"
      },
      "execution_count": null,
      "outputs": [
        {
          "output_type": "execute_result",
          "data": {
            "text/plain": [
              "(tensor([[[1, 2, 3],\n",
              "          [4, 5, 6],\n",
              "          [7, 8, 9]]]), torch.Size([1, 3, 3]))"
            ]
          },
          "metadata": {},
          "execution_count": 50
        }
      ]
    },
    {
      "cell_type": "code",
      "source": [
        "# Let's index on our new tensor\n",
        "x[0] #zero bracket\n"
      ],
      "metadata": {
        "colab": {
          "base_uri": "https://localhost:8080/"
        },
        "id": "rSMxdapMpzyW",
        "outputId": "054954ad-0be4-4dbd-8994-f2806d84bbb3"
      },
      "execution_count": null,
      "outputs": [
        {
          "output_type": "execute_result",
          "data": {
            "text/plain": [
              "tensor([1, 2, 3])"
            ]
          },
          "metadata": {},
          "execution_count": 52
        }
      ]
    },
    {
      "cell_type": "code",
      "source": [
        "#let's index on the first row \n",
        "x[0][0]"
      ],
      "metadata": {
        "colab": {
          "base_uri": "https://localhost:8080/"
        },
        "id": "R5em2WcsqD_1",
        "outputId": "0413eaed-da3a-4494-f7a3-15ace1fc2941"
      },
      "execution_count": null,
      "outputs": [
        {
          "output_type": "execute_result",
          "data": {
            "text/plain": [
              "tensor([1, 2, 3])"
            ]
          },
          "metadata": {},
          "execution_count": 53
        }
      ]
    },
    {
      "cell_type": "code",
      "source": [
        "#let's index on the most inner bracket (last dimension)\n",
        "x[0][1][1]"
      ],
      "metadata": {
        "colab": {
          "base_uri": "https://localhost:8080/"
        },
        "id": "Jw3A19UxqjCx",
        "outputId": "b7b5b6d1-f5e7-4ff0-fbbe-974875feaa54"
      },
      "execution_count": null,
      "outputs": [
        {
          "output_type": "execute_result",
          "data": {
            "text/plain": [
              "tensor(5)"
            ]
          },
          "metadata": {},
          "execution_count": 58
        }
      ]
    },
    {
      "cell_type": "code",
      "source": [
        "#youcan also use a \":\" to select \"all\" of the target dimension\n",
        "x[:, :, ]"
      ],
      "metadata": {
        "colab": {
          "base_uri": "https://localhost:8080/"
        },
        "id": "zyr7tXX_qnUO",
        "outputId": "19332e72-10e4-40df-890b-ee085d174492"
      },
      "execution_count": null,
      "outputs": [
        {
          "output_type": "execute_result",
          "data": {
            "text/plain": [
              "tensor([[[1, 2, 3],\n",
              "         [4, 5, 6],\n",
              "         [7, 8, 9]]])"
            ]
          },
          "metadata": {},
          "execution_count": 60
        }
      ]
    },
    {
      "cell_type": "code",
      "source": [
        "#select all values of the 0th and the 1st dimension but only index 1 of the 2nd dimensions\n",
        "x[:, :, 1]"
      ],
      "metadata": {
        "colab": {
          "base_uri": "https://localhost:8080/"
        },
        "id": "AaAPOP-Zr8hc",
        "outputId": "afc5d5b7-dfe4-44cb-98f6-938fac5c743f"
      },
      "execution_count": null,
      "outputs": [
        {
          "output_type": "execute_result",
          "data": {
            "text/plain": [
              "tensor([[2, 5, 8]])"
            ]
          },
          "metadata": {},
          "execution_count": 62
        }
      ]
    },
    {
      "cell_type": "code",
      "source": [
        "#Get  index 0 of the 0th dimension and all the values of the 2nd dimension\n",
        "x[0, 0, :]"
      ],
      "metadata": {
        "colab": {
          "base_uri": "https://localhost:8080/"
        },
        "id": "iUDwOQu4sZND",
        "outputId": "842e5a5a-55aa-4fbb-ddc8-38a6e10d972e"
      },
      "execution_count": null,
      "outputs": [
        {
          "output_type": "execute_result",
          "data": {
            "text/plain": [
              "tensor([1, 2, 3])"
            ]
          },
          "metadata": {},
          "execution_count": 63
        }
      ]
    },
    {
      "cell_type": "code",
      "source": [
        "#index on x to return 9\n",
        "x[0, 2, 2]"
      ],
      "metadata": {
        "colab": {
          "base_uri": "https://localhost:8080/"
        },
        "id": "e4LS7WgRs0W8",
        "outputId": "17a3a84c-2313-4080-be62-c1aaea90c36d"
      },
      "execution_count": null,
      "outputs": [
        {
          "output_type": "execute_result",
          "data": {
            "text/plain": [
              "tensor(9)"
            ]
          },
          "metadata": {},
          "execution_count": 65
        }
      ]
    },
    {
      "cell_type": "code",
      "source": [
        "#index on x to return the last column\n",
        "x[0, :, 2]"
      ],
      "metadata": {
        "colab": {
          "base_uri": "https://localhost:8080/"
        },
        "id": "uvlZDdTMtPqW",
        "outputId": "0c1c4ad6-709a-41d1-8d52-12564fb88350"
      },
      "execution_count": null,
      "outputs": [
        {
          "output_type": "execute_result",
          "data": {
            "text/plain": [
              "tensor([3, 6, 9])"
            ]
          },
          "metadata": {},
          "execution_count": 68
        }
      ]
    },
    {
      "cell_type": "markdown",
      "source": [
        "## Pytorch tensors @ Numpy\n",
        "\n",
        "Numpy is a popular scientific Python numerical computing library.\n",
        "\n",
        "* Data in Numpy, want in Pytorch tensor -> torch.from_numpy(ndaray)\n",
        "* Pytorch tensor -> Numpy -> tourch.Tensor.numpy()"
      ],
      "metadata": {
        "id": "HzmJHIvquUNt"
      }
    },
    {
      "cell_type": "code",
      "source": [
        "#numpy array to tensor \n",
        "array = np.arange(1.0, 8.0)\n",
        "tensor = torch.from_numpy(array).type(torch.float32) #convert from numpy to tensor \n",
        "#when converting python's from numpy array to tensor, tensor will retain the datatype of \n",
        "#the numpy unless orderwise indicated.\n",
        "array, tensor\n"
      ],
      "metadata": {
        "colab": {
          "base_uri": "https://localhost:8080/"
        },
        "id": "DH6L4eZjwlB3",
        "outputId": "de45b594-29a1-49a5-ce53-57f68ee7f2b0"
      },
      "execution_count": null,
      "outputs": [
        {
          "output_type": "execute_result",
          "data": {
            "text/plain": [
              "(array([1., 2., 3., 4., 5., 6., 7.]), tensor([1., 2., 3., 4., 5., 6., 7.]))"
            ]
          },
          "metadata": {},
          "execution_count": 77
        }
      ]
    },
    {
      "cell_type": "code",
      "source": [
        "array.dtype, tensor.dtype"
      ],
      "metadata": {
        "colab": {
          "base_uri": "https://localhost:8080/"
        },
        "id": "JI_yMJ0MxI8n",
        "outputId": "c7b25084-9ff8-409b-8233-12253c07721c"
      },
      "execution_count": null,
      "outputs": [
        {
          "output_type": "execute_result",
          "data": {
            "text/plain": [
              "(dtype('float64'), torch.float32)"
            ]
          },
          "metadata": {},
          "execution_count": 76
        }
      ]
    },
    {
      "cell_type": "markdown",
      "source": [
        "## Reproducibility  (trying to take random out of random)\n",
        "In short how a neural network learns:\n",
        "\n",
        "`start with random numbers -> tensor operations -> update random numbers to try\n",
        "make them better representations of the data -> again -> again -> again...`\n",
        "\n",
        "To reduce the randomness in neural networks and Python comes the concept of a **random seed**\n",
        "\n",
        "\n",
        "Essentially, what the random seed does is \"flavour\" the randomness.\n",
        "\n"
      ],
      "metadata": {
        "id": "6pgDTA-AxfzR"
      }
    },
    {
      "cell_type": "code",
      "source": [
        "torch.rand(3, 3)"
      ],
      "metadata": {
        "colab": {
          "base_uri": "https://localhost:8080/"
        },
        "id": "oB_JMoqB0hyA",
        "outputId": "34589333-8142-4b38-db8b-837821037d3e"
      },
      "execution_count": null,
      "outputs": [
        {
          "output_type": "execute_result",
          "data": {
            "text/plain": [
              "tensor([[0.2479, 0.2598, 0.9795],\n",
              "        [0.6332, 0.4897, 0.0675],\n",
              "        [0.9900, 0.9664, 0.8818]])"
            ]
          },
          "metadata": {},
          "execution_count": 79
        }
      ]
    },
    {
      "cell_type": "code",
      "source": [
        "#create two random tensors \n",
        "random_tensor_A = torch.rand(3, 4)\n",
        "random_tensor_B = torch.rand(3, 4)"
      ],
      "metadata": {
        "id": "uenMloiL0rTP"
      },
      "execution_count": null,
      "outputs": []
    },
    {
      "cell_type": "code",
      "source": [
        "print(random_tensor_A)\n",
        "print(random_tensor_B)\n",
        "print(random_tensor_A == random_tensor_B) #None of the elements are equal.\n"
      ],
      "metadata": {
        "colab": {
          "base_uri": "https://localhost:8080/"
        },
        "id": "fD9qaClk1lCV",
        "outputId": "56d117a3-9ded-4ab0-9f36-1214f85a5ca7"
      },
      "execution_count": null,
      "outputs": [
        {
          "output_type": "stream",
          "name": "stdout",
          "text": [
            "tensor([[0.2153, 0.2984, 0.3880, 0.7171],\n",
            "        [0.4298, 0.8730, 0.2406, 0.3612],\n",
            "        [0.2747, 0.1984, 0.8739, 0.8835]])\n",
            "tensor([[0.2768, 0.2486, 0.3461, 0.5279],\n",
            "        [0.2906, 0.6228, 0.8684, 0.8621],\n",
            "        [0.1339, 0.5243, 0.3137, 0.2000]])\n",
            "tensor([[False, False, False, False],\n",
            "        [False, False, False, False],\n",
            "        [False, False, False, False]])\n"
          ]
        }
      ]
    },
    {
      "cell_type": "code",
      "source": [
        "#Let's male some random but reproducible tensors \n",
        "#set the random seed \n",
        "RANDOM_SEED = 42\n",
        "torch.manual_seed(RANDOM_SEED)\n",
        "random_tensor_C = torch.rand(3, 4)\n",
        "\n",
        "torch.manual_seed(RANDOM_SEED)\n",
        "random_tensor_D = torch.rand(3, 4)\n",
        "\n",
        "\n",
        "print(random_tensor_C)\n",
        "print(random_tensor_D)\n",
        "print(random_tensor_C == random_tensor_D)  #its only work for one line of code."
      ],
      "metadata": {
        "colab": {
          "base_uri": "https://localhost:8080/"
        },
        "id": "gBFznL_11qBU",
        "outputId": "12436475-c43f-4b6f-9a70-88ac46940925"
      },
      "execution_count": null,
      "outputs": [
        {
          "output_type": "stream",
          "name": "stdout",
          "text": [
            "tensor([[0.8823, 0.9150, 0.3829, 0.9593],\n",
            "        [0.3904, 0.6009, 0.2566, 0.7936],\n",
            "        [0.9408, 0.1332, 0.9346, 0.5936]])\n",
            "tensor([[0.8823, 0.9150, 0.3829, 0.9593],\n",
            "        [0.3904, 0.6009, 0.2566, 0.7936],\n",
            "        [0.9408, 0.1332, 0.9346, 0.5936]])\n",
            "tensor([[True, True, True, True],\n",
            "        [True, True, True, True],\n",
            "        [True, True, True, True]])\n"
          ]
        }
      ]
    },
    {
      "cell_type": "markdown",
      "source": [
        "Extra Resources for Reproducibility"
      ],
      "metadata": {
        "id": "B_I20Sgg25e9"
      }
    },
    {
      "cell_type": "markdown",
      "source": [
        "## Running tensors and Pytorch objects on GPUs (and making faster compuation)\n",
        "GPU = faster computation on numbers, thanks to cuda + nvidia + Pytorch working behind the sceens"
      ],
      "metadata": {
        "id": "yJRTwy6V32Dk"
      }
    },
    {
      "cell_type": "markdown",
      "source": [
        "1) easiest -  Use Google colab for free GPU (options to upgrade as well)\n",
        "\n",
        "2) Use your own GPU as well but this requires alot of investment of purchasing a GPU, there's lots of options...\n",
        "\n",
        "3)Usse cloud computing - GCP, AWS, Azure, these services allow you to rent computers on the cloud and access them.\n",
        "\n",
        "For 2, 3 Pytorch + GPU drivers (CUDA) takes a little bit of setting up, to do this, refer to PyTorch setup documentation: https://pytorch.org/get-started"
      ],
      "metadata": {
        "id": "dbgk3u8R4N8_"
      }
    },
    {
      "cell_type": "code",
      "source": [
        "!nvidia-smi"
      ],
      "metadata": {
        "colab": {
          "base_uri": "https://localhost:8080/"
        },
        "id": "OQqlHZ-rsNtZ",
        "outputId": "80486ba2-2779-4fd5-9b95-f7776697f701"
      },
      "execution_count": null,
      "outputs": [
        {
          "output_type": "stream",
          "name": "stdout",
          "text": [
            "Sun Feb  5 17:56:51 2023       \n",
            "+-----------------------------------------------------------------------------+\n",
            "| NVIDIA-SMI 510.47.03    Driver Version: 510.47.03    CUDA Version: 11.6     |\n",
            "|-------------------------------+----------------------+----------------------+\n",
            "| GPU  Name        Persistence-M| Bus-Id        Disp.A | Volatile Uncorr. ECC |\n",
            "| Fan  Temp  Perf  Pwr:Usage/Cap|         Memory-Usage | GPU-Util  Compute M. |\n",
            "|                               |                      |               MIG M. |\n",
            "|===============================+======================+======================|\n",
            "|   0  Tesla T4            Off  | 00000000:00:04.0 Off |                    0 |\n",
            "| N/A   46C    P0    23W /  70W |      0MiB / 15360MiB |      0%      Default |\n",
            "|                               |                      |                  N/A |\n",
            "+-------------------------------+----------------------+----------------------+\n",
            "                                                                               \n",
            "+-----------------------------------------------------------------------------+\n",
            "| Processes:                                                                  |\n",
            "|  GPU   GI   CI        PID   Type   Process name                  GPU Memory |\n",
            "|        ID   ID                                                   Usage      |\n",
            "|=============================================================================|\n",
            "|  No running processes found                                                 |\n",
            "+-----------------------------------------------------------------------------+\n"
          ]
        }
      ]
    },
    {
      "cell_type": "markdown",
      "source": [
        "### 2. Check for GPU access with PyTorch\n",
        "\n",
        "For PyTorch since it's capable of running compute on the GPU or CPU, it's best practice to setup device agnostic code:\n",
        "\n",
        "https://pytorch.org/docs/stable/notes/cuda.html#best-practices\n",
        "\n",
        "E.g. run on GPU if available, else default to CPU."
      ],
      "metadata": {
        "id": "xbx8yR-wuSYY"
      }
    },
    {
      "cell_type": "code",
      "source": [
        "import torch\n",
        "torch.cuda.is_available()"
      ],
      "metadata": {
        "colab": {
          "base_uri": "https://localhost:8080/"
        },
        "id": "VJJFvKN2u2MO",
        "outputId": "32820421-e573-4f8e-b55b-818b6a888bfa"
      },
      "execution_count": null,
      "outputs": [
        {
          "output_type": "execute_result",
          "data": {
            "text/plain": [
              "True"
            ]
          },
          "metadata": {},
          "execution_count": 2
        }
      ]
    },
    {
      "cell_type": "code",
      "source": [
        "# setup device agnostic code: This is important because you might not always have access to GPU, however, if there was access to GPU, use it when it is available.\n",
        "device = \"cuda\" if torch.cuda.is_available() else \"cpu\" #This means check if cuda is available, if it is use it if not use \"cpu\"\n",
        "device "
      ],
      "metadata": {
        "colab": {
          "base_uri": "https://localhost:8080/",
          "height": 35
        },
        "id": "J-cu0u-3vVhQ",
        "outputId": "791f5c0c-a2eb-466d-a823-3c792819ce30"
      },
      "execution_count": null,
      "outputs": [
        {
          "output_type": "execute_result",
          "data": {
            "text/plain": [
              "'cuda'"
            ],
            "application/vnd.google.colaboratory.intrinsic+json": {
              "type": "string"
            }
          },
          "metadata": {},
          "execution_count": 3
        }
      ]
    },
    {
      "cell_type": "code",
      "source": [
        "# Count number of devices: count tne number of device available.\n",
        "torch.cuda.device_count()"
      ],
      "metadata": {
        "colab": {
          "base_uri": "https://localhost:8080/"
        },
        "id": "W1qxHmZqwCp2",
        "outputId": "92a92052-d17f-43e4-f2da-5fd42481450b"
      },
      "execution_count": null,
      "outputs": [
        {
          "output_type": "execute_result",
          "data": {
            "text/plain": [
              "1"
            ]
          },
          "metadata": {},
          "execution_count": 5
        }
      ]
    },
    {
      "cell_type": "markdown",
      "source": [
        "## Putting tensors (and models) on GPU\n",
        "\n",
        "\n",
        "The reason we want our tensors/models on GPU is because using a GPU results in faster computation.\n",
        "\n",
        "This is because it is much faster to run tensors operations on GPU."
      ],
      "metadata": {
        "id": "o_GNXq-pwV3g"
      }
    },
    {
      "cell_type": "code",
      "source": [
        "#Create a tensor (default on the CPU): by default, device parameter is on CPU\n",
        "tensor = torch.tensor([1, 2, 3])\n",
        "\n",
        "#Tensor not on GPU\n",
        "print(tensor, tensor.device)"
      ],
      "metadata": {
        "colab": {
          "base_uri": "https://localhost:8080/"
        },
        "id": "XyGWAk0qyVkN",
        "outputId": "674749fa-fb18-4478-ab80-79a03246d52f"
      },
      "execution_count": null,
      "outputs": [
        {
          "output_type": "stream",
          "name": "stdout",
          "text": [
            "tensor([1, 2, 3]) cpu\n"
          ]
        }
      ]
    },
    {
      "cell_type": "code",
      "source": [
        "# Move tensor to GPU (if available): This method will work on what ever target device available.\n",
        "#it can also be use for models.\n",
        "tensor_on_gpu = tensor.to(device)\n",
        "tensor_on_gpu"
      ],
      "metadata": {
        "colab": {
          "base_uri": "https://localhost:8080/"
        },
        "id": "1CHy9qVnzAQu",
        "outputId": "f7f120b9-7f27-4334-f76e-18acc4530491"
      },
      "execution_count": null,
      "outputs": [
        {
          "output_type": "execute_result",
          "data": {
            "text/plain": [
              "tensor([1, 2, 3], device='cuda:0')"
            ]
          },
          "metadata": {},
          "execution_count": 11
        }
      ]
    },
    {
      "cell_type": "markdown",
      "source": [
        "### 4. Moving tensor back to the cpu\n"
      ],
      "metadata": {
        "id": "3RYwvov20MY9"
      }
    },
    {
      "cell_type": "code",
      "source": [
        "# If tensor is on GPU, can't transform it to Numpy: We need to call tensor.cpu() to bring back to cpu then use numpy on it.\n",
        "tensor_back_on_cpu = tensor_on_gpu.cpu().numpy()\n",
        "tensor_back_on_cpu"
      ],
      "metadata": {
        "colab": {
          "base_uri": "https://localhost:8080/"
        },
        "id": "oGGifUMO0fd_",
        "outputId": "8cc7a0bc-4b72-4237-bbfe-c100ed2d3f83"
      },
      "execution_count": null,
      "outputs": [
        {
          "output_type": "execute_result",
          "data": {
            "text/plain": [
              "array([1, 2, 3])"
            ]
          },
          "metadata": {},
          "execution_count": 16
        }
      ]
    },
    {
      "cell_type": "code",
      "source": [
        "tensor_on_gpu"
      ],
      "metadata": {
        "colab": {
          "base_uri": "https://localhost:8080/"
        },
        "id": "IdFKSZpE0tVo",
        "outputId": "c49f2f62-fd17-4960-bb8b-a05b9ae417ae"
      },
      "execution_count": null,
      "outputs": [
        {
          "output_type": "execute_result",
          "data": {
            "text/plain": [
              "tensor([1, 2, 3], device='cuda:0')"
            ]
          },
          "metadata": {},
          "execution_count": 17
        }
      ]
    },
    {
      "cell_type": "markdown",
      "source": [
        "## Excercises"
      ],
      "metadata": {
        "id": "cTpNjJtW1y2k"
      }
    },
    {
      "cell_type": "code",
      "source": [
        "# Create a random tensor with shape (7, 7)\n",
        "a = torch.rand(7, 7)\n",
        "a"
      ],
      "metadata": {
        "colab": {
          "base_uri": "https://localhost:8080/"
        },
        "id": "0mgX3HzH2VOJ",
        "outputId": "a7ece0e8-d6dd-4201-d1e9-836d5ed11383"
      },
      "execution_count": null,
      "outputs": [
        {
          "output_type": "execute_result",
          "data": {
            "text/plain": [
              "tensor([[2.0943e-02, 7.3708e-02, 5.4186e-01, 3.1255e-01, 8.5121e-01, 9.1982e-01,\n",
              "         4.8423e-01],\n",
              "        [6.9769e-01, 2.1815e-01, 7.3756e-01, 3.1769e-01, 2.1356e-01, 2.2877e-01,\n",
              "         3.9812e-01],\n",
              "        [2.7546e-01, 2.8978e-01, 4.3005e-01, 8.0240e-01, 2.6956e-01, 7.8491e-01,\n",
              "         6.7034e-01],\n",
              "        [3.7774e-01, 3.0536e-01, 9.7119e-01, 1.0322e-01, 1.0952e-01, 9.4265e-01,\n",
              "         1.8185e-01],\n",
              "        [2.3081e-01, 1.9437e-01, 1.5463e-01, 4.2298e-01, 7.2333e-01, 3.0933e-01,\n",
              "         3.3695e-01],\n",
              "        [5.5237e-01, 7.3752e-01, 9.1673e-01, 6.3347e-01, 5.0799e-01, 5.7235e-01,\n",
              "         9.7072e-04],\n",
              "        [8.8905e-01, 4.5855e-02, 2.6795e-01, 3.6608e-01, 9.3206e-01, 1.6052e-01,\n",
              "         7.3058e-01]])"
            ]
          },
          "metadata": {},
          "execution_count": 32
        }
      ]
    },
    {
      "cell_type": "code",
      "source": [
        "# Create a matrix multiplication on the tensor 2 with another random tensor (1, 7)\n",
        "# because the inner index is the same, you can multiply the two matrix \n",
        "b = torch.rand(1, 7).T\n",
        "b"
      ],
      "metadata": {
        "colab": {
          "base_uri": "https://localhost:8080/"
        },
        "id": "dInqZCj05Yrk",
        "outputId": "f809dcc2-3d3d-4f0b-e3a6-ef24293e2147"
      },
      "execution_count": null,
      "outputs": [
        {
          "output_type": "execute_result",
          "data": {
            "text/plain": [
              "tensor([[0.7658],\n",
              "        [0.7389],\n",
              "        [0.6624],\n",
              "        [0.0110],\n",
              "        [0.1300],\n",
              "        [0.8630],\n",
              "        [0.3789]])"
            ]
          },
          "metadata": {},
          "execution_count": 33
        }
      ]
    },
    {
      "cell_type": "code",
      "source": [
        "torch.matmul(a, b)"
      ],
      "metadata": {
        "colab": {
          "base_uri": "https://localhost:8080/"
        },
        "id": "ztlTpXCO6G-C",
        "outputId": "5a4ba7b5-d609-4dc1-ce79-eb8a31da20fb"
      },
      "execution_count": null,
      "outputs": [
        {
          "output_type": "execute_result",
          "data": {
            "text/plain": [
              "tensor([[1.5207],\n",
              "        [1.5635],\n",
              "        [1.6851],\n",
              "        [2.0560],\n",
              "        [0.9160],\n",
              "        [2.1424],\n",
              "        [1.4327]])"
            ]
          },
          "metadata": {},
          "execution_count": 34
        }
      ]
    },
    {
      "cell_type": "code",
      "source": [],
      "metadata": {
        "id": "cZ8OCkLy6KLn"
      },
      "execution_count": null,
      "outputs": []
    }
  ]
}